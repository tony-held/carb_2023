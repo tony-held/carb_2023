{
  "nbformat": 4,
  "nbformat_minor": 0,
  "metadata": {
    "colab": {
      "provenance": [],
      "machine_shape": "hm",
      "authorship_tag": "ABX9TyNGC+l0RvpP9DK6hANwkHZ9",
      "include_colab_link": true
    },
    "kernelspec": {
      "name": "python3",
      "display_name": "Python 3"
    },
    "language_info": {
      "name": "python"
    }
  },
  "cells": [
    {
      "cell_type": "markdown",
      "metadata": {
        "id": "view-in-github",
        "colab_type": "text"
      },
      "source": [
        "<a href=\"https://colab.research.google.com/github/tony-held/carb_2023/blob/main/speed_test_cpu_only.ipynb\" target=\"_parent\"><img src=\"https://colab.research.google.com/assets/colab-badge.svg\" alt=\"Open In Colab\"/></a>"
      ]
    },
    {
      "cell_type": "code",
      "execution_count": 4,
      "metadata": {
        "colab": {
          "base_uri": "https://localhost:8080/"
        },
        "id": "OUL3_rdTy38o",
        "outputId": "21216466-a824-4846-b134-66f4a4617370"
      },
      "outputs": [
        {
          "output_type": "stream",
          "name": "stdout",
          "text": [
            "[PhysicalDevice(name='/physical_device:CPU:0', device_type='CPU')]\n",
            "2.14.0\n"
          ]
        }
      ],
      "source": [
        "# Example script to evaluate CPU/GPU processer speed\n",
        "# For potential CARB ML workstation using the mnist fashion dataset\n",
        "# Created by: Tony Held, 11/19/23\n",
        "\n",
        "import tensorflow as tf\n",
        "import datetime\n",
        "\n",
        "print(tf.config.list_physical_devices())\n",
        "\n",
        "# Helper libraries\n",
        "print(tf.__version__)\n",
        "\n",
        "\n",
        "fashion_mnist = tf.keras.datasets.fashion_mnist\n",
        "\n",
        "(train_images, train_labels), (test_images, test_labels) = fashion_mnist.load_data()\n",
        "\n",
        "\n",
        "class_names = ['T-shirt/top', 'Trouser', 'Pullover', 'Dress', 'Coat',\n",
        "               'Sandal', 'Shirt', 'Sneaker', 'Bag', 'Ankle boot']\n",
        "\n",
        "train_images = train_images / 255.0\n",
        "test_images = test_images / 255.0\n",
        "\n",
        "# Overly complex model to simulate such a simple dataset, but useful to\n",
        "# for the determination of CPU/GPU speed on a simple CNN configuration\n",
        "\n",
        "model = tf.keras.Sequential([\n",
        "\n",
        "    tf.keras.layers.Conv2D(10, 3, activation='relu', input_shape=(28, 28, 1)),  # same input shape as our images\n",
        "    tf.keras.layers.Conv2D(10, 3, activation='relu'),\n",
        "    tf.keras.layers.MaxPool2D(),\n",
        "    tf.keras.layers.Conv2D(10, 3, activation='relu'),\n",
        "    tf.keras.layers.Conv2D(10, 3, activation='relu'),\n",
        "    tf.keras.layers.MaxPool2D(),\n",
        "    tf.keras.layers.Flatten(),\n",
        "\n",
        "    # tf.keras.layers.Flatten(input_shape=(28, 28)),\n",
        "    tf.keras.layers.Dense(128, activation='relu'),\n",
        "    tf.keras.layers.Dense(10)\n",
        "])\n",
        "\n",
        "model.compile(optimizer='adam',\n",
        "              loss=tf.keras.losses.SparseCategoricalCrossentropy(from_logits=True),\n",
        "              metrics=['accuracy'])"
      ]
    },
    {
      "cell_type": "code",
      "source": [
        "start_time = datetime.datetime.now()\n",
        "print(f\"{start_time=}\")\n",
        "\n",
        "model.fit(train_images, train_labels, epochs=20)\n",
        "\n",
        "test_loss, test_acc = model.evaluate(test_images,  test_labels, verbose=2)\n",
        "\n",
        "print('\\nTest accuracy:', test_acc)\n",
        "end_time = datetime.datetime.now()\n",
        "print(f\"{end_time=}\")\n",
        "\n",
        "elaspsed_time = end_time - start_time\n",
        "print(f\"{elaspsed_time=}\")"
      ],
      "metadata": {
        "id": "Haddp-ety80e",
        "colab": {
          "base_uri": "https://localhost:8080/"
        },
        "outputId": "5092d820-807b-43d3-a383-4be9d6419216"
      },
      "execution_count": 5,
      "outputs": [
        {
          "output_type": "stream",
          "name": "stdout",
          "text": [
            "start_time=datetime.datetime(2023, 11, 29, 18, 5, 41, 885217)\n",
            "Epoch 1/20\n",
            "1875/1875 [==============================] - 24s 12ms/step - loss: 0.5612 - accuracy: 0.7938\n",
            "Epoch 2/20\n",
            "1875/1875 [==============================] - 23s 12ms/step - loss: 0.3832 - accuracy: 0.8595\n",
            "Epoch 3/20\n",
            "1875/1875 [==============================] - 23s 12ms/step - loss: 0.3357 - accuracy: 0.8755\n",
            "Epoch 4/20\n",
            "1875/1875 [==============================] - 24s 13ms/step - loss: 0.3067 - accuracy: 0.8857\n",
            "Epoch 5/20\n",
            "1875/1875 [==============================] - 24s 13ms/step - loss: 0.2851 - accuracy: 0.8932\n",
            "Epoch 6/20\n",
            "1875/1875 [==============================] - 23s 12ms/step - loss: 0.2693 - accuracy: 0.9002\n",
            "Epoch 7/20\n",
            "1875/1875 [==============================] - 23s 12ms/step - loss: 0.2544 - accuracy: 0.9050\n",
            "Epoch 8/20\n",
            "1875/1875 [==============================] - 23s 12ms/step - loss: 0.2448 - accuracy: 0.9086\n",
            "Epoch 9/20\n",
            "1875/1875 [==============================] - 23s 12ms/step - loss: 0.2342 - accuracy: 0.9115\n",
            "Epoch 10/20\n",
            "1875/1875 [==============================] - 23s 12ms/step - loss: 0.2241 - accuracy: 0.9158\n",
            "Epoch 11/20\n",
            "1875/1875 [==============================] - 23s 12ms/step - loss: 0.2156 - accuracy: 0.9185\n",
            "Epoch 12/20\n",
            "1875/1875 [==============================] - 24s 13ms/step - loss: 0.2077 - accuracy: 0.9219\n",
            "Epoch 13/20\n",
            "1875/1875 [==============================] - 24s 13ms/step - loss: 0.2020 - accuracy: 0.9246\n",
            "Epoch 14/20\n",
            "1875/1875 [==============================] - 23s 12ms/step - loss: 0.1964 - accuracy: 0.9253\n",
            "Epoch 15/20\n",
            "1875/1875 [==============================] - 23s 13ms/step - loss: 0.1897 - accuracy: 0.9288\n",
            "Epoch 16/20\n",
            "1875/1875 [==============================] - 23s 12ms/step - loss: 0.1842 - accuracy: 0.9312\n",
            "Epoch 17/20\n",
            "1875/1875 [==============================] - 23s 12ms/step - loss: 0.1781 - accuracy: 0.9323\n",
            "Epoch 18/20\n",
            "1875/1875 [==============================] - 24s 13ms/step - loss: 0.1735 - accuracy: 0.9358\n",
            "Epoch 19/20\n",
            "1875/1875 [==============================] - 23s 12ms/step - loss: 0.1698 - accuracy: 0.9361\n",
            "Epoch 20/20\n",
            "1875/1875 [==============================] - 23s 12ms/step - loss: 0.1633 - accuracy: 0.9385\n",
            "313/313 - 2s - loss: 0.2918 - accuracy: 0.9057 - 2s/epoch - 5ms/step\n",
            "\n",
            "Test accuracy: 0.9057000279426575\n",
            "end_time=datetime.datetime(2023, 11, 29, 18, 13, 32, 222282)\n",
            "elaspsed_time=datetime.timedelta(seconds=470, microseconds=337065)\n"
          ]
        }
      ]
    },
    {
      "cell_type": "code",
      "source": [],
      "metadata": {
        "id": "tIRyHQLvNmKj"
      },
      "execution_count": null,
      "outputs": []
    }
  ]
}