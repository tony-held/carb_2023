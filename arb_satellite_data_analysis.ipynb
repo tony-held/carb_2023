{
  "cells": [
    {
      "cell_type": "markdown",
      "metadata": {
        "id": "view-in-github",
        "colab_type": "text"
      },
      "source": [
        "<a href=\"https://colab.research.google.com/github/tony-held/carb_2023/blob/main/arb_satellite_data_analysis.ipynb\" target=\"_parent\"><img src=\"https://colab.research.google.com/assets/colab-badge.svg\" alt=\"Open In Colab\"/></a>"
      ]
    },
    {
      "cell_type": "markdown",
      "metadata": {
        "collapsed": false,
        "jupyter": {
          "outputs_hidden": false
        },
        "id": "KyAL0lKE65S6"
      },
      "source": [
        "# Fictitious Satellite and Facility Response Database Analysis"
      ]
    },
    {
      "cell_type": "markdown",
      "metadata": {
        "collapsed": false,
        "jupyter": {
          "outputs_hidden": false
        },
        "id": "DCy1wx3I65S8"
      },
      "source": [
        "## Introduction"
      ]
    },
    {
      "cell_type": "markdown",
      "metadata": {
        "collapsed": false,
        "jupyter": {
          "outputs_hidden": false
        },
        "id": "OZTYGm-C65S8"
      },
      "source": [
        "This jupyter notebook presents the methodology and results of the fictitious satellite and facility response database by Tony Held (tony.held@gmail.com).\n",
        "\n",
        "A jupyter notebook is an interactive way to run python and was selected for this analysis for the following reasons:\n",
        "\n",
        "* Jupyter notebook code can be annotated/documented so that all analysis assumptions are explicit and all results are reproducible.\n",
        "* Notebooks can be shared/cloned to allow 3rd parties to explore analysis approaches and to suggest enhancements through code repository systems such as git.\n",
        "* The python packages are all open source and free so there are no licensing fees.\n",
        "* Jupyter cells can be modified and alternative analysis can be explored for quick prototyping."
      ]
    },
    {
      "cell_type": "markdown",
      "metadata": {
        "collapsed": false,
        "jupyter": {
          "outputs_hidden": false
        },
        "id": "WcoflJ4E65S8"
      },
      "source": [
        "## How to View and/or Run This Notebook\n",
        "It is recommended that this notebook be viewed and/or run from Google Colabs to ensure that required analysis packages are properly installed.  Google Colabs is free (like Google Doc or Google Sheet) but it does require a google account.\n",
        "\n",
        "If you wish only to view the file, you can scroll the file and read its contents like a word document in read-only mode.  If you wish to change and or run the notebook, the notebook should be cloned to your google account (in Google Drive) and then run directly in Colab.\n",
        "\n",
        "Google has a great intro on how to get started in Colab which can bee seen here: https://colab.research.google.com/\n",
        "\n",
        "There are a variety of ways to put this notebook on your Google Drive and view/run the notebook.  One approach would be the following:\n",
        "* Download this file to your local hard drive\n",
        "* Open google colab in your browser: https://colab.research.google.com/\n",
        "* Select File -> Upload Notebook and select this file on your local drive\n",
        "* Select File -> Save a Copy to Drive to put a copy of this notebook on your Google Drive in the Colabs folder.  This will also open a new window with the notebook now hosted on your drive.\n",
        "* You can run/edit the Colab notebook in the new window as you have read/write permission to run notebooks that are in your Drive.\n",
        "* View the file first to see the original results in view mode\n",
        "* Select Runtime -> Run all to run all cells in the notebook and redo the data analysis."
      ]
    },
    {
      "cell_type": "markdown",
      "metadata": {
        "collapsed": false,
        "jupyter": {
          "outputs_hidden": false
        },
        "id": "xG1ATzap65S9"
      },
      "source": [
        "# Install Required Python Packages\n",
        "The Python language has a rich set of packages (also know as libraries) for scientific computing.  The following lines of code will ensure that the required packages for this analysis will be installed on the local machine/server.\n"
      ]
    },
    {
      "cell_type": "code",
      "execution_count": null,
      "metadata": {
        "jupyter": {
          "outputs_hidden": false
        },
        "id": "hlFOTQ2D65S9"
      },
      "outputs": [],
      "source": [
        "# No additional packages require installation for this analysis if using Google Colab"
      ]
    },
    {
      "cell_type": "markdown",
      "metadata": {
        "collapsed": false,
        "jupyter": {
          "outputs_hidden": false
        },
        "id": "UIpmndGi65S9"
      },
      "source": [
        "# Import Required Python Packages\n",
        "Python libraries need to be imported so that they can be called by subsequent code."
      ]
    },
    {
      "cell_type": "code",
      "execution_count": null,
      "metadata": {
        "jupyter": {
          "outputs_hidden": false
        },
        "id": "cL96RHk465S-"
      },
      "outputs": [],
      "source": [
        "import itertools\n",
        "import matplotlib.pyplot as plt\n",
        "import numpy as np\n",
        "import os\n",
        "import pandas as pd\n",
        "import pprint\n",
        "import seaborn as sns\n",
        "import sys\n",
        "import urllib.request\n",
        "import warnings\n",
        "\n",
        "from enum import Enum\n",
        "from pathlib import Path"
      ]
    },
    {
      "cell_type": "markdown",
      "source": [
        "# Ticketing and Ticket Manager Related Source Code"
      ],
      "metadata": {
        "collapsed": false,
        "id": "NN9PNHK765S-"
      }
    },
    {
      "cell_type": "markdown",
      "source": [
        "## Enumeration and Constants\n",
        "* Enumerated classes are used to store record and event types\n",
        "* Enumeration avoids the use of \"magic numbers\" in the code and can often avoid off-by-one issues when number systems start with zero or one.\n",
        "* The Enumerations are based on on the input files:\n",
        "    * record_type.csv,\n",
        "    * satellite_event_status.csv,\n",
        "    * operator_even_status.csv"
      ],
      "metadata": {
        "collapsed": false,
        "id": "-IlcqwEh65S-"
      }
    },
    {
      "cell_type": "code",
      "execution_count": null,
      "metadata": {
        "jupyter": {
          "outputs_hidden": false
        },
        "id": "GVykIQxk65S-"
      },
      "outputs": [],
      "source": [
        "class Constants:\n",
        "  seconds_per_day = 60. * 60. * 24.\n",
        "\n",
        "\n",
        "class RecordType(Enum):\n",
        "  \"\"\"\"\n",
        "  Flag to indicate if a event record is a satellite observation or a facility response.\n",
        "  \"\"\"\n",
        "  satellite_observation = 1\n",
        "  facility_response = 2\n",
        "\n",
        "\n",
        "class SatelliteEvent(Enum):\n",
        "  \"\"\"\n",
        "  Flag to indicate the type of satellite event type.\n",
        "  \"\"\"\n",
        "  no_methane_plume = 0\n",
        "  small_methane_plume = 1\n",
        "  medium_methane_plume = 2\n",
        "  large_methane_plume = 3\n",
        "  cloud_cover = 4\n",
        "\n",
        "\n",
        "class OperatorEvent(Enum):\n",
        "  \"\"\"\n",
        "  Flag to indicate the type of operator event type.\n",
        "  \"\"\"\n",
        "\n",
        "  no_leak_detected = 0\n",
        "  leak_confirmed = 1\n",
        "  leak_fixed = 2"
      ]
    },
    {
      "cell_type": "markdown",
      "source": [
        "## Ticket Class"
      ],
      "metadata": {
        "collapsed": false,
        "id": "KDWzDo4t65S-"
      }
    },
    {
      "cell_type": "code",
      "execution_count": null,
      "outputs": [],
      "source": [
        "class Ticket:\n",
        "  \"\"\"\n",
        "  The ticket class is used identify plume detections and associated facility responses.\n",
        "\n",
        "  Notes:\n",
        "    1) A new ticket should be created when a satellite detects a plume at a facility\n",
        "    that does not already have an open ticket.\n",
        "    2) A ticket will log any additional satellite measurements and operator responses\n",
        "    until the ticket is closed.\n",
        "    3) A ticket is closed when an operator indicates that they performed an on-site survey\n",
        "    which determined that a leak was fixed.\n",
        "    4) A no_leak_detected will be logged, but will not close a ticket.\n",
        "    5) The ticketing logic can be modified if one desires so that a ticket is closed by\n",
        "    differing logic.  For example, CARB may create a ticket closure mechanism based on\n",
        "    multiple satellite non-detects after an operator was not able to confirm a plume.\n",
        "    \"\"\"\n",
        "  # id_class is a unique class id for each ticket objects\n",
        "  id_class = itertools.count()\n",
        "\n",
        "  def __init__(self, index, row):\n",
        "    \"\"\"\n",
        "    Create a new ticket.  A ticket can only be created when there is a\n",
        "    satellite plume detection associated with a facility that does not\n",
        "    already have an open ticket.\n",
        "\n",
        "    Args:\n",
        "      index (int): data file row number\n",
        "      row: a single row of data\n",
        "    \"\"\"\n",
        "    self.validate_creation(row)\n",
        "\n",
        "    # Initialize Ticket attributes\n",
        "    self.id = next(Ticket.id_class)\n",
        "    self.is_open = True\n",
        "    self.location_id = row['Location_ID']\n",
        "    self.industrial_sector = row['Industrial_Sector']\n",
        "    self.creation_time = row['Timestamp']\n",
        "    self.confirmed_time = None\n",
        "    self.no_leak_detected_time = None\n",
        "    self.fixed_time = None\n",
        "    self.closed_time = None\n",
        "    self.operator_responses = []\n",
        "    self.plume_count = 0\n",
        "    self.plume_count_after_no_leak_detected = 0\n",
        "    self.satellite_non_plume_count = 0\n",
        "    # sat_detects dictionary keyed off satellite observation type\n",
        "    # with its values a list of database row indices associated with satellite measurements\n",
        "    self.sat_detects = {\n",
        "      SatelliteEvent.no_methane_plume: [],\n",
        "      SatelliteEvent.small_methane_plume: [],\n",
        "      SatelliteEvent.medium_methane_plume: [],\n",
        "      SatelliteEvent.large_methane_plume: [],\n",
        "      SatelliteEvent.cloud_cover: [],\n",
        "    }\n",
        "    # The next line appends the satellite event associated with the\n",
        "    # creation of this ticket to the sat_detects dictionary.\n",
        "    self.sat_detects[SatelliteEvent(row['Event_Status'])].append(index)\n",
        "    self.plume_count += 1\n",
        "\n",
        "  def validate_creation(self, row):\n",
        "    \"\"\"\n",
        "    Ensure that a ticket can only be initialized with a row that is a plume detection.\n",
        "    \"\"\"\n",
        "    record_type = RecordType(row['Record_Type'])\n",
        "    if record_type != RecordType.satellite_observation:\n",
        "      raise ValueError(f\"Ticket can only be initialized with a satellite measurement.\"\n",
        "                       f\"Invalid measurement type: {record_type=}\")\n",
        "    # Ensure first measurement is a plume (not a non-detect nor cloudy measurement)\n",
        "    satellite_event = SatelliteEvent(row['Event_Status'])\n",
        "    if satellite_event not in (SatelliteEvent.small_methane_plume,\n",
        "                               SatelliteEvent.medium_methane_plume,\n",
        "                               SatelliteEvent.large_methane_plume):\n",
        "      raise ValueError(f\"Ticket can only be created with a detected plume.\"\n",
        "                       f\"Invalid creation type: {satellite_event=}\")\n",
        "\n",
        "  def add_row(self, index, row):\n",
        "    \"\"\"\n",
        "    Add an event to an existing ticket.  If the event is the first facility response,\n",
        "    the initial response time will be saved.  The ticket will be closed if the\n",
        "    facility reports a leak fixed event.\n",
        "\n",
        "    Args:\n",
        "      index (int): data file row number\n",
        "      row: a single row of data\n",
        "    \"\"\"\n",
        "    if RecordType(row['Record_Type']) == RecordType.satellite_observation:\n",
        "      # Log any satellite event and keep ticket open\n",
        "      self.log_satellite_event(index, row)\n",
        "    else:\n",
        "      # Log facility response\n",
        "      self.log_operator_response(index, row)\n",
        "\n",
        "  def log_satellite_event(self, index, row):\n",
        "    \"\"\"\n",
        "    Update ticket info related to satellite detects including:\n",
        "      1) update sat_detects dictionary\n",
        "      2) potentially update plume_count, satellite_non_plume_count, and\n",
        "      plume_count_after_no_leak_detected\n",
        "    Args:\n",
        "      index (int): data file row number\n",
        "      row: a single row of data\n",
        "    \"\"\"\n",
        "    event_status = SatelliteEvent(row['Event_Status'])\n",
        "    self.sat_detects[event_status].append(index)\n",
        "\n",
        "    # Update plume count if plume detected\n",
        "    if event_status in (SatelliteEvent.small_methane_plume,\n",
        "                        SatelliteEvent.medium_methane_plume,\n",
        "                        SatelliteEvent.large_methane_plume):\n",
        "      self.plume_count += 1\n",
        "      # If plume_count_after_no_leak_detected if operator previously\n",
        "      # indicated that no leak was detected\n",
        "      if self.no_leak_detected_time is not None:\n",
        "        self.plume_count_after_no_leak_detected += 1\n",
        "    else:\n",
        "      self.satellite_non_plume_count += 1\n",
        "\n",
        "  def log_operator_response(self, index, row):\n",
        "    \"\"\"\n",
        "    Check and save the associated timestamp if a facility has indicated\n",
        "    that a leak was not found, confirmed, or fixed.\n",
        "\n",
        "    Args:\n",
        "      index (int): data file row number\n",
        "      row: a single row of data\n",
        "    \"\"\"\n",
        "    time_stamp = row['Timestamp']\n",
        "    event_status = OperatorEvent(row['Event_Status'])\n",
        "    self.operator_responses.append(index)\n",
        "\n",
        "    if event_status == OperatorEvent.leak_confirmed:\n",
        "      self.confirmed_time = time_stamp\n",
        "    elif event_status == OperatorEvent.no_leak_detected:\n",
        "      self.no_leak_detected_time = time_stamp\n",
        "    elif event_status == OperatorEvent.leak_fixed:\n",
        "      # A fix should only happen after a confirmation\n",
        "      # Warn if the data fail this consistency check\n",
        "      if self.is_confirmed() is False:\n",
        "        message = f\"Data consistency warning. A leak fixed event\" \\\n",
        "                  f\"occurs before a leak confirmed for a facility.\" \\\n",
        "                  f\"data row: {row}\"\n",
        "        warnings.warn(message)\n",
        "      # log fixed and closed times and close the ticket\n",
        "      self.fixed_time = time_stamp\n",
        "      self.closed_time = time_stamp\n",
        "      self.is_open = False\n",
        "\n",
        "  def is_confirmed(self) -> bool:\n",
        "    \"\"\"\n",
        "    Test if the operator has confirmed the leak.\n",
        "    \"\"\"\n",
        "    if self.confirmed_time is not None:\n",
        "      return True\n",
        "    else:\n",
        "      return False\n",
        "\n",
        "  def is_fixed(self) -> bool:\n",
        "    \"\"\"\n",
        "    Test if the operator has fixed the leak.\n",
        "    \"\"\"\n",
        "    if self.fixed_time is not None:\n",
        "      return True\n",
        "    else:\n",
        "      return False\n",
        "\n",
        "  def is_no_leak_detected(self) -> bool:\n",
        "    \"\"\"\n",
        "    Test if the operator has indicated that no leak was detected.\n",
        "    \"\"\"\n",
        "    if self.no_leak_detected_time is not None:\n",
        "      return True\n",
        "    else:\n",
        "      return False\n",
        "\n",
        "  def is_confirmed_not_fixed(self) -> bool:\n",
        "    \"\"\"\n",
        "    Test if the operator has confirmed the leak, but has not fixed it yet.\n",
        "    \"\"\"\n",
        "    if self.is_confirmed() and not self.is_fixed():\n",
        "      return True\n",
        "    else:\n",
        "      return False\n",
        "\n",
        "  def is_confirmed_and_fixed(self) -> bool:\n",
        "    \"\"\"\n",
        "    Test if the operator has both confirmed and fixed the leak.\n",
        "    \"\"\"\n",
        "    if self.is_confirmed() and self.is_fixed():\n",
        "      return True\n",
        "    else:\n",
        "      return False\n",
        "\n",
        "  def __repr__(self):\n",
        "    \"\"\"\n",
        "    Represent a ticket object as a string for detailed diagnostics.\n",
        "    Includes all information from __str__ along with detailed\n",
        "    satellite detection info.\n",
        "    \"\"\"\n",
        "    diag_dict = self.diagnostic_dict()\n",
        "    diag_dict['satellite_data'] = self.sat_detects\n",
        "    my_str = pprint.pformat(diag_dict, indent=4, sort_dicts=False)\n",
        "    return my_str\n",
        "\n",
        "  def __str__(self):\n",
        "    \"\"\"\n",
        "    Represent a ticket object as a string for simplified diagnostics.\n",
        "    \"\"\"\n",
        "    diag_dict = self.diagnostic_dict()\n",
        "    my_str = pprint.pformat(diag_dict, indent=4, sort_dicts=False)\n",
        "    return my_str\n",
        "\n",
        "  def diagnostic_dict(self) -> dict:\n",
        "    \"\"\"\n",
        "    Create diagnostic dictionary used in both __repr__ and __str__\n",
        "    \"\"\"\n",
        "    total_sat_measurements = self.plume_count + self.satellite_non_plume_count\n",
        "\n",
        "    diag_dict = {'id': self.id, 'location id': self.location_id,\n",
        "                 'is_open': self.is_open, 'sector': self.industrial_sector,\n",
        "                 'creation_time': self.creation_time, 'confirm_time': self.confirmed_time,\n",
        "                 'fixed_time': self.fixed_time,\n",
        "                 'satellite plume count': self.plume_count,\n",
        "                 'self.satellite_non_plume_count': self.satellite_non_plume_count,\n",
        "                 'satellite measurement count': total_sat_measurements,\n",
        "                 'self.plume_count_after_no_leak_detected': self.plume_count_after_no_leak_detected,\n",
        "                 }\n",
        "\n",
        "    return diag_dict"
      ],
      "metadata": {
        "id": "IhsgsxLz65S-"
      }
    },
    {
      "cell_type": "markdown",
      "source": [
        "## Ticket Manager Class"
      ],
      "metadata": {
        "collapsed": false,
        "id": "GYKjT4Tg65S_"
      }
    },
    {
      "cell_type": "code",
      "execution_count": null,
      "outputs": [],
      "source": [
        "class TicketManager:\n",
        "  \"\"\"\n",
        "  TicketManager (TM) creates and updates a ticket database based on event processing.\n",
        "  TM has a variety of utility functions (count_confirmed_plumes, etc) to determine\n",
        "  metrics of interest associated with the ticket database.\n",
        "\n",
        "  Notes:\n",
        "    1. A ticket can only be created by a positive satellite measurement if there is\n",
        "    not already a ticket open for the facility.\n",
        "    2. If a facility registers an event that is not associated with an active ticket,\n",
        "    or if a non-detect satellite measurement is made when there is no active ticket,\n",
        "    the event is considered 'orphaned'.\n",
        "    3. Orphaned data are saved for diagnostics, but are not necessary for ticketing.\n",
        "    4. The self.ticket dictionary is the primary TM data structure.\n",
        "      A. Its keys are the facility ids, its values are lists of tickets associated with the facility\n",
        "      B. Tickets are stored sequentially in the ticket list by creation date.\n",
        "      C. Only one ticket associated with a facility can be open at a time.\n",
        "      D. If a facility has an open ticket, it will be the last member of the ticket list\n",
        "    5. location_ids stores which facility locations have one or more events of any kind.\n",
        "      A.  it is stored as a is a set to ensure each member is unique\n",
        "  \"\"\"\n",
        "\n",
        "  def __init__(self):\n",
        "    \"\"\"\n",
        "    Create a new TicketManager\n",
        "    \"\"\"\n",
        "    # Primary TicketManagers fields\n",
        "    self.tickets = {}\n",
        "    self.location_ids = set()\n",
        "    self.rows_processed = 0\n",
        "    self.plume_count = 0\n",
        "    self.open_ticket_count = 0\n",
        "    self.closed_ticket_count = 0\n",
        "\n",
        "    # Orphan related fields that are retained only for diagnostics and debugging\n",
        "    # list of records that have facility response before satellite measurements\n",
        "    self.orphan_facilities = []\n",
        "    # list of records that have cloudy satellite measurements not associated with open ticket\n",
        "    self.orphan_clouds = []\n",
        "    # list of records that have no_plume_detected event not associated with open ticket\n",
        "    self.orphan_no_plumes = []\n",
        "\n",
        "  def verify_location(self, location_id):\n",
        "    \"\"\"\n",
        "    Ensure that a location_id is in the facility_tickets dictionary\n",
        "    \"\"\"\n",
        "    if location_id not in self.tickets:\n",
        "      self.tickets[location_id] = []\n",
        "\n",
        "  def get_open_ticket(self, location_id):\n",
        "    \"\"\"\n",
        "    Get the open ticket associated with a facility (if it exists).\n",
        "\n",
        "    Args:\n",
        "      location_id (int):\n",
        "    Returns (Ticket|None):\n",
        "      Returns a Ticket if one is open for the location, otherwise returns None.\n",
        "    \"\"\"\n",
        "    if location_id not in self.tickets:\n",
        "      return None\n",
        "    # -1 to get the last ticket in the list associated with this facility\n",
        "    last_ticket = self.tickets[location_id][-1]\n",
        "    # Return the ticket if it is open, otherwise return None\n",
        "    if last_ticket.is_open is True:\n",
        "      return last_ticket\n",
        "    else:\n",
        "      return None\n",
        "\n",
        "  def create_ticket(self, location_id, index, row):\n",
        "    \"\"\"\n",
        "    Create an open Ticket for a location based on an satellite plume detection.\n",
        "    Args:\n",
        "      location_id (int):\n",
        "      index (int): data file row number\n",
        "      row: a single row of data\n",
        "\n",
        "    Returns (Ticket):\n",
        "    \"\"\"\n",
        "    self.verify_location(location_id)\n",
        "    ticket = Ticket(index, row)\n",
        "    self.tickets[location_id].append(ticket)\n",
        "    self.open_ticket_count += 1\n",
        "    return ticket\n",
        "\n",
        "  def add_row(self, index, row):\n",
        "    \"\"\"\n",
        "    Process a row of data from the event record database.\n",
        "\n",
        "    Methodology Notes:\n",
        "      1) Determine if there is an open ticket associated with the facility.\n",
        "      2) If there is an open ticket, save all information from the data row to the\n",
        "      ticket (even if it is cloudy or non-detect).\n",
        "      3) If the facility associated with the event does not have an open ticket,\n",
        "      then non-plume detection events (operator response, cloud-cover, or no-plume detected)\n",
        "      will be orphaned (i.e., not associated with a ticket).\n",
        "      4) If there is no open ticket associated with the facility, and the event being processed\n",
        "      is a plume detection measurement, then create a new ticket.\n",
        "      5) This method (TicketManager.add_row) uses Ticket.add_row to save event information to\n",
        "      the appropriate ticket.\n",
        "\n",
        "    Args:\n",
        "      index (int): data file row number\n",
        "      row: a single row of data\n",
        "    \"\"\"\n",
        "    # print(f\"{self.rows_processed}, \"\n",
        "    #       f\"{len(self.orphan_facilities)},\"\n",
        "    #       f\"{len(self.orphan_clouds)},\"\n",
        "    #       f\"{len(self.orphan_no_plumes)},\"\n",
        "    #       )\n",
        "    self.rows_processed += 1\n",
        "    location_id = row['Location_ID']\n",
        "    record_type = row['Record_Type']\n",
        "    event_status = row['Event_Status']\n",
        "\n",
        "    self.location_ids.add(location_id)\n",
        "\n",
        "    # Get the open ticket associated for the location\n",
        "    # Ticket will be None if there is not an open ticket.\n",
        "    ticket = self.get_open_ticket(location_id)\n",
        "\n",
        "    # Case 1.  Orphan a facility response not associated with an open ticket\n",
        "    if RecordType(record_type) == RecordType.facility_response:\n",
        "      if ticket is None:\n",
        "        self.orphan_facilities.append(index)\n",
        "        return\n",
        "\n",
        "    # Case 2. Orphan a cloudy measurement not associated with an open ticket\n",
        "    if RecordType(record_type) == RecordType.satellite_observation:\n",
        "      if SatelliteEvent(event_status) == SatelliteEvent.cloud_cover:\n",
        "        if ticket is None:\n",
        "          self.orphan_clouds.append(index)\n",
        "          return\n",
        "\n",
        "    # Case 3. Orphan a no_plume measurement not associated with an open ticket\n",
        "    if RecordType(record_type) == RecordType.satellite_observation:\n",
        "      if SatelliteEvent(event_status) == SatelliteEvent.no_methane_plume:\n",
        "        if ticket is None:\n",
        "          self.orphan_no_plumes.append(index)\n",
        "          return\n",
        "\n",
        "    # Case 4. Non-orphaned record data will will be added to a ticket\n",
        "    if ticket is None:\n",
        "      # Create ticket if one is not open\n",
        "      # When you create a ticket, it automatically adds the row\n",
        "      ticket = self.create_ticket(location_id, index, row)\n",
        "    else:\n",
        "      # Add record information to existing ticket\n",
        "      # Note, add_row may close the ticket if warranted (operator fixed leak)\n",
        "      ticket.add_row(index, row)\n",
        "\n",
        "    # Update total plume detection count\n",
        "    if RecordType(record_type) == RecordType.satellite_observation:\n",
        "      if SatelliteEvent(event_status) in (SatelliteEvent.small_methane_plume,\n",
        "                                          SatelliteEvent.medium_methane_plume,\n",
        "                                          SatelliteEvent.large_methane_plume):\n",
        "        self.plume_count += 1\n",
        "\n",
        "    # Update number of closed tickets\n",
        "    # The ticket.add_row method may have closed the ticket\n",
        "    if ticket.is_open is False:\n",
        "      self.open_ticket_count -= 1\n",
        "      self.closed_ticket_count += 1\n",
        "\n",
        "  def count_confirmed_plumes(self):\n",
        "    \"\"\"\n",
        "    Find the number of times facilities confirmed a leak and the associated number\n",
        "    of plumes confirmed.\n",
        "\n",
        "    Methodology Notes:\n",
        "    1) A ticket is always initiated by a satellite detection and all subsequent\n",
        "    satellite plume detections are logged until the ticket is closed.\n",
        "    2) A ticket can only be closed by a leak_fixed event from an operator.\n",
        "    3) confirm_counts are the number of times an operator confirmed a leak\n",
        "    4) plume_counts is the number of plumes associated with a confirm event\n",
        "    5) To count the confirmed/fixed plumes, check if the ticket has been\n",
        "    identified as 'confirmed' by the operator, and if so, sum the number of\n",
        "    small, medium, and large plume detections for each ticket associated with the\n",
        "    ticket.\n",
        "    \"\"\"\n",
        "    confirm_counts = {'Dairy': 0,\n",
        "                      'Landfill': 0,\n",
        "                      'Oil and Gas': 0,\n",
        "                      'All Sectors': 0}\n",
        "    plume_counts = {'Dairy': 0,\n",
        "                    'Landfill': 0,\n",
        "                    'Oil and Gas': 0,\n",
        "                    'All Sectors': 0}\n",
        "\n",
        "    for location_id, ticket_list in self.tickets.items():\n",
        "      # print(f\"Processing facility: {location_id}\")\n",
        "      for ticket in ticket_list:\n",
        "        sector = ticket.industrial_sector\n",
        "        if ticket.is_confirmed() is True:\n",
        "          confirm_counts[sector] += 1\n",
        "          confirm_counts['All Sectors'] += 1\n",
        "          # print(ticket)\n",
        "          for key in (SatelliteEvent.small_methane_plume,\n",
        "                      SatelliteEvent.medium_methane_plume,\n",
        "                      SatelliteEvent.large_methane_plume):\n",
        "            plume_count = len(ticket.sat_detects[key])\n",
        "            # print(f\"{plume_count}: {key}\")\n",
        "            plume_counts[sector] += plume_count\n",
        "            plume_counts['All Sectors'] += plume_count\n",
        "    return confirm_counts, plume_counts\n",
        "\n",
        "  def confirm_durations(self):\n",
        "    \"\"\"\n",
        "    Calculate the time (in fractional days) it takes for an operator to report that a plume\n",
        "    was confirmed.\n",
        "\n",
        "    Methodology Notes:\n",
        "    1) A ticket timestamp is logged when the ticket is created and identified by\n",
        "    the operator as confirmed.  The difference between these times is\n",
        "    considered the confirmation duration time.\n",
        "    2) The durations are stored separately by sector for subsequent analysis.\n",
        "\n",
        "    Returns (dict):\n",
        "      A dictionary keyed by sector with its values representing a list of confirmation\n",
        "      durations for each facility where an operator confirmed a leak.\n",
        "    \"\"\"\n",
        "    confirm_durations = {'Dairy': [],\n",
        "                         'Landfill': [],\n",
        "                         'Oil and Gas': [],\n",
        "                         'All Sectors': []}\n",
        "\n",
        "    for location_id, ticket_list in self.tickets.items():\n",
        "      for ticket in ticket_list:\n",
        "        sector = ticket.industrial_sector\n",
        "        if ticket.is_confirmed() is True:\n",
        "          # _td signifies class type is pandas.Timedelta\n",
        "          duration_td = ticket.confirmed_time - ticket.creation_time\n",
        "          # convert from Timedelta to days\n",
        "          duration = duration_td.total_seconds() / Constants.seconds_per_day\n",
        "          confirm_durations[sector].append(duration)\n",
        "          confirm_durations['All Sectors'].append(duration)\n",
        "\n",
        "    return confirm_durations\n",
        "\n",
        "  def fix_durations(self):\n",
        "    \"\"\"\n",
        "    Calculate the time (in fractional days) it takes for an operator to report that a plume\n",
        "    was fixed since it was last confirmed.\n",
        "\n",
        "    Methodology Notes:\n",
        "    1) A ticket timestamp is logged when the ticket is confirmed or fixed by the operator.\n",
        "    The difference between these times is considered the fix time.\n",
        "    2) The durations are stored separately by sector for subsequent analysis.\n",
        "\n",
        "    Returns (dict):\n",
        "      A dictionary keyed by sector with its values representing a list of fix times\n",
        "      for each facility where an operator fixed a leak.\n",
        "    \"\"\"\n",
        "    fix_durations = {'Dairy': [],\n",
        "                     'Landfill': [],\n",
        "                     'Oil and Gas': [],\n",
        "                     'All Sectors': []}\n",
        "\n",
        "    for location_id, ticket_list in self.tickets.items():\n",
        "      for ticket in ticket_list:\n",
        "        sector = ticket.industrial_sector\n",
        "        if ticket.is_fixed() is True:\n",
        "          # _td signifies class type is pandas.Timedelta\n",
        "          duration_td = ticket.fixed_time - ticket.confirmed_time\n",
        "          # convert from Timedelta to days\n",
        "          duration = duration_td.total_seconds() / Constants.seconds_per_day\n",
        "          fix_durations[sector].append(duration)\n",
        "          fix_durations['All Sectors'].append(duration)\n",
        "\n",
        "    return fix_durations\n",
        "\n",
        "  def plume_after_fix(self):\n",
        "    \"\"\"\n",
        "    Find the number of plumes detected at a facility after\n",
        "    the facility FIRST reported a leak fixed.\n",
        "\n",
        "    Methodology Notes:\n",
        "    1) Tickets associated with a facility are saved as a list in chronological order.\n",
        "    2) A ticket is closed when the operator indicates it is fixed.\n",
        "    3) If present, any tickets subsequent to a ticket closed as fixed represent plumes\n",
        "    that occurred after an operator FIRST indicted the leak was fixed.\n",
        "    4) For this calculation, all satellite detections at a facility will be counted\n",
        "    after an operator FIRST indicated a leak was fixed, subsequent operator events\n",
        "    at the facility such as (no plume detected, or leak fixed) are immaterial.\n",
        "\n",
        "    Returns\n",
        "      plume_by_sector_counts (dict):\n",
        "        A dictionary keyed by sector with its values representing the number of plumes detected\n",
        "        at a facility after an operator indicated it fixed a leak.\n",
        "      plume_by_facility_counts (dict):\n",
        "        A dictionary keyed by facility with its values representing the number of plumes detected\n",
        "        at a facility after an operator indicated it fixed a leak.\n",
        "    \"\"\"\n",
        "    plume_by_sector_counts = {'Dairy': 0,\n",
        "                              'Landfill': 0,\n",
        "                              'Oil and Gas': 0,\n",
        "                              'All Sectors': 0}\n",
        "    plume_by_facility_counts = {}\n",
        "\n",
        "    for location_id, ticket_list in self.tickets.items():\n",
        "      # flag to indicate that a facility listed a plume as fixed\n",
        "      fix_reported = False\n",
        "      for ticket in ticket_list:\n",
        "        sector = ticket.industrial_sector\n",
        "\n",
        "        # Find first instance that this facility reported a fix\n",
        "        # and continue to the next ticket\n",
        "        if fix_reported is False and ticket.is_fixed() is True:\n",
        "          fix_reported = True\n",
        "          continue\n",
        "\n",
        "        if fix_reported is True:\n",
        "          for key in (SatelliteEvent.small_methane_plume,\n",
        "                      SatelliteEvent.medium_methane_plume,\n",
        "                      SatelliteEvent.large_methane_plume):\n",
        "            plume_count = len(ticket.sat_detects[key])\n",
        "            # print(f\"{plume_count}: {key}\")\n",
        "            plume_by_sector_counts[sector] += plume_count\n",
        "            plume_by_sector_counts['All Sectors'] += plume_count\n",
        "            if location_id not in plume_by_facility_counts:\n",
        "              plume_by_facility_counts[location_id] = 0\n",
        "            plume_by_facility_counts[location_id] += plume_count\n",
        "\n",
        "    return plume_by_sector_counts, plume_by_facility_counts\n",
        "\n",
        "  def unresolved_plumes(self):\n",
        "    \"\"\"\n",
        "    Find the number of plumes for each facility that are considered unresolved.\n",
        "\n",
        "    Methodology Notes:\n",
        "    1) Tickets associated with a facility are saved as a list in chronological order.\n",
        "    2) A ticket is closed when the operator indicates it is fixed.\n",
        "    3) If the LAST ticket is open, then the operator has not indicated that the leak was fixed\n",
        "    4) All plumes associated with the LAST open ticket are considered unresolved.\n",
        "    6) unresolved_plumes differs from plume_after_fix because unresolved counts plumes\n",
        "    after the LAST ticket labeled fixed where as plume_after_fix counts after the FIRST ticket\n",
        "    labeled fixed.\n",
        "    Returns\n",
        "      plume_by_sector_counts (dict):\n",
        "        A dictionary keyed by sector with its values representing the number of plumes detected\n",
        "        at a facility after an operator indicated it fixed a leak.\n",
        "      plume_by_facility_counts (dict):\n",
        "        A dictionary keyed by facility with its values representing the number of plumes detected\n",
        "        at a facility after an operator indicated it fixed a leak.\n",
        "    \"\"\"\n",
        "    plume_by_sector_counts = {'Dairy': 0,\n",
        "                              'Landfill': 0,\n",
        "                              'Oil and Gas': 0,\n",
        "                              'All Sectors': 0}\n",
        "    plume_by_facility_counts = {}\n",
        "\n",
        "    for location_id, ticket_list in self.tickets.items():\n",
        "      last_ticket = ticket_list[-1]\n",
        "      # if the last ticket is marked as fixed, then there\n",
        "      # are no outstanding plumes for this facility\n",
        "      if last_ticket.is_fixed():\n",
        "        continue\n",
        "      else:\n",
        "        sector = last_ticket.industrial_sector\n",
        "        if location_id not in plume_by_facility_counts:\n",
        "          plume_by_facility_counts[location_id] = 0\n",
        "        for key in (SatelliteEvent.small_methane_plume,\n",
        "                    SatelliteEvent.medium_methane_plume,\n",
        "                    SatelliteEvent.large_methane_plume):\n",
        "          plume_count = len(last_ticket.sat_detects[key])\n",
        "          # print(f\"{plume_count}: {key}\")\n",
        "          plume_by_sector_counts[sector] += plume_count\n",
        "          plume_by_sector_counts['All Sectors'] += plume_count\n",
        "          plume_by_facility_counts[location_id] += plume_count\n",
        "\n",
        "    return plume_by_sector_counts, plume_by_facility_counts\n",
        "\n",
        "  def plume_after_no_leak_found(self):\n",
        "    \"\"\"\n",
        "    Find the number of plumes detected after a facility FIRST reported no leak found.\n",
        "\n",
        "    Methodology Notes:\n",
        "    1) Tickets associated with a facility are saved as a list in chronological order.\n",
        "    2) Each ticket maintains a count of plumes that occurred after a 'no leak detected' event.\n",
        "    3) The tickets associated with a facility are inspected in chronological order,\n",
        "    if a ticket has a no leak detected event, then the number of plumes detected is\n",
        "    initialized with value.\n",
        "    4) All subsequent tickets occur after a ticket with a 'no leak detected' event are\n",
        "    added to the plume count.\n",
        "\n",
        "    Returns\n",
        "      plume_by_sector_counts (dict):\n",
        "        A dictionary keyed by sector with its values representing the number of plumes detected\n",
        "        at a facility after an operator indicated it fixed a leak.\n",
        "      plume_by_facility_counts (dict):\n",
        "        A dictionary keyed by facility with its values representing the number of plumes detected\n",
        "        at a facility after an operator indicated it fixed a leak.\n",
        "      \"\"\"\n",
        "    plume_by_sector_counts = {'Dairy': 0,\n",
        "                              'Landfill': 0,\n",
        "                              'Oil and Gas': 0,\n",
        "                              'All Sectors': 0}\n",
        "    plume_by_facility_counts = {}\n",
        "\n",
        "    for location_id, ticket_list in self.tickets.items():\n",
        "      # flag to indicate that a facility listed a plume as fixed\n",
        "      no_leak_reported = False\n",
        "      for ticket in ticket_list:\n",
        "        sector = ticket.industrial_sector\n",
        "\n",
        "        # Find first ticket that a facility reported no leak detected event\n",
        "        # Initialize plume counts with the tickets plume_counts_after_no_leak\n",
        "        # data and then continue to the next ticket\n",
        "        if no_leak_reported is False and ticket.is_no_leak_detected() is True:\n",
        "          no_leak_reported = True\n",
        "          plumes_after_no_leak = ticket.plume_count_after_no_leak_detected\n",
        "          plume_by_sector_counts[sector] += plumes_after_no_leak\n",
        "          plume_by_sector_counts['All Sectors'] += plumes_after_no_leak\n",
        "          if location_id not in plume_by_facility_counts:\n",
        "            plume_by_facility_counts[location_id] = plumes_after_no_leak\n",
        "            continue\n",
        "\n",
        "        if no_leak_reported is True:\n",
        "          for key in (SatelliteEvent.small_methane_plume,\n",
        "                      SatelliteEvent.medium_methane_plume,\n",
        "                      SatelliteEvent.large_methane_plume):\n",
        "            plume_count = len(ticket.sat_detects[key])\n",
        "            # print(f\"{plume_count}: {key}\")\n",
        "            plume_by_sector_counts[sector] += plume_count\n",
        "            plume_by_sector_counts['All Sectors'] += plume_count\n",
        "            plume_by_facility_counts[location_id] += plume_count\n",
        "\n",
        "    return plume_by_sector_counts, plume_by_facility_counts\n",
        "\n",
        "  def fixed_plumes(self):\n",
        "    \"\"\"\n",
        "    Count plumes associated with tickets closed with an operator fixed leak event.\n",
        "    \"\"\"\n",
        "    plume_by_sector_counts = {'Dairy': 0,\n",
        "                              'Landfill': 0,\n",
        "                              'Oil and Gas': 0,\n",
        "                              'All Sectors': 0}\n",
        "\n",
        "    for location_id, ticket_list in self.tickets.items():\n",
        "      for ticket in ticket_list:\n",
        "        sector = ticket.industrial_sector\n",
        "        if ticket.is_fixed():\n",
        "          for key in (SatelliteEvent.small_methane_plume,\n",
        "                      SatelliteEvent.medium_methane_plume,\n",
        "                      SatelliteEvent.large_methane_plume):\n",
        "            plume_count = len(ticket.sat_detects[key])\n",
        "            # print(f\"{plume_count}: {key}\")\n",
        "            plume_by_sector_counts[sector] += plume_count\n",
        "            plume_by_sector_counts['All Sectors'] += plume_count\n",
        "    return plume_by_sector_counts\n",
        "\n",
        "  def plumes_by_location_id(self, location_id):\n",
        "    \"\"\"\n",
        "    Find all the plumes associated with a single location_id\n",
        "    \"\"\"\n",
        "    if location_id not in self.tickets:\n",
        "      return 0\n",
        "    plumes = 0\n",
        "    tickets = self.tickets[location_id]\n",
        "    for ticket in tickets:\n",
        "      plumes += ticket.plume_count\n",
        "    return plumes\n",
        "\n",
        "  def __str__(self):\n",
        "    \"\"\"\n",
        "    Represent a TicketManager as a string for simplified diagnostics.\n",
        "    \"\"\"\n",
        "    my_str = ['Ticket Manager Data Summary\\n']\n",
        "    str_dict = self.diagnostic_dict()\n",
        "    for key, value in str_dict.items():\n",
        "      my_str.append(f\"{key}: {value}\")\n",
        "    my_str = \"\\n\".join(my_str)\n",
        "    return my_str\n",
        "\n",
        "  def __repr__(self, verbose=0):\n",
        "    \"\"\"\n",
        "    Represent a TicketManager as a string for detailed diagnostics.\n",
        "    \"\"\"\n",
        "    repr_dict = self.diagnostic_dict()\n",
        "    repr_dict['tickets'] = self.tickets\n",
        "    if verbose > 0:\n",
        "      repr_dict['Unique locations'] = self.location_ids\n",
        "      repr_dict['orphans - facility'] = self.orphan_facilities\n",
        "      repr_dict['orphans - cloud'] = self.orphan_clouds\n",
        "      repr_dict['orphans - no_plume'] = self.orphan_no_plumes\n",
        "    my_str = pprint.pformat(repr_dict, indent=4, sort_dicts=False)\n",
        "    return my_str\n",
        "\n",
        "  def diagnostic_dict(self, verbose=1) -> dict:\n",
        "    \"\"\"\n",
        "    Create diagnostic dictionary used in both __repr__ and __str__\n",
        "\n",
        "    \"\"\"\n",
        "    num_tickets = 0\n",
        "    num_confirms = 0\n",
        "    num_fixed = 0\n",
        "\n",
        "    for tickets in self.tickets.values():\n",
        "      for ticket in tickets:\n",
        "        num_tickets += 1\n",
        "        if ticket.is_confirmed():\n",
        "          num_confirms += 1\n",
        "        if ticket.is_fixed():\n",
        "          num_fixed += 1\n",
        "\n",
        "    diag_dict = {'Number of data rows processed': self.rows_processed,\n",
        "                 'Number of unique location IDs': len(self.location_ids),\n",
        "                 'Total plumes detected': self.plume_count,\n",
        "                 'Number of plume confirmations': num_confirms,\n",
        "                 'Number of plume fixed': num_fixed,\n",
        "                 'Number of total tickets': num_tickets,\n",
        "                 'Number of open tickets': self.open_ticket_count,\n",
        "                 'Number of closed tickets': self.closed_ticket_count,\n",
        "                 }\n",
        "    if verbose > 0:\n",
        "      diag_dict_2 = {'Number of orphaned facility responses': len(self.orphan_facilities),\n",
        "                     'Number of orphaned cloudy events': len(self.orphan_clouds),\n",
        "                     'Number of orphaned no plume events': len(self.orphan_no_plumes),\n",
        "                     }\n",
        "      diag_dict.update(diag_dict_2)\n",
        "    return diag_dict"
      ],
      "metadata": {
        "id": "15dLwKIP65S_"
      }
    },
    {
      "cell_type": "markdown",
      "metadata": {
        "collapsed": false,
        "jupyter": {
          "outputs_hidden": false
        },
        "id": "4mdlk-IV65S_"
      },
      "source": [
        "## Plotting and Utility Functions\n",
        "Additional utility functions helpful for this analysis"
      ]
    },
    {
      "cell_type": "code",
      "execution_count": null,
      "metadata": {
        "jupyter": {
          "outputs_hidden": false
        },
        "id": "O_7c4NNX65S_"
      },
      "outputs": [],
      "source": [
        "def dict_to_data_frame(data_dict):\n",
        "  \"\"\"\n",
        "  Convert a dictionary keyed by column_names with values as a list into\n",
        "  a dataframe.  Unlike creating a DataFrame directly from a dictionary,\n",
        "  the length of data in each list can be of varying length.\n",
        "\n",
        "  Notes:\n",
        "    1) Each series will be NaN (Not a Number) padded to be the same length.\n",
        "\n",
        "  Args:\n",
        "    data_dict (dict):\n",
        "    dictionary of column names and values to convert into dataframe.\n",
        "  Returns (pandas.DataFrame):\n",
        "    A nan-padded dataframe of uniform length associated with data_dict\n",
        "  \"\"\"\n",
        "  df = pd.DataFrame(dict([(key, pd.Series(value)) for key, value in data_dict.items()]))\n",
        "  return df\n",
        "\n",
        "\n",
        "def plot_histogram(df,\n",
        "                   bins,\n",
        "                   same_y_limits=False,\n",
        "                   figure_title=None,\n",
        "                   y_label='Count',\n",
        "                   x_label='Days',\n",
        "                   **kwargs):\n",
        "  \"\"\"\n",
        "  Create 2x2 histogram of a dataframe to visualize plume information by sector.\n",
        "\n",
        "  Args:\n",
        "    df (DataFrame):\n",
        "    bins (list): sampling bins start/stop points\n",
        "    same_y_limits (bool): True if all y limits should be the same\n",
        "    figure_title (str):\n",
        "\n",
        "  Returns (axes, figure):\n",
        "    Matplotlib axes and figure handles associated with plots\n",
        "  \"\"\"\n",
        "  # Create the histogram subplots\n",
        "  fig, axes = plt.subplots(2, 2, **kwargs)\n",
        "  column_names = list(df.columns)\n",
        "\n",
        "  df.iloc[:, 0].plot.hist(ax=axes[0][0], bins=bins, color='red')\n",
        "  df.iloc[:, 1].plot.hist(ax=axes[0][1], bins=bins, color='green')\n",
        "  df.iloc[:, 2].plot.hist(ax=axes[1][0], bins=bins, color='orange')\n",
        "  df.iloc[:, 3].plot.hist(ax=axes[1][1], bins=bins, color='blue')\n",
        "\n",
        "  # Set axis labels\n",
        "  axes[0][0].set_ylabel(y_label)\n",
        "  axes[0][1].set_ylabel('')\n",
        "  axes[1][0].set_ylabel(y_label)\n",
        "  axes[1][1].set_ylabel('')\n",
        "\n",
        "  axes[0][0].set_xlabel('')\n",
        "  axes[0][1].set_xlabel('')\n",
        "  axes[1][0].set_xlabel(x_label)\n",
        "  axes[1][1].set_xlabel(x_label)\n",
        "\n",
        "  axes[0][0].set_title(column_names[0])\n",
        "  axes[0][1].set_title(column_names[1])\n",
        "  axes[1][0].set_title(column_names[2])\n",
        "  axes[1][1].set_title(column_names[3])\n",
        "\n",
        "  # Make y axis limits the same (optional)\n",
        "  if same_y_limits is True:\n",
        "    y_min = float('inf')\n",
        "    y_max = float('-inf')\n",
        "    for x in (0, 1):\n",
        "      for y in (0, 1):\n",
        "        y_lim = axes[x][y].get_ylim()\n",
        "        y_min = min(y_min, y_lim[0])\n",
        "        y_max = max(y_max, y_lim[1])\n",
        "\n",
        "    for x in (0, 1):\n",
        "      for y in (0, 1):\n",
        "        axes[x][y].set_ylim((y_min, y_max))\n",
        "\n",
        "  if figure_title is None:\n",
        "    title = 'Count vs. Response time by Sector'\n",
        "  else:\n",
        "    title = figure_title\n",
        "  fig.suptitle(title)\n",
        "  fig.tight_layout()\n",
        "\n",
        "  return fig, axes\n",
        "\n",
        "\n",
        "def find_hist_bins(values):\n",
        "  \"\"\"\n",
        "  Function to find bin intervals for a histogram of values\n",
        "  \"\"\"\n",
        "  max_val = max(values)\n",
        "  bin_max = np.ceil(max_val * 1.25)\n",
        "  bins = list(range(0, int(bin_max)))\n",
        "  return bins"
      ]
    },
    {
      "cell_type": "markdown",
      "metadata": {
        "collapsed": false,
        "jupyter": {
          "outputs_hidden": false
        },
        "id": "1Cto9rg465TA"
      },
      "source": [
        "# Read in fictitious datasets\n",
        "The datasets were uploaded to github so they could be easily imported to jupyter notebooks."
      ]
    },
    {
      "cell_type": "markdown",
      "metadata": {
        "collapsed": false,
        "jupyter": {
          "outputs_hidden": false
        },
        "id": "rE5GWIVr65TA"
      },
      "source": [
        "## Satellite Database File Structure"
      ]
    },
    {
      "cell_type": "code",
      "execution_count": null,
      "metadata": {
        "jupyter": {
          "outputs_hidden": false
        },
        "id": "7Dnamz1i65TA"
      },
      "outputs": [],
      "source": [
        "file_directory_url = \"https://raw.githubusercontent.com/tony-held/carb_2023/main/data/\"\n",
        "file_names = ['record_type.csv',\n",
        "              'satellite_event_status.csv',\n",
        "              'operator_event_status.csv',\n",
        "              'locations.csv',\n",
        "              'event_records.dat',\n",
        "              ]"
      ]
    },
    {
      "cell_type": "markdown",
      "metadata": {
        "collapsed": false,
        "jupyter": {
          "outputs_hidden": false
        },
        "id": "sg-Rrt-v65TA"
      },
      "source": [
        "## Import Files to Local Directory"
      ]
    },
    {
      "cell_type": "code",
      "execution_count": null,
      "metadata": {
        "jupyter": {
          "outputs_hidden": false
        },
        "id": "DZck2Sk165TA"
      },
      "outputs": [],
      "source": [
        "local_data_directory = 'data/'\n",
        "Path(local_data_directory).mkdir(parents=True, exist_ok=True)"
      ]
    },
    {
      "cell_type": "code",
      "execution_count": null,
      "metadata": {
        "jupyter": {
          "outputs_hidden": false
        },
        "colab": {
          "base_uri": "https://localhost:8080/"
        },
        "id": "RD-ONA_V65TA",
        "outputId": "169cca45-6eac-4647-8cb4-88a885a1f610"
      },
      "outputs": [
        {
          "output_type": "stream",
          "name": "stdout",
          "text": [
            "Downloading record_type.csv to data/\n",
            "Downloading satellite_event_status.csv to data/\n",
            "Downloading operator_event_status.csv to data/\n",
            "Downloading locations.csv to data/\n",
            "Downloading event_records.dat to data/\n"
          ]
        }
      ],
      "source": [
        "for file_name in file_names:\n",
        "  file_url = file_directory_url + file_name\n",
        "  file_local = Path(local_data_directory + file_name)\n",
        "  if file_local.exists() is True:\n",
        "    print(f\"{file_name} already in {local_data_directory}.  No download required.\")\n",
        "  else:\n",
        "    print(f\"Downloading {file_name} to {local_data_directory}\")\n",
        "    urllib.request.urlretrieve(file_url, file_local)"
      ]
    },
    {
      "cell_type": "markdown",
      "metadata": {
        "collapsed": false,
        "jupyter": {
          "outputs_hidden": false
        },
        "id": "S-Dl7OxQ65TA"
      },
      "source": [
        "## Read Database Files into Pandas Dataframes\n",
        "Pandas Dataframes are industry standard high performance and scalable strutures for data analysis."
      ]
    },
    {
      "cell_type": "markdown",
      "metadata": {
        "collapsed": false,
        "jupyter": {
          "outputs_hidden": false
        },
        "id": "cIGziAiX65TA"
      },
      "source": [
        "### Read in Record Types and Event Types\n",
        "Notes:\n",
        "1. The business logic uses enumerated classes to store record and event types because this will make the programming more clear and less error prone.\n",
        "2. The record types are read in below for completeness if they should one day become more complex and merit individual loading."
      ]
    },
    {
      "cell_type": "code",
      "execution_count": null,
      "metadata": {
        "jupyter": {
          "outputs_hidden": false
        },
        "id": "f4S20hCj65TA"
      },
      "outputs": [],
      "source": [
        "df_record_type = pd.read_csv(local_data_directory + 'record_type.csv')\n",
        "df_sat_status = pd.read_csv(local_data_directory + 'satellite_event_status.csv')\n",
        "df_operator_status = pd.read_csv(local_data_directory + 'operator_event_status.csv')"
      ]
    },
    {
      "cell_type": "markdown",
      "metadata": {
        "collapsed": false,
        "jupyter": {
          "outputs_hidden": false
        },
        "id": "oDmoXbgt65TA"
      },
      "source": [
        "### Facility Locations\n",
        "Notes:\n",
        "1) Column names are shortened\n",
        "2) Industrial Sector converted to categorical data type for more efficient storage"
      ]
    },
    {
      "cell_type": "code",
      "execution_count": null,
      "metadata": {
        "jupyter": {
          "outputs_hidden": false
        },
        "id": "RYCIen4l65TA"
      },
      "outputs": [],
      "source": [
        "df_locations = pd.read_csv(local_data_directory + 'locations.csv')\n",
        "column_new_names = {'Proximity_to_Residential_Community_in_meters': 'Rez_Prox_m'}\n",
        "df_locations.rename(columns=column_new_names, inplace=True)\n",
        "df_locations['Industrial_Sector'] = df_locations['Industrial_Sector'].astype(\"category\")\n",
        "sector_categories = df_locations['Industrial_Sector'].cat.categories"
      ]
    },
    {
      "cell_type": "code",
      "execution_count": null,
      "metadata": {
        "jupyter": {
          "outputs_hidden": false
        },
        "colab": {
          "base_uri": "https://localhost:8080/",
          "height": 614
        },
        "id": "vxi3F06r65TA",
        "outputId": "423c83bc-d584-4050-dd6f-e72835840b64"
      },
      "outputs": [
        {
          "output_type": "stream",
          "name": "stdout",
          "text": [
            "Industrial Sector Categories: Index(['Dairy', 'Landfill', 'Oil and Gas'], dtype='object')\n",
            "<class 'pandas.core.frame.DataFrame'>\n",
            "RangeIndex: 300 entries, 0 to 299\n",
            "Data columns (total 3 columns):\n",
            " #   Column             Non-Null Count  Dtype   \n",
            "---  ------             --------------  -----   \n",
            " 0   Location_ID        300 non-null    int64   \n",
            " 1   Industrial_Sector  300 non-null    category\n",
            " 2   Rez_Prox_m         300 non-null    int64   \n",
            "dtypes: category(1), int64(2)\n",
            "memory usage: 5.2 KB\n"
          ]
        },
        {
          "output_type": "display_data",
          "data": {
            "text/plain": [
              "     Location_ID Industrial_Sector  Rez_Prox_m\n",
              "0              1       Oil and Gas        8762\n",
              "1              2       Oil and Gas       10778\n",
              "2              3          Landfill       10832\n",
              "3              4       Oil and Gas        9347\n",
              "4              5             Dairy        8949\n",
              "..           ...               ...         ...\n",
              "295          296          Landfill       13915\n",
              "296          297          Landfill        5750\n",
              "297          298          Landfill        7716\n",
              "298          299          Landfill       12666\n",
              "299          300       Oil and Gas        7697\n",
              "\n",
              "[300 rows x 3 columns]"
            ],
            "text/html": [
              "\n",
              "\n",
              "  <div id=\"df-c3e16903-9aac-4947-b1f7-41c42c1108ad\">\n",
              "    <div class=\"colab-df-container\">\n",
              "      <div>\n",
              "<style scoped>\n",
              "    .dataframe tbody tr th:only-of-type {\n",
              "        vertical-align: middle;\n",
              "    }\n",
              "\n",
              "    .dataframe tbody tr th {\n",
              "        vertical-align: top;\n",
              "    }\n",
              "\n",
              "    .dataframe thead th {\n",
              "        text-align: right;\n",
              "    }\n",
              "</style>\n",
              "<table border=\"1\" class=\"dataframe\">\n",
              "  <thead>\n",
              "    <tr style=\"text-align: right;\">\n",
              "      <th></th>\n",
              "      <th>Location_ID</th>\n",
              "      <th>Industrial_Sector</th>\n",
              "      <th>Rez_Prox_m</th>\n",
              "    </tr>\n",
              "  </thead>\n",
              "  <tbody>\n",
              "    <tr>\n",
              "      <th>0</th>\n",
              "      <td>1</td>\n",
              "      <td>Oil and Gas</td>\n",
              "      <td>8762</td>\n",
              "    </tr>\n",
              "    <tr>\n",
              "      <th>1</th>\n",
              "      <td>2</td>\n",
              "      <td>Oil and Gas</td>\n",
              "      <td>10778</td>\n",
              "    </tr>\n",
              "    <tr>\n",
              "      <th>2</th>\n",
              "      <td>3</td>\n",
              "      <td>Landfill</td>\n",
              "      <td>10832</td>\n",
              "    </tr>\n",
              "    <tr>\n",
              "      <th>3</th>\n",
              "      <td>4</td>\n",
              "      <td>Oil and Gas</td>\n",
              "      <td>9347</td>\n",
              "    </tr>\n",
              "    <tr>\n",
              "      <th>4</th>\n",
              "      <td>5</td>\n",
              "      <td>Dairy</td>\n",
              "      <td>8949</td>\n",
              "    </tr>\n",
              "    <tr>\n",
              "      <th>...</th>\n",
              "      <td>...</td>\n",
              "      <td>...</td>\n",
              "      <td>...</td>\n",
              "    </tr>\n",
              "    <tr>\n",
              "      <th>295</th>\n",
              "      <td>296</td>\n",
              "      <td>Landfill</td>\n",
              "      <td>13915</td>\n",
              "    </tr>\n",
              "    <tr>\n",
              "      <th>296</th>\n",
              "      <td>297</td>\n",
              "      <td>Landfill</td>\n",
              "      <td>5750</td>\n",
              "    </tr>\n",
              "    <tr>\n",
              "      <th>297</th>\n",
              "      <td>298</td>\n",
              "      <td>Landfill</td>\n",
              "      <td>7716</td>\n",
              "    </tr>\n",
              "    <tr>\n",
              "      <th>298</th>\n",
              "      <td>299</td>\n",
              "      <td>Landfill</td>\n",
              "      <td>12666</td>\n",
              "    </tr>\n",
              "    <tr>\n",
              "      <th>299</th>\n",
              "      <td>300</td>\n",
              "      <td>Oil and Gas</td>\n",
              "      <td>7697</td>\n",
              "    </tr>\n",
              "  </tbody>\n",
              "</table>\n",
              "<p>300 rows × 3 columns</p>\n",
              "</div>\n",
              "      <button class=\"colab-df-convert\" onclick=\"convertToInteractive('df-c3e16903-9aac-4947-b1f7-41c42c1108ad')\"\n",
              "              title=\"Convert this dataframe to an interactive table.\"\n",
              "              style=\"display:none;\">\n",
              "\n",
              "  <svg xmlns=\"http://www.w3.org/2000/svg\" height=\"24px\"viewBox=\"0 0 24 24\"\n",
              "       width=\"24px\">\n",
              "    <path d=\"M0 0h24v24H0V0z\" fill=\"none\"/>\n",
              "    <path d=\"M18.56 5.44l.94 2.06.94-2.06 2.06-.94-2.06-.94-.94-2.06-.94 2.06-2.06.94zm-11 1L8.5 8.5l.94-2.06 2.06-.94-2.06-.94L8.5 2.5l-.94 2.06-2.06.94zm10 10l.94 2.06.94-2.06 2.06-.94-2.06-.94-.94-2.06-.94 2.06-2.06.94z\"/><path d=\"M17.41 7.96l-1.37-1.37c-.4-.4-.92-.59-1.43-.59-.52 0-1.04.2-1.43.59L10.3 9.45l-7.72 7.72c-.78.78-.78 2.05 0 2.83L4 21.41c.39.39.9.59 1.41.59.51 0 1.02-.2 1.41-.59l7.78-7.78 2.81-2.81c.8-.78.8-2.07 0-2.86zM5.41 20L4 18.59l7.72-7.72 1.47 1.35L5.41 20z\"/>\n",
              "  </svg>\n",
              "      </button>\n",
              "\n",
              "\n",
              "\n",
              "    <div id=\"df-7328db99-9a87-441e-99eb-2a70be97cc85\">\n",
              "      <button class=\"colab-df-quickchart\" onclick=\"quickchart('df-7328db99-9a87-441e-99eb-2a70be97cc85')\"\n",
              "              title=\"Suggest charts.\"\n",
              "              style=\"display:none;\">\n",
              "\n",
              "<svg xmlns=\"http://www.w3.org/2000/svg\" height=\"24px\"viewBox=\"0 0 24 24\"\n",
              "     width=\"24px\">\n",
              "    <g>\n",
              "        <path d=\"M19 3H5c-1.1 0-2 .9-2 2v14c0 1.1.9 2 2 2h14c1.1 0 2-.9 2-2V5c0-1.1-.9-2-2-2zM9 17H7v-7h2v7zm4 0h-2V7h2v10zm4 0h-2v-4h2v4z\"/>\n",
              "    </g>\n",
              "</svg>\n",
              "      </button>\n",
              "    </div>\n",
              "\n",
              "<style>\n",
              "  .colab-df-quickchart {\n",
              "    background-color: #E8F0FE;\n",
              "    border: none;\n",
              "    border-radius: 50%;\n",
              "    cursor: pointer;\n",
              "    display: none;\n",
              "    fill: #1967D2;\n",
              "    height: 32px;\n",
              "    padding: 0 0 0 0;\n",
              "    width: 32px;\n",
              "  }\n",
              "\n",
              "  .colab-df-quickchart:hover {\n",
              "    background-color: #E2EBFA;\n",
              "    box-shadow: 0px 1px 2px rgba(60, 64, 67, 0.3), 0px 1px 3px 1px rgba(60, 64, 67, 0.15);\n",
              "    fill: #174EA6;\n",
              "  }\n",
              "\n",
              "  [theme=dark] .colab-df-quickchart {\n",
              "    background-color: #3B4455;\n",
              "    fill: #D2E3FC;\n",
              "  }\n",
              "\n",
              "  [theme=dark] .colab-df-quickchart:hover {\n",
              "    background-color: #434B5C;\n",
              "    box-shadow: 0px 1px 3px 1px rgba(0, 0, 0, 0.15);\n",
              "    filter: drop-shadow(0px 1px 2px rgba(0, 0, 0, 0.3));\n",
              "    fill: #FFFFFF;\n",
              "  }\n",
              "</style>\n",
              "\n",
              "    <script>\n",
              "      async function quickchart(key) {\n",
              "        const containerElement = document.querySelector('#' + key);\n",
              "        const charts = await google.colab.kernel.invokeFunction(\n",
              "            'suggestCharts', [key], {});\n",
              "      }\n",
              "    </script>\n",
              "\n",
              "      <script>\n",
              "\n",
              "function displayQuickchartButton(domScope) {\n",
              "  let quickchartButtonEl =\n",
              "    domScope.querySelector('#df-7328db99-9a87-441e-99eb-2a70be97cc85 button.colab-df-quickchart');\n",
              "  quickchartButtonEl.style.display =\n",
              "    google.colab.kernel.accessAllowed ? 'block' : 'none';\n",
              "}\n",
              "\n",
              "        displayQuickchartButton(document);\n",
              "      </script>\n",
              "      <style>\n",
              "    .colab-df-container {\n",
              "      display:flex;\n",
              "      flex-wrap:wrap;\n",
              "      gap: 12px;\n",
              "    }\n",
              "\n",
              "    .colab-df-convert {\n",
              "      background-color: #E8F0FE;\n",
              "      border: none;\n",
              "      border-radius: 50%;\n",
              "      cursor: pointer;\n",
              "      display: none;\n",
              "      fill: #1967D2;\n",
              "      height: 32px;\n",
              "      padding: 0 0 0 0;\n",
              "      width: 32px;\n",
              "    }\n",
              "\n",
              "    .colab-df-convert:hover {\n",
              "      background-color: #E2EBFA;\n",
              "      box-shadow: 0px 1px 2px rgba(60, 64, 67, 0.3), 0px 1px 3px 1px rgba(60, 64, 67, 0.15);\n",
              "      fill: #174EA6;\n",
              "    }\n",
              "\n",
              "    [theme=dark] .colab-df-convert {\n",
              "      background-color: #3B4455;\n",
              "      fill: #D2E3FC;\n",
              "    }\n",
              "\n",
              "    [theme=dark] .colab-df-convert:hover {\n",
              "      background-color: #434B5C;\n",
              "      box-shadow: 0px 1px 3px 1px rgba(0, 0, 0, 0.15);\n",
              "      filter: drop-shadow(0px 1px 2px rgba(0, 0, 0, 0.3));\n",
              "      fill: #FFFFFF;\n",
              "    }\n",
              "  </style>\n",
              "\n",
              "      <script>\n",
              "        const buttonEl =\n",
              "          document.querySelector('#df-c3e16903-9aac-4947-b1f7-41c42c1108ad button.colab-df-convert');\n",
              "        buttonEl.style.display =\n",
              "          google.colab.kernel.accessAllowed ? 'block' : 'none';\n",
              "\n",
              "        async function convertToInteractive(key) {\n",
              "          const element = document.querySelector('#df-c3e16903-9aac-4947-b1f7-41c42c1108ad');\n",
              "          const dataTable =\n",
              "            await google.colab.kernel.invokeFunction('convertToInteractive',\n",
              "                                                     [key], {});\n",
              "          if (!dataTable) return;\n",
              "\n",
              "          const docLinkHtml = 'Like what you see? Visit the ' +\n",
              "            '<a target=\"_blank\" href=https://colab.research.google.com/notebooks/data_table.ipynb>data table notebook</a>'\n",
              "            + ' to learn more about interactive tables.';\n",
              "          element.innerHTML = '';\n",
              "          dataTable['output_type'] = 'display_data';\n",
              "          await google.colab.output.renderOutput(dataTable, element);\n",
              "          const docLink = document.createElement('div');\n",
              "          docLink.innerHTML = docLinkHtml;\n",
              "          element.appendChild(docLink);\n",
              "        }\n",
              "      </script>\n",
              "    </div>\n",
              "  </div>\n"
            ]
          },
          "metadata": {}
        }
      ],
      "source": [
        "print(f\"Industrial Sector Categories: {sector_categories}\")\n",
        "df_locations.info()\n",
        "display(df_locations)"
      ]
    },
    {
      "cell_type": "markdown",
      "metadata": {
        "collapsed": false,
        "jupyter": {
          "outputs_hidden": false
        },
        "id": "L-_wcy4365TA"
      },
      "source": [
        "### Facility Types by Sector"
      ]
    },
    {
      "cell_type": "code",
      "execution_count": null,
      "metadata": {
        "jupyter": {
          "outputs_hidden": false
        },
        "colab": {
          "base_uri": "https://localhost:8080/",
          "height": 206
        },
        "id": "xBpcp0o265TA",
        "outputId": "ca032b5a-2ef9-49f3-aae8-d4301c18d87d"
      },
      "outputs": [
        {
          "output_type": "display_data",
          "data": {
            "text/plain": [
              "                   Count\n",
              "Industrial_Sector       \n",
              "Dairy                 74\n",
              "Landfill              79\n",
              "Oil and Gas          147\n",
              "All Sectors          300"
            ],
            "text/html": [
              "\n",
              "\n",
              "  <div id=\"df-c5eb8cf3-bd98-45e3-ba44-26acf107ed65\">\n",
              "    <div class=\"colab-df-container\">\n",
              "      <div>\n",
              "<style scoped>\n",
              "    .dataframe tbody tr th:only-of-type {\n",
              "        vertical-align: middle;\n",
              "    }\n",
              "\n",
              "    .dataframe tbody tr th {\n",
              "        vertical-align: top;\n",
              "    }\n",
              "\n",
              "    .dataframe thead th {\n",
              "        text-align: right;\n",
              "    }\n",
              "</style>\n",
              "<table border=\"1\" class=\"dataframe\">\n",
              "  <thead>\n",
              "    <tr style=\"text-align: right;\">\n",
              "      <th></th>\n",
              "      <th>Count</th>\n",
              "    </tr>\n",
              "    <tr>\n",
              "      <th>Industrial_Sector</th>\n",
              "      <th></th>\n",
              "    </tr>\n",
              "  </thead>\n",
              "  <tbody>\n",
              "    <tr>\n",
              "      <th>Dairy</th>\n",
              "      <td>74</td>\n",
              "    </tr>\n",
              "    <tr>\n",
              "      <th>Landfill</th>\n",
              "      <td>79</td>\n",
              "    </tr>\n",
              "    <tr>\n",
              "      <th>Oil and Gas</th>\n",
              "      <td>147</td>\n",
              "    </tr>\n",
              "    <tr>\n",
              "      <th>All Sectors</th>\n",
              "      <td>300</td>\n",
              "    </tr>\n",
              "  </tbody>\n",
              "</table>\n",
              "</div>\n",
              "      <button class=\"colab-df-convert\" onclick=\"convertToInteractive('df-c5eb8cf3-bd98-45e3-ba44-26acf107ed65')\"\n",
              "              title=\"Convert this dataframe to an interactive table.\"\n",
              "              style=\"display:none;\">\n",
              "\n",
              "  <svg xmlns=\"http://www.w3.org/2000/svg\" height=\"24px\"viewBox=\"0 0 24 24\"\n",
              "       width=\"24px\">\n",
              "    <path d=\"M0 0h24v24H0V0z\" fill=\"none\"/>\n",
              "    <path d=\"M18.56 5.44l.94 2.06.94-2.06 2.06-.94-2.06-.94-.94-2.06-.94 2.06-2.06.94zm-11 1L8.5 8.5l.94-2.06 2.06-.94-2.06-.94L8.5 2.5l-.94 2.06-2.06.94zm10 10l.94 2.06.94-2.06 2.06-.94-2.06-.94-.94-2.06-.94 2.06-2.06.94z\"/><path d=\"M17.41 7.96l-1.37-1.37c-.4-.4-.92-.59-1.43-.59-.52 0-1.04.2-1.43.59L10.3 9.45l-7.72 7.72c-.78.78-.78 2.05 0 2.83L4 21.41c.39.39.9.59 1.41.59.51 0 1.02-.2 1.41-.59l7.78-7.78 2.81-2.81c.8-.78.8-2.07 0-2.86zM5.41 20L4 18.59l7.72-7.72 1.47 1.35L5.41 20z\"/>\n",
              "  </svg>\n",
              "      </button>\n",
              "\n",
              "\n",
              "\n",
              "    <div id=\"df-c0cc244b-a72b-4913-8547-b24e8990fe78\">\n",
              "      <button class=\"colab-df-quickchart\" onclick=\"quickchart('df-c0cc244b-a72b-4913-8547-b24e8990fe78')\"\n",
              "              title=\"Suggest charts.\"\n",
              "              style=\"display:none;\">\n",
              "\n",
              "<svg xmlns=\"http://www.w3.org/2000/svg\" height=\"24px\"viewBox=\"0 0 24 24\"\n",
              "     width=\"24px\">\n",
              "    <g>\n",
              "        <path d=\"M19 3H5c-1.1 0-2 .9-2 2v14c0 1.1.9 2 2 2h14c1.1 0 2-.9 2-2V5c0-1.1-.9-2-2-2zM9 17H7v-7h2v7zm4 0h-2V7h2v10zm4 0h-2v-4h2v4z\"/>\n",
              "    </g>\n",
              "</svg>\n",
              "      </button>\n",
              "    </div>\n",
              "\n",
              "<style>\n",
              "  .colab-df-quickchart {\n",
              "    background-color: #E8F0FE;\n",
              "    border: none;\n",
              "    border-radius: 50%;\n",
              "    cursor: pointer;\n",
              "    display: none;\n",
              "    fill: #1967D2;\n",
              "    height: 32px;\n",
              "    padding: 0 0 0 0;\n",
              "    width: 32px;\n",
              "  }\n",
              "\n",
              "  .colab-df-quickchart:hover {\n",
              "    background-color: #E2EBFA;\n",
              "    box-shadow: 0px 1px 2px rgba(60, 64, 67, 0.3), 0px 1px 3px 1px rgba(60, 64, 67, 0.15);\n",
              "    fill: #174EA6;\n",
              "  }\n",
              "\n",
              "  [theme=dark] .colab-df-quickchart {\n",
              "    background-color: #3B4455;\n",
              "    fill: #D2E3FC;\n",
              "  }\n",
              "\n",
              "  [theme=dark] .colab-df-quickchart:hover {\n",
              "    background-color: #434B5C;\n",
              "    box-shadow: 0px 1px 3px 1px rgba(0, 0, 0, 0.15);\n",
              "    filter: drop-shadow(0px 1px 2px rgba(0, 0, 0, 0.3));\n",
              "    fill: #FFFFFF;\n",
              "  }\n",
              "</style>\n",
              "\n",
              "    <script>\n",
              "      async function quickchart(key) {\n",
              "        const containerElement = document.querySelector('#' + key);\n",
              "        const charts = await google.colab.kernel.invokeFunction(\n",
              "            'suggestCharts', [key], {});\n",
              "      }\n",
              "    </script>\n",
              "\n",
              "      <script>\n",
              "\n",
              "function displayQuickchartButton(domScope) {\n",
              "  let quickchartButtonEl =\n",
              "    domScope.querySelector('#df-c0cc244b-a72b-4913-8547-b24e8990fe78 button.colab-df-quickchart');\n",
              "  quickchartButtonEl.style.display =\n",
              "    google.colab.kernel.accessAllowed ? 'block' : 'none';\n",
              "}\n",
              "\n",
              "        displayQuickchartButton(document);\n",
              "      </script>\n",
              "      <style>\n",
              "    .colab-df-container {\n",
              "      display:flex;\n",
              "      flex-wrap:wrap;\n",
              "      gap: 12px;\n",
              "    }\n",
              "\n",
              "    .colab-df-convert {\n",
              "      background-color: #E8F0FE;\n",
              "      border: none;\n",
              "      border-radius: 50%;\n",
              "      cursor: pointer;\n",
              "      display: none;\n",
              "      fill: #1967D2;\n",
              "      height: 32px;\n",
              "      padding: 0 0 0 0;\n",
              "      width: 32px;\n",
              "    }\n",
              "\n",
              "    .colab-df-convert:hover {\n",
              "      background-color: #E2EBFA;\n",
              "      box-shadow: 0px 1px 2px rgba(60, 64, 67, 0.3), 0px 1px 3px 1px rgba(60, 64, 67, 0.15);\n",
              "      fill: #174EA6;\n",
              "    }\n",
              "\n",
              "    [theme=dark] .colab-df-convert {\n",
              "      background-color: #3B4455;\n",
              "      fill: #D2E3FC;\n",
              "    }\n",
              "\n",
              "    [theme=dark] .colab-df-convert:hover {\n",
              "      background-color: #434B5C;\n",
              "      box-shadow: 0px 1px 3px 1px rgba(0, 0, 0, 0.15);\n",
              "      filter: drop-shadow(0px 1px 2px rgba(0, 0, 0, 0.3));\n",
              "      fill: #FFFFFF;\n",
              "    }\n",
              "  </style>\n",
              "\n",
              "      <script>\n",
              "        const buttonEl =\n",
              "          document.querySelector('#df-c5eb8cf3-bd98-45e3-ba44-26acf107ed65 button.colab-df-convert');\n",
              "        buttonEl.style.display =\n",
              "          google.colab.kernel.accessAllowed ? 'block' : 'none';\n",
              "\n",
              "        async function convertToInteractive(key) {\n",
              "          const element = document.querySelector('#df-c5eb8cf3-bd98-45e3-ba44-26acf107ed65');\n",
              "          const dataTable =\n",
              "            await google.colab.kernel.invokeFunction('convertToInteractive',\n",
              "                                                     [key], {});\n",
              "          if (!dataTable) return;\n",
              "\n",
              "          const docLinkHtml = 'Like what you see? Visit the ' +\n",
              "            '<a target=\"_blank\" href=https://colab.research.google.com/notebooks/data_table.ipynb>data table notebook</a>'\n",
              "            + ' to learn more about interactive tables.';\n",
              "          element.innerHTML = '';\n",
              "          dataTable['output_type'] = 'display_data';\n",
              "          await google.colab.output.renderOutput(dataTable, element);\n",
              "          const docLink = document.createElement('div');\n",
              "          docLink.innerHTML = docLinkHtml;\n",
              "          element.appendChild(docLink);\n",
              "        }\n",
              "      </script>\n",
              "    </div>\n",
              "  </div>\n"
            ]
          },
          "metadata": {}
        }
      ],
      "source": [
        "locations_pivot = pd.pivot_table(df_locations,\n",
        "                                 index=['Industrial_Sector'],\n",
        "                                 aggfunc='size',\n",
        "                                 )\n",
        "locations_pivot.rename('Count', inplace=True)\n",
        "df_locations_pivot = pd.DataFrame(locations_pivot)\n",
        "df_locations_pivot.loc['All Sectors'] = df_locations_pivot.sum(axis=0)\n",
        "\n",
        "display(df_locations_pivot)"
      ]
    },
    {
      "cell_type": "code",
      "execution_count": null,
      "metadata": {
        "jupyter": {
          "outputs_hidden": false
        },
        "colab": {
          "base_uri": "https://localhost:8080/",
          "height": 428
        },
        "id": "0cC0V6RR65TA",
        "outputId": "a627b039-600f-44a2-d448-c036bfc3dec2"
      },
      "outputs": [
        {
          "output_type": "display_data",
          "data": {
            "text/plain": [
              "<Figure size 640x480 with 1 Axes>"
            ],
            "image/png": "[encoded data removed]"
          },
          "metadata": {}
        }
      ],
      "source": [
        "axis = locations_pivot.plot(kind='pie',\n",
        "                            autopct='%1.0f%%',\n",
        "                            ylabel=\"\",\n",
        "                            title=\"Distribution of Facilities in Location Database\")"
      ]
    },
    {
      "cell_type": "code",
      "execution_count": null,
      "metadata": {
        "jupyter": {
          "outputs_hidden": false
        },
        "colab": {
          "base_uri": "https://localhost:8080/",
          "height": 489
        },
        "id": "yVKtUPag65TA",
        "outputId": "67b77a74-41d0-4853-85f3-236a973c790d"
      },
      "outputs": [
        {
          "output_type": "execute_result",
          "data": {
            "text/plain": [
              "Text(0.5, 0, 'meters')"
            ]
          },
          "metadata": {},
          "execution_count": 15
        },
        {
          "output_type": "display_data",
          "data": {
            "text/plain": [
              "<Figure size 640x480 with 1 Axes>"
            ],
            "image/png": "[encoded data removed]"
          },
          "metadata": {}
        }
      ],
      "source": [
        "axes = df_locations.hist(column='Rez_Prox_m')\n",
        "axes[0][0].set_title(f\"Distribution of Facility Proximity to Residential Community\")\n",
        "axes[0][0].set_ylabel(f\"Count\")\n",
        "axes[0][0].set_xlabel(f\"meters\")"
      ]
    },
    {
      "cell_type": "markdown",
      "metadata": {
        "collapsed": false,
        "jupyter": {
          "outputs_hidden": false
        },
        "id": "VVbqtXJc65TA"
      },
      "source": [
        "### Event Records\n",
        "Notes:\n",
        "1) Columns renamed to be consistent with other data tables"
      ]
    },
    {
      "cell_type": "code",
      "execution_count": null,
      "metadata": {
        "jupyter": {
          "outputs_hidden": false
        },
        "colab": {
          "base_uri": "https://localhost:8080/",
          "height": 614
        },
        "id": "1eb_1xOo65TA",
        "outputId": "68e51a39-e250-4ce1-d9a8-f43d4e1d8eba"
      },
      "outputs": [
        {
          "output_type": "stream",
          "name": "stdout",
          "text": [
            "<class 'pandas.core.frame.DataFrame'>\n",
            "RangeIndex: 73616 entries, 0 to 73615\n",
            "Data columns (total 4 columns):\n",
            " #   Column        Non-Null Count  Dtype         \n",
            "---  ------        --------------  -----         \n",
            " 0   Timestamp     73616 non-null  datetime64[ns]\n",
            " 1   Location_ID   73616 non-null  int64         \n",
            " 2   Record_Type   73616 non-null  int64         \n",
            " 3   Event_Status  73616 non-null  int64         \n",
            "dtypes: datetime64[ns](1), int64(3)\n",
            "memory usage: 2.2 MB\n"
          ]
        },
        {
          "output_type": "display_data",
          "data": {
            "text/plain": [
              "                Timestamp  Location_ID  Record_Type  Event_Status\n",
              "0     2024-01-02 00:06:00           31            1             0\n",
              "1     2024-01-02 00:16:00          256            1             0\n",
              "2     2024-01-02 00:20:00          286            1             0\n",
              "3     2024-01-02 00:26:00          263            1             0\n",
              "4     2024-01-02 00:27:00           25            1             0\n",
              "...                   ...          ...          ...           ...\n",
              "73611 2025-01-02 21:42:00           60            1             0\n",
              "73612 2025-01-03 04:59:00          161            1             1\n",
              "73613 2025-01-03 07:23:00          122            1             2\n",
              "73614 2025-01-03 09:54:00          122            2             2\n",
              "73615 2025-01-04 12:01:00          122            1             3\n",
              "\n",
              "[73616 rows x 4 columns]"
            ],
            "text/html": [
              "\n",
              "\n",
              "  <div id=\"df-9c2cba64-d1f0-4e0c-922f-2952049792b2\">\n",
              "    <div class=\"colab-df-container\">\n",
              "      <div>\n",
              "<style scoped>\n",
              "    .dataframe tbody tr th:only-of-type {\n",
              "        vertical-align: middle;\n",
              "    }\n",
              "\n",
              "    .dataframe tbody tr th {\n",
              "        vertical-align: top;\n",
              "    }\n",
              "\n",
              "    .dataframe thead th {\n",
              "        text-align: right;\n",
              "    }\n",
              "</style>\n",
              "<table border=\"1\" class=\"dataframe\">\n",
              "  <thead>\n",
              "    <tr style=\"text-align: right;\">\n",
              "      <th></th>\n",
              "      <th>Timestamp</th>\n",
              "      <th>Location_ID</th>\n",
              "      <th>Record_Type</th>\n",
              "      <th>Event_Status</th>\n",
              "    </tr>\n",
              "  </thead>\n",
              "  <tbody>\n",
              "    <tr>\n",
              "      <th>0</th>\n",
              "      <td>2024-01-02 00:06:00</td>\n",
              "      <td>31</td>\n",
              "      <td>1</td>\n",
              "      <td>0</td>\n",
              "    </tr>\n",
              "    <tr>\n",
              "      <th>1</th>\n",
              "      <td>2024-01-02 00:16:00</td>\n",
              "      <td>256</td>\n",
              "      <td>1</td>\n",
              "      <td>0</td>\n",
              "    </tr>\n",
              "    <tr>\n",
              "      <th>2</th>\n",
              "      <td>2024-01-02 00:20:00</td>\n",
              "      <td>286</td>\n",
              "      <td>1</td>\n",
              "      <td>0</td>\n",
              "    </tr>\n",
              "    <tr>\n",
              "      <th>3</th>\n",
              "      <td>2024-01-02 00:26:00</td>\n",
              "      <td>263</td>\n",
              "      <td>1</td>\n",
              "      <td>0</td>\n",
              "    </tr>\n",
              "    <tr>\n",
              "      <th>4</th>\n",
              "      <td>2024-01-02 00:27:00</td>\n",
              "      <td>25</td>\n",
              "      <td>1</td>\n",
              "      <td>0</td>\n",
              "    </tr>\n",
              "    <tr>\n",
              "      <th>...</th>\n",
              "      <td>...</td>\n",
              "      <td>...</td>\n",
              "      <td>...</td>\n",
              "      <td>...</td>\n",
              "    </tr>\n",
              "    <tr>\n",
              "      <th>73611</th>\n",
              "      <td>2025-01-02 21:42:00</td>\n",
              "      <td>60</td>\n",
              "      <td>1</td>\n",
              "      <td>0</td>\n",
              "    </tr>\n",
              "    <tr>\n",
              "      <th>73612</th>\n",
              "      <td>2025-01-03 04:59:00</td>\n",
              "      <td>161</td>\n",
              "      <td>1</td>\n",
              "      <td>1</td>\n",
              "    </tr>\n",
              "    <tr>\n",
              "      <th>73613</th>\n",
              "      <td>2025-01-03 07:23:00</td>\n",
              "      <td>122</td>\n",
              "      <td>1</td>\n",
              "      <td>2</td>\n",
              "    </tr>\n",
              "    <tr>\n",
              "      <th>73614</th>\n",
              "      <td>2025-01-03 09:54:00</td>\n",
              "      <td>122</td>\n",
              "      <td>2</td>\n",
              "      <td>2</td>\n",
              "    </tr>\n",
              "    <tr>\n",
              "      <th>73615</th>\n",
              "      <td>2025-01-04 12:01:00</td>\n",
              "      <td>122</td>\n",
              "      <td>1</td>\n",
              "      <td>3</td>\n",
              "    </tr>\n",
              "  </tbody>\n",
              "</table>\n",
              "<p>73616 rows × 4 columns</p>\n",
              "</div>\n",
              "      <button class=\"colab-df-convert\" onclick=\"convertToInteractive('df-9c2cba64-d1f0-4e0c-922f-2952049792b2')\"\n",
              "              title=\"Convert this dataframe to an interactive table.\"\n",
              "              style=\"display:none;\">\n",
              "\n",
              "  <svg xmlns=\"http://www.w3.org/2000/svg\" height=\"24px\"viewBox=\"0 0 24 24\"\n",
              "       width=\"24px\">\n",
              "    <path d=\"M0 0h24v24H0V0z\" fill=\"none\"/>\n",
              "    <path d=\"M18.56 5.44l.94 2.06.94-2.06 2.06-.94-2.06-.94-.94-2.06-.94 2.06-2.06.94zm-11 1L8.5 8.5l.94-2.06 2.06-.94-2.06-.94L8.5 2.5l-.94 2.06-2.06.94zm10 10l.94 2.06.94-2.06 2.06-.94-2.06-.94-.94-2.06-.94 2.06-2.06.94z\"/><path d=\"M17.41 7.96l-1.37-1.37c-.4-.4-.92-.59-1.43-.59-.52 0-1.04.2-1.43.59L10.3 9.45l-7.72 7.72c-.78.78-.78 2.05 0 2.83L4 21.41c.39.39.9.59 1.41.59.51 0 1.02-.2 1.41-.59l7.78-7.78 2.81-2.81c.8-.78.8-2.07 0-2.86zM5.41 20L4 18.59l7.72-7.72 1.47 1.35L5.41 20z\"/>\n",
              "  </svg>\n",
              "      </button>\n",
              "\n",
              "\n",
              "\n",
              "    <div id=\"df-bd845d84-73fb-4298-9e7e-59187b1f38c9\">\n",
              "      <button class=\"colab-df-quickchart\" onclick=\"quickchart('df-bd845d84-73fb-4298-9e7e-59187b1f38c9')\"\n",
              "              title=\"Suggest charts.\"\n",
              "              style=\"display:none;\">\n",
              "\n",
              "<svg xmlns=\"http://www.w3.org/2000/svg\" height=\"24px\"viewBox=\"0 0 24 24\"\n",
              "     width=\"24px\">\n",
              "    <g>\n",
              "        <path d=\"M19 3H5c-1.1 0-2 .9-2 2v14c0 1.1.9 2 2 2h14c1.1 0 2-.9 2-2V5c0-1.1-.9-2-2-2zM9 17H7v-7h2v7zm4 0h-2V7h2v10zm4 0h-2v-4h2v4z\"/>\n",
              "    </g>\n",
              "</svg>\n",
              "      </button>\n",
              "    </div>\n",
              "\n",
              "<style>\n",
              "  .colab-df-quickchart {\n",
              "    background-color: #E8F0FE;\n",
              "    border: none;\n",
              "    border-radius: 50%;\n",
              "    cursor: pointer;\n",
              "    display: none;\n",
              "    fill: #1967D2;\n",
              "    height: 32px;\n",
              "    padding: 0 0 0 0;\n",
              "    width: 32px;\n",
              "  }\n",
              "\n",
              "  .colab-df-quickchart:hover {\n",
              "    background-color: #E2EBFA;\n",
              "    box-shadow: 0px 1px 2px rgba(60, 64, 67, 0.3), 0px 1px 3px 1px rgba(60, 64, 67, 0.15);\n",
              "    fill: #174EA6;\n",
              "  }\n",
              "\n",
              "  [theme=dark] .colab-df-quickchart {\n",
              "    background-color: #3B4455;\n",
              "    fill: #D2E3FC;\n",
              "  }\n",
              "\n",
              "  [theme=dark] .colab-df-quickchart:hover {\n",
              "    background-color: #434B5C;\n",
              "    box-shadow: 0px 1px 3px 1px rgba(0, 0, 0, 0.15);\n",
              "    filter: drop-shadow(0px 1px 2px rgba(0, 0, 0, 0.3));\n",
              "    fill: #FFFFFF;\n",
              "  }\n",
              "</style>\n",
              "\n",
              "    <script>\n",
              "      async function quickchart(key) {\n",
              "        const containerElement = document.querySelector('#' + key);\n",
              "        const charts = await google.colab.kernel.invokeFunction(\n",
              "            'suggestCharts', [key], {});\n",
              "      }\n",
              "    </script>\n",
              "\n",
              "      <script>\n",
              "\n",
              "function displayQuickchartButton(domScope) {\n",
              "  let quickchartButtonEl =\n",
              "    domScope.querySelector('#df-bd845d84-73fb-4298-9e7e-59187b1f38c9 button.colab-df-quickchart');\n",
              "  quickchartButtonEl.style.display =\n",
              "    google.colab.kernel.accessAllowed ? 'block' : 'none';\n",
              "}\n",
              "\n",
              "        displayQuickchartButton(document);\n",
              "      </script>\n",
              "      <style>\n",
              "    .colab-df-container {\n",
              "      display:flex;\n",
              "      flex-wrap:wrap;\n",
              "      gap: 12px;\n",
              "    }\n",
              "\n",
              "    .colab-df-convert {\n",
              "      background-color: #E8F0FE;\n",
              "      border: none;\n",
              "      border-radius: 50%;\n",
              "      cursor: pointer;\n",
              "      display: none;\n",
              "      fill: #1967D2;\n",
              "      height: 32px;\n",
              "      padding: 0 0 0 0;\n",
              "      width: 32px;\n",
              "    }\n",
              "\n",
              "    .colab-df-convert:hover {\n",
              "      background-color: #E2EBFA;\n",
              "      box-shadow: 0px 1px 2px rgba(60, 64, 67, 0.3), 0px 1px 3px 1px rgba(60, 64, 67, 0.15);\n",
              "      fill: #174EA6;\n",
              "    }\n",
              "\n",
              "    [theme=dark] .colab-df-convert {\n",
              "      background-color: #3B4455;\n",
              "      fill: #D2E3FC;\n",
              "    }\n",
              "\n",
              "    [theme=dark] .colab-df-convert:hover {\n",
              "      background-color: #434B5C;\n",
              "      box-shadow: 0px 1px 3px 1px rgba(0, 0, 0, 0.15);\n",
              "      filter: drop-shadow(0px 1px 2px rgba(0, 0, 0, 0.3));\n",
              "      fill: #FFFFFF;\n",
              "    }\n",
              "  </style>\n",
              "\n",
              "      <script>\n",
              "        const buttonEl =\n",
              "          document.querySelector('#df-9c2cba64-d1f0-4e0c-922f-2952049792b2 button.colab-df-convert');\n",
              "        buttonEl.style.display =\n",
              "          google.colab.kernel.accessAllowed ? 'block' : 'none';\n",
              "\n",
              "        async function convertToInteractive(key) {\n",
              "          const element = document.querySelector('#df-9c2cba64-d1f0-4e0c-922f-2952049792b2');\n",
              "          const dataTable =\n",
              "            await google.colab.kernel.invokeFunction('convertToInteractive',\n",
              "                                                     [key], {});\n",
              "          if (!dataTable) return;\n",
              "\n",
              "          const docLinkHtml = 'Like what you see? Visit the ' +\n",
              "            '<a target=\"_blank\" href=https://colab.research.google.com/notebooks/data_table.ipynb>data table notebook</a>'\n",
              "            + ' to learn more about interactive tables.';\n",
              "          element.innerHTML = '';\n",
              "          dataTable['output_type'] = 'display_data';\n",
              "          await google.colab.output.renderOutput(dataTable, element);\n",
              "          const docLink = document.createElement('div');\n",
              "          docLink.innerHTML = docLinkHtml;\n",
              "          element.appendChild(docLink);\n",
              "        }\n",
              "      </script>\n",
              "    </div>\n",
              "  </div>\n"
            ]
          },
          "metadata": {}
        }
      ],
      "source": [
        "df_records = pd.read_csv(local_data_directory + 'event_records.dat',\n",
        "                         parse_dates=['timestamp'])\n",
        "column_new_names = {'timestamp': 'Timestamp',\n",
        "                    'location_id': 'Location_ID',\n",
        "                    'record_type': 'Record_Type',\n",
        "                    'event_status': 'Event_Status',\n",
        "                    }\n",
        "df_records.rename(columns=column_new_names, inplace=True)\n",
        "\n",
        "df_records.info()\n",
        "display(df_records)"
      ]
    },
    {
      "cell_type": "markdown",
      "metadata": {
        "collapsed": false,
        "jupyter": {
          "outputs_hidden": false
        },
        "id": "--NXSBBN65TA"
      },
      "source": [
        "### Event Types Grouped by Record_Type and Event_Status"
      ]
    },
    {
      "cell_type": "code",
      "execution_count": null,
      "metadata": {
        "jupyter": {
          "outputs_hidden": false
        },
        "colab": {
          "base_uri": "https://localhost:8080/",
          "height": 331
        },
        "id": "lhBaD-Kn65TB",
        "outputId": "4c35f0e6-7f9b-4318-a2ba-aeaf69c8ffb2"
      },
      "outputs": [
        {
          "output_type": "display_data",
          "data": {
            "text/plain": [
              "                          Count\n",
              "Record_Type Event_Status       \n",
              "1           0             70519\n",
              "            1               306\n",
              "            2               383\n",
              "            3                 1\n",
              "            4              2245\n",
              "2           0                36\n",
              "            1                68\n",
              "            2                58"
            ],
            "text/html": [
              "\n",
              "\n",
              "  <div id=\"df-f10a3cdc-7eae-4bb3-a18c-6954ef65428e\">\n",
              "    <div class=\"colab-df-container\">\n",
              "      <div>\n",
              "<style scoped>\n",
              "    .dataframe tbody tr th:only-of-type {\n",
              "        vertical-align: middle;\n",
              "    }\n",
              "\n",
              "    .dataframe tbody tr th {\n",
              "        vertical-align: top;\n",
              "    }\n",
              "\n",
              "    .dataframe thead th {\n",
              "        text-align: right;\n",
              "    }\n",
              "</style>\n",
              "<table border=\"1\" class=\"dataframe\">\n",
              "  <thead>\n",
              "    <tr style=\"text-align: right;\">\n",
              "      <th></th>\n",
              "      <th></th>\n",
              "      <th>Count</th>\n",
              "    </tr>\n",
              "    <tr>\n",
              "      <th>Record_Type</th>\n",
              "      <th>Event_Status</th>\n",
              "      <th></th>\n",
              "    </tr>\n",
              "  </thead>\n",
              "  <tbody>\n",
              "    <tr>\n",
              "      <th rowspan=\"5\" valign=\"top\">1</th>\n",
              "      <th>0</th>\n",
              "      <td>70519</td>\n",
              "    </tr>\n",
              "    <tr>\n",
              "      <th>1</th>\n",
              "      <td>306</td>\n",
              "    </tr>\n",
              "    <tr>\n",
              "      <th>2</th>\n",
              "      <td>383</td>\n",
              "    </tr>\n",
              "    <tr>\n",
              "      <th>3</th>\n",
              "      <td>1</td>\n",
              "    </tr>\n",
              "    <tr>\n",
              "      <th>4</th>\n",
              "      <td>2245</td>\n",
              "    </tr>\n",
              "    <tr>\n",
              "      <th rowspan=\"3\" valign=\"top\">2</th>\n",
              "      <th>0</th>\n",
              "      <td>36</td>\n",
              "    </tr>\n",
              "    <tr>\n",
              "      <th>1</th>\n",
              "      <td>68</td>\n",
              "    </tr>\n",
              "    <tr>\n",
              "      <th>2</th>\n",
              "      <td>58</td>\n",
              "    </tr>\n",
              "  </tbody>\n",
              "</table>\n",
              "</div>\n",
              "      <button class=\"colab-df-convert\" onclick=\"convertToInteractive('df-f10a3cdc-7eae-4bb3-a18c-6954ef65428e')\"\n",
              "              title=\"Convert this dataframe to an interactive table.\"\n",
              "              style=\"display:none;\">\n",
              "\n",
              "  <svg xmlns=\"http://www.w3.org/2000/svg\" height=\"24px\"viewBox=\"0 0 24 24\"\n",
              "       width=\"24px\">\n",
              "    <path d=\"M0 0h24v24H0V0z\" fill=\"none\"/>\n",
              "    <path d=\"M18.56 5.44l.94 2.06.94-2.06 2.06-.94-2.06-.94-.94-2.06-.94 2.06-2.06.94zm-11 1L8.5 8.5l.94-2.06 2.06-.94-2.06-.94L8.5 2.5l-.94 2.06-2.06.94zm10 10l.94 2.06.94-2.06 2.06-.94-2.06-.94-.94-2.06-.94 2.06-2.06.94z\"/><path d=\"M17.41 7.96l-1.37-1.37c-.4-.4-.92-.59-1.43-.59-.52 0-1.04.2-1.43.59L10.3 9.45l-7.72 7.72c-.78.78-.78 2.05 0 2.83L4 21.41c.39.39.9.59 1.41.59.51 0 1.02-.2 1.41-.59l7.78-7.78 2.81-2.81c.8-.78.8-2.07 0-2.86zM5.41 20L4 18.59l7.72-7.72 1.47 1.35L5.41 20z\"/>\n",
              "  </svg>\n",
              "      </button>\n",
              "\n",
              "\n",
              "\n",
              "    <div id=\"df-75d66743-ccf6-46c9-a135-e88492261502\">\n",
              "      <button class=\"colab-df-quickchart\" onclick=\"quickchart('df-75d66743-ccf6-46c9-a135-e88492261502')\"\n",
              "              title=\"Suggest charts.\"\n",
              "              style=\"display:none;\">\n",
              "\n",
              "<svg xmlns=\"http://www.w3.org/2000/svg\" height=\"24px\"viewBox=\"0 0 24 24\"\n",
              "     width=\"24px\">\n",
              "    <g>\n",
              "        <path d=\"M19 3H5c-1.1 0-2 .9-2 2v14c0 1.1.9 2 2 2h14c1.1 0 2-.9 2-2V5c0-1.1-.9-2-2-2zM9 17H7v-7h2v7zm4 0h-2V7h2v10zm4 0h-2v-4h2v4z\"/>\n",
              "    </g>\n",
              "</svg>\n",
              "      </button>\n",
              "    </div>\n",
              "\n",
              "<style>\n",
              "  .colab-df-quickchart {\n",
              "    background-color: #E8F0FE;\n",
              "    border: none;\n",
              "    border-radius: 50%;\n",
              "    cursor: pointer;\n",
              "    display: none;\n",
              "    fill: #1967D2;\n",
              "    height: 32px;\n",
              "    padding: 0 0 0 0;\n",
              "    width: 32px;\n",
              "  }\n",
              "\n",
              "  .colab-df-quickchart:hover {\n",
              "    background-color: #E2EBFA;\n",
              "    box-shadow: 0px 1px 2px rgba(60, 64, 67, 0.3), 0px 1px 3px 1px rgba(60, 64, 67, 0.15);\n",
              "    fill: #174EA6;\n",
              "  }\n",
              "\n",
              "  [theme=dark] .colab-df-quickchart {\n",
              "    background-color: #3B4455;\n",
              "    fill: #D2E3FC;\n",
              "  }\n",
              "\n",
              "  [theme=dark] .colab-df-quickchart:hover {\n",
              "    background-color: #434B5C;\n",
              "    box-shadow: 0px 1px 3px 1px rgba(0, 0, 0, 0.15);\n",
              "    filter: drop-shadow(0px 1px 2px rgba(0, 0, 0, 0.3));\n",
              "    fill: #FFFFFF;\n",
              "  }\n",
              "</style>\n",
              "\n",
              "    <script>\n",
              "      async function quickchart(key) {\n",
              "        const containerElement = document.querySelector('#' + key);\n",
              "        const charts = await google.colab.kernel.invokeFunction(\n",
              "            'suggestCharts', [key], {});\n",
              "      }\n",
              "    </script>\n",
              "\n",
              "      <script>\n",
              "\n",
              "function displayQuickchartButton(domScope) {\n",
              "  let quickchartButtonEl =\n",
              "    domScope.querySelector('#df-75d66743-ccf6-46c9-a135-e88492261502 button.colab-df-quickchart');\n",
              "  quickchartButtonEl.style.display =\n",
              "    google.colab.kernel.accessAllowed ? 'block' : 'none';\n",
              "}\n",
              "\n",
              "        displayQuickchartButton(document);\n",
              "      </script>\n",
              "      <style>\n",
              "    .colab-df-container {\n",
              "      display:flex;\n",
              "      flex-wrap:wrap;\n",
              "      gap: 12px;\n",
              "    }\n",
              "\n",
              "    .colab-df-convert {\n",
              "      background-color: #E8F0FE;\n",
              "      border: none;\n",
              "      border-radius: 50%;\n",
              "      cursor: pointer;\n",
              "      display: none;\n",
              "      fill: #1967D2;\n",
              "      height: 32px;\n",
              "      padding: 0 0 0 0;\n",
              "      width: 32px;\n",
              "    }\n",
              "\n",
              "    .colab-df-convert:hover {\n",
              "      background-color: #E2EBFA;\n",
              "      box-shadow: 0px 1px 2px rgba(60, 64, 67, 0.3), 0px 1px 3px 1px rgba(60, 64, 67, 0.15);\n",
              "      fill: #174EA6;\n",
              "    }\n",
              "\n",
              "    [theme=dark] .colab-df-convert {\n",
              "      background-color: #3B4455;\n",
              "      fill: #D2E3FC;\n",
              "    }\n",
              "\n",
              "    [theme=dark] .colab-df-convert:hover {\n",
              "      background-color: #434B5C;\n",
              "      box-shadow: 0px 1px 3px 1px rgba(0, 0, 0, 0.15);\n",
              "      filter: drop-shadow(0px 1px 2px rgba(0, 0, 0, 0.3));\n",
              "      fill: #FFFFFF;\n",
              "    }\n",
              "  </style>\n",
              "\n",
              "      <script>\n",
              "        const buttonEl =\n",
              "          document.querySelector('#df-f10a3cdc-7eae-4bb3-a18c-6954ef65428e button.colab-df-convert');\n",
              "        buttonEl.style.display =\n",
              "          google.colab.kernel.accessAllowed ? 'block' : 'none';\n",
              "\n",
              "        async function convertToInteractive(key) {\n",
              "          const element = document.querySelector('#df-f10a3cdc-7eae-4bb3-a18c-6954ef65428e');\n",
              "          const dataTable =\n",
              "            await google.colab.kernel.invokeFunction('convertToInteractive',\n",
              "                                                     [key], {});\n",
              "          if (!dataTable) return;\n",
              "\n",
              "          const docLinkHtml = 'Like what you see? Visit the ' +\n",
              "            '<a target=\"_blank\" href=https://colab.research.google.com/notebooks/data_table.ipynb>data table notebook</a>'\n",
              "            + ' to learn more about interactive tables.';\n",
              "          element.innerHTML = '';\n",
              "          dataTable['output_type'] = 'display_data';\n",
              "          await google.colab.output.renderOutput(dataTable, element);\n",
              "          const docLink = document.createElement('div');\n",
              "          docLink.innerHTML = docLinkHtml;\n",
              "          element.appendChild(docLink);\n",
              "        }\n",
              "      </script>\n",
              "    </div>\n",
              "  </div>\n"
            ]
          },
          "metadata": {}
        }
      ],
      "source": [
        "satellite_pivot = pd.pivot_table(df_records,\n",
        "                                 index=['Record_Type', 'Event_Status'],\n",
        "                                 aggfunc='size',\n",
        "                                 )\n",
        "satellite_pivot.rename('Count', inplace=True)\n",
        "df_satellite_pivot = pd.DataFrame(satellite_pivot)\n",
        "display(df_satellite_pivot)\n",
        "# Note dataframe is indexed [Record_type, Event_Status]\n",
        "# To get Record_type 2, Event_Status 1 Counts used df_satellite_pivot.loc[2, 1]"
      ]
    },
    {
      "cell_type": "markdown",
      "metadata": {
        "collapsed": false,
        "jupyter": {
          "outputs_hidden": false
        },
        "id": "2CuOBdZE65TB"
      },
      "source": [
        "### Join/Merge records and their associated locations"
      ]
    },
    {
      "cell_type": "code",
      "execution_count": null,
      "metadata": {
        "jupyter": {
          "outputs_hidden": false
        },
        "id": "rVTQB5tI65TB"
      },
      "outputs": [],
      "source": [
        "df_merged = pd.merge(left=df_records, right=df_locations, left_on=[\"Location_ID\"],\n",
        "                     right_on=[\"Location_ID\"]).sort_values('Timestamp').reset_index(drop=True)"
      ]
    },
    {
      "cell_type": "code",
      "execution_count": null,
      "metadata": {
        "jupyter": {
          "outputs_hidden": false
        },
        "colab": {
          "base_uri": "https://localhost:8080/",
          "height": 300
        },
        "id": "rcARTabC65TE",
        "outputId": "a73c6f14-0b79-4203-db78-a4d7d3e8947c"
      },
      "outputs": [
        {
          "output_type": "execute_result",
          "data": {
            "text/plain": [
              "        Location_ID   Record_Type  Event_Status    Rez_Prox_m\n",
              "count  73616.000000  73616.000000  73616.000000  73616.000000\n",
              "mean     150.324889      1.002201      0.139087   9905.210253\n",
              "std       86.547133      0.046859      0.705524   2981.093245\n",
              "min        1.000000      1.000000      0.000000     45.000000\n",
              "25%       75.000000      1.000000      0.000000   7353.000000\n",
              "50%      150.000000      1.000000      0.000000  10122.000000\n",
              "75%      225.000000      1.000000      0.000000  12666.000000\n",
              "max      300.000000      2.000000      4.000000  14919.000000"
            ],
            "text/html": [
              "\n",
              "\n",
              "  <div id=\"df-b3fb5bd9-34a4-4f2c-be91-ed9f8ea35df2\">\n",
              "    <div class=\"colab-df-container\">\n",
              "      <div>\n",
              "<style scoped>\n",
              "    .dataframe tbody tr th:only-of-type {\n",
              "        vertical-align: middle;\n",
              "    }\n",
              "\n",
              "    .dataframe tbody tr th {\n",
              "        vertical-align: top;\n",
              "    }\n",
              "\n",
              "    .dataframe thead th {\n",
              "        text-align: right;\n",
              "    }\n",
              "</style>\n",
              "<table border=\"1\" class=\"dataframe\">\n",
              "  <thead>\n",
              "    <tr style=\"text-align: right;\">\n",
              "      <th></th>\n",
              "      <th>Location_ID</th>\n",
              "      <th>Record_Type</th>\n",
              "      <th>Event_Status</th>\n",
              "      <th>Rez_Prox_m</th>\n",
              "    </tr>\n",
              "  </thead>\n",
              "  <tbody>\n",
              "    <tr>\n",
              "      <th>count</th>\n",
              "      <td>73616.000000</td>\n",
              "      <td>73616.000000</td>\n",
              "      <td>73616.000000</td>\n",
              "      <td>73616.000000</td>\n",
              "    </tr>\n",
              "    <tr>\n",
              "      <th>mean</th>\n",
              "      <td>150.324889</td>\n",
              "      <td>1.002201</td>\n",
              "      <td>0.139087</td>\n",
              "      <td>9905.210253</td>\n",
              "    </tr>\n",
              "    <tr>\n",
              "      <th>std</th>\n",
              "      <td>86.547133</td>\n",
              "      <td>0.046859</td>\n",
              "      <td>0.705524</td>\n",
              "      <td>2981.093245</td>\n",
              "    </tr>\n",
              "    <tr>\n",
              "      <th>min</th>\n",
              "      <td>1.000000</td>\n",
              "      <td>1.000000</td>\n",
              "      <td>0.000000</td>\n",
              "      <td>45.000000</td>\n",
              "    </tr>\n",
              "    <tr>\n",
              "      <th>25%</th>\n",
              "      <td>75.000000</td>\n",
              "      <td>1.000000</td>\n",
              "      <td>0.000000</td>\n",
              "      <td>7353.000000</td>\n",
              "    </tr>\n",
              "    <tr>\n",
              "      <th>50%</th>\n",
              "      <td>150.000000</td>\n",
              "      <td>1.000000</td>\n",
              "      <td>0.000000</td>\n",
              "      <td>10122.000000</td>\n",
              "    </tr>\n",
              "    <tr>\n",
              "      <th>75%</th>\n",
              "      <td>225.000000</td>\n",
              "      <td>1.000000</td>\n",
              "      <td>0.000000</td>\n",
              "      <td>12666.000000</td>\n",
              "    </tr>\n",
              "    <tr>\n",
              "      <th>max</th>\n",
              "      <td>300.000000</td>\n",
              "      <td>2.000000</td>\n",
              "      <td>4.000000</td>\n",
              "      <td>14919.000000</td>\n",
              "    </tr>\n",
              "  </tbody>\n",
              "</table>\n",
              "</div>\n",
              "      <button class=\"colab-df-convert\" onclick=\"convertToInteractive('df-b3fb5bd9-34a4-4f2c-be91-ed9f8ea35df2')\"\n",
              "              title=\"Convert this dataframe to an interactive table.\"\n",
              "              style=\"display:none;\">\n",
              "\n",
              "  <svg xmlns=\"http://www.w3.org/2000/svg\" height=\"24px\"viewBox=\"0 0 24 24\"\n",
              "       width=\"24px\">\n",
              "    <path d=\"M0 0h24v24H0V0z\" fill=\"none\"/>\n",
              "    <path d=\"M18.56 5.44l.94 2.06.94-2.06 2.06-.94-2.06-.94-.94-2.06-.94 2.06-2.06.94zm-11 1L8.5 8.5l.94-2.06 2.06-.94-2.06-.94L8.5 2.5l-.94 2.06-2.06.94zm10 10l.94 2.06.94-2.06 2.06-.94-2.06-.94-.94-2.06-.94 2.06-2.06.94z\"/><path d=\"M17.41 7.96l-1.37-1.37c-.4-.4-.92-.59-1.43-.59-.52 0-1.04.2-1.43.59L10.3 9.45l-7.72 7.72c-.78.78-.78 2.05 0 2.83L4 21.41c.39.39.9.59 1.41.59.51 0 1.02-.2 1.41-.59l7.78-7.78 2.81-2.81c.8-.78.8-2.07 0-2.86zM5.41 20L4 18.59l7.72-7.72 1.47 1.35L5.41 20z\"/>\n",
              "  </svg>\n",
              "      </button>\n",
              "\n",
              "\n",
              "\n",
              "    <div id=\"df-e9d3879a-dcff-401d-a8a3-7e142d11a798\">\n",
              "      <button class=\"colab-df-quickchart\" onclick=\"quickchart('df-e9d3879a-dcff-401d-a8a3-7e142d11a798')\"\n",
              "              title=\"Suggest charts.\"\n",
              "              style=\"display:none;\">\n",
              "\n",
              "<svg xmlns=\"http://www.w3.org/2000/svg\" height=\"24px\"viewBox=\"0 0 24 24\"\n",
              "     width=\"24px\">\n",
              "    <g>\n",
              "        <path d=\"M19 3H5c-1.1 0-2 .9-2 2v14c0 1.1.9 2 2 2h14c1.1 0 2-.9 2-2V5c0-1.1-.9-2-2-2zM9 17H7v-7h2v7zm4 0h-2V7h2v10zm4 0h-2v-4h2v4z\"/>\n",
              "    </g>\n",
              "</svg>\n",
              "      </button>\n",
              "    </div>\n",
              "\n",
              "<style>\n",
              "  .colab-df-quickchart {\n",
              "    background-color: #E8F0FE;\n",
              "    border: none;\n",
              "    border-radius: 50%;\n",
              "    cursor: pointer;\n",
              "    display: none;\n",
              "    fill: #1967D2;\n",
              "    height: 32px;\n",
              "    padding: 0 0 0 0;\n",
              "    width: 32px;\n",
              "  }\n",
              "\n",
              "  .colab-df-quickchart:hover {\n",
              "    background-color: #E2EBFA;\n",
              "    box-shadow: 0px 1px 2px rgba(60, 64, 67, 0.3), 0px 1px 3px 1px rgba(60, 64, 67, 0.15);\n",
              "    fill: #174EA6;\n",
              "  }\n",
              "\n",
              "  [theme=dark] .colab-df-quickchart {\n",
              "    background-color: #3B4455;\n",
              "    fill: #D2E3FC;\n",
              "  }\n",
              "\n",
              "  [theme=dark] .colab-df-quickchart:hover {\n",
              "    background-color: #434B5C;\n",
              "    box-shadow: 0px 1px 3px 1px rgba(0, 0, 0, 0.15);\n",
              "    filter: drop-shadow(0px 1px 2px rgba(0, 0, 0, 0.3));\n",
              "    fill: #FFFFFF;\n",
              "  }\n",
              "</style>\n",
              "\n",
              "    <script>\n",
              "      async function quickchart(key) {\n",
              "        const containerElement = document.querySelector('#' + key);\n",
              "        const charts = await google.colab.kernel.invokeFunction(\n",
              "            'suggestCharts', [key], {});\n",
              "      }\n",
              "    </script>\n",
              "\n",
              "      <script>\n",
              "\n",
              "function displayQuickchartButton(domScope) {\n",
              "  let quickchartButtonEl =\n",
              "    domScope.querySelector('#df-e9d3879a-dcff-401d-a8a3-7e142d11a798 button.colab-df-quickchart');\n",
              "  quickchartButtonEl.style.display =\n",
              "    google.colab.kernel.accessAllowed ? 'block' : 'none';\n",
              "}\n",
              "\n",
              "        displayQuickchartButton(document);\n",
              "      </script>\n",
              "      <style>\n",
              "    .colab-df-container {\n",
              "      display:flex;\n",
              "      flex-wrap:wrap;\n",
              "      gap: 12px;\n",
              "    }\n",
              "\n",
              "    .colab-df-convert {\n",
              "      background-color: #E8F0FE;\n",
              "      border: none;\n",
              "      border-radius: 50%;\n",
              "      cursor: pointer;\n",
              "      display: none;\n",
              "      fill: #1967D2;\n",
              "      height: 32px;\n",
              "      padding: 0 0 0 0;\n",
              "      width: 32px;\n",
              "    }\n",
              "\n",
              "    .colab-df-convert:hover {\n",
              "      background-color: #E2EBFA;\n",
              "      box-shadow: 0px 1px 2px rgba(60, 64, 67, 0.3), 0px 1px 3px 1px rgba(60, 64, 67, 0.15);\n",
              "      fill: #174EA6;\n",
              "    }\n",
              "\n",
              "    [theme=dark] .colab-df-convert {\n",
              "      background-color: #3B4455;\n",
              "      fill: #D2E3FC;\n",
              "    }\n",
              "\n",
              "    [theme=dark] .colab-df-convert:hover {\n",
              "      background-color: #434B5C;\n",
              "      box-shadow: 0px 1px 3px 1px rgba(0, 0, 0, 0.15);\n",
              "      filter: drop-shadow(0px 1px 2px rgba(0, 0, 0, 0.3));\n",
              "      fill: #FFFFFF;\n",
              "    }\n",
              "  </style>\n",
              "\n",
              "      <script>\n",
              "        const buttonEl =\n",
              "          document.querySelector('#df-b3fb5bd9-34a4-4f2c-be91-ed9f8ea35df2 button.colab-df-convert');\n",
              "        buttonEl.style.display =\n",
              "          google.colab.kernel.accessAllowed ? 'block' : 'none';\n",
              "\n",
              "        async function convertToInteractive(key) {\n",
              "          const element = document.querySelector('#df-b3fb5bd9-34a4-4f2c-be91-ed9f8ea35df2');\n",
              "          const dataTable =\n",
              "            await google.colab.kernel.invokeFunction('convertToInteractive',\n",
              "                                                     [key], {});\n",
              "          if (!dataTable) return;\n",
              "\n",
              "          const docLinkHtml = 'Like what you see? Visit the ' +\n",
              "            '<a target=\"_blank\" href=https://colab.research.google.com/notebooks/data_table.ipynb>data table notebook</a>'\n",
              "            + ' to learn more about interactive tables.';\n",
              "          element.innerHTML = '';\n",
              "          dataTable['output_type'] = 'display_data';\n",
              "          await google.colab.output.renderOutput(dataTable, element);\n",
              "          const docLink = document.createElement('div');\n",
              "          docLink.innerHTML = docLinkHtml;\n",
              "          element.appendChild(docLink);\n",
              "        }\n",
              "      </script>\n",
              "    </div>\n",
              "  </div>\n"
            ]
          },
          "metadata": {},
          "execution_count": 19
        }
      ],
      "source": [
        "df_merged.describe()"
      ]
    },
    {
      "cell_type": "markdown",
      "metadata": {
        "collapsed": false,
        "jupyter": {
          "outputs_hidden": false
        },
        "id": "-fKf5DMt65TE"
      },
      "source": [
        "# Create Methane Plume Ticketing System"
      ]
    },
    {
      "cell_type": "markdown",
      "metadata": {
        "collapsed": false,
        "jupyter": {
          "outputs_hidden": false
        },
        "id": "aQGVTG6Q65TE"
      },
      "source": [
        "## Create TicketManager to Manage Plume Ticketing"
      ]
    },
    {
      "cell_type": "code",
      "execution_count": null,
      "metadata": {
        "jupyter": {
          "outputs_hidden": false
        },
        "id": "xpmTuFXz65TE"
      },
      "outputs": [],
      "source": [
        "ticket_manager = TicketManager()"
      ]
    },
    {
      "cell_type": "markdown",
      "metadata": {
        "collapsed": false,
        "jupyter": {
          "outputs_hidden": false
        },
        "id": "Y6PtTF9865TE"
      },
      "source": [
        "## Add Satellite and Operator Data to TicketManager"
      ]
    },
    {
      "cell_type": "code",
      "execution_count": null,
      "metadata": {
        "jupyter": {
          "outputs_hidden": false
        },
        "id": "5MU1VrmG65TE"
      },
      "outputs": [],
      "source": [
        "for index, row in df_merged.iterrows():\n",
        "  ticket_manager.add_row(index, row)"
      ]
    },
    {
      "cell_type": "markdown",
      "metadata": {
        "collapsed": false,
        "jupyter": {
          "outputs_hidden": false
        },
        "id": "lQ428QGk65TE"
      },
      "source": [
        "## Ticket System Visualization\n",
        "An initial visualization of the data and key metrics was performed to get a sense of the dataset and to help ground truth the Question and Answer section below."
      ]
    },
    {
      "cell_type": "markdown",
      "metadata": {
        "collapsed": false,
        "jupyter": {
          "outputs_hidden": false
        },
        "id": "qltCDCNy65TE"
      },
      "source": [
        "### Ticket System Key Statistics"
      ]
    },
    {
      "cell_type": "code",
      "execution_count": null,
      "metadata": {
        "jupyter": {
          "outputs_hidden": false
        },
        "colab": {
          "base_uri": "https://localhost:8080/"
        },
        "id": "FoHS2LTb65TE",
        "outputId": "838ad3e0-829f-4b3f-a0e9-767677c3b008"
      },
      "outputs": [
        {
          "output_type": "stream",
          "name": "stdout",
          "text": [
            "Ticket Manager Data Summary\n",
            "\n",
            "Number of data rows processed: 73616\n",
            "Number of unique location IDs: 300\n",
            "Total plumes detected: 690\n",
            "Number of plume confirmations: 68\n",
            "Number of plume fixed: 58\n",
            "Number of total tickets: 108\n",
            "Number of open tickets: 50\n",
            "Number of closed tickets: 58\n",
            "Number of orphaned facility responses: 0\n",
            "Number of orphaned cloudy events: 2028\n",
            "Number of orphaned no plume events: 64170\n"
          ]
        }
      ],
      "source": [
        "# Show ticket manager diagnostics\n",
        "print(ticket_manager)"
      ]
    },
    {
      "cell_type": "markdown",
      "metadata": {
        "collapsed": false,
        "jupyter": {
          "outputs_hidden": false
        },
        "id": "SZhZ0W9S65TE"
      },
      "source": [
        "### Distribution of plumes by facility"
      ]
    },
    {
      "cell_type": "code",
      "execution_count": null,
      "metadata": {
        "jupyter": {
          "outputs_hidden": false
        },
        "id": "g8kwf-eI65TE"
      },
      "outputs": [],
      "source": [
        "# Convert Plume Database into DataFrame for plotting/inspection\n",
        "# Note, this codeblock is undocumented, but here for completeness\n",
        "# You can skip this codeblock and look at results in the next cells\n",
        "\n",
        "row_filter_a = (df_merged['Record_Type'] == 1) & (df_merged['Event_Status'].between(1, 3, inclusive='both'))\n",
        "df = df_merged[row_filter_a].groupby(['Industrial_Sector', 'Location_ID']).count()\n",
        "df.rename(columns={'Timestamp': 'Count'}, inplace=True)\n",
        "df = df.reset_index()\n",
        "df = df[df['Count'] > 0]\n",
        "df = df.reset_index()\n",
        "df.drop(columns=['index', 'Record_Type', 'Event_Status', 'Rez_Prox_m'], inplace=True)\n",
        "\n",
        "dairy = df[df['Industrial_Sector'] == 'Dairy']['Count'].to_numpy()\n",
        "oil_and_gas = df[df['Industrial_Sector'] == 'Oil and Gas']['Count'].to_numpy()\n",
        "landfill = df[df['Industrial_Sector'] == 'Landfill']['Count'].to_numpy()\n",
        "all_sectors = np.concatenate((dairy, oil_and_gas, landfill))\n",
        "\n",
        "df_num_plumes = {'Dairy': dairy, 'Oil and Gas': oil_and_gas, 'Landfill': landfill, 'All Sectors': all_sectors}\n",
        "df_num_plumes = dict_to_data_frame(df_num_plumes)"
      ]
    },
    {
      "cell_type": "code",
      "execution_count": null,
      "metadata": {
        "jupyter": {
          "outputs_hidden": false
        },
        "colab": {
          "base_uri": "https://localhost:8080/",
          "height": 300
        },
        "id": "ROFRyRVV65TE",
        "outputId": "10a843f9-cad5-4067-be70-db78d0356c78"
      },
      "outputs": [
        {
          "output_type": "execute_result",
          "data": {
            "text/plain": [
              "           Dairy  Oil and Gas   Landfill  All Sectors\n",
              "count  17.000000    62.000000  25.000000   104.000000\n",
              "mean    7.647059     6.500000   6.280000     6.634615\n",
              "std     4.581773     3.805733   3.713938     3.906822\n",
              "min     2.000000     2.000000   1.000000     1.000000\n",
              "25%     4.000000     4.000000   3.000000     4.000000\n",
              "50%     7.000000     6.000000   5.000000     6.000000\n",
              "75%    10.000000     8.000000   8.000000     8.000000\n",
              "max    20.000000    25.000000  16.000000    25.000000"
            ],
            "text/html": [
              "\n",
              "\n",
              "  <div id=\"df-79eb1260-8da3-472a-ab51-3bca55915064\">\n",
              "    <div class=\"colab-df-container\">\n",
              "      <div>\n",
              "<style scoped>\n",
              "    .dataframe tbody tr th:only-of-type {\n",
              "        vertical-align: middle;\n",
              "    }\n",
              "\n",
              "    .dataframe tbody tr th {\n",
              "        vertical-align: top;\n",
              "    }\n",
              "\n",
              "    .dataframe thead th {\n",
              "        text-align: right;\n",
              "    }\n",
              "</style>\n",
              "<table border=\"1\" class=\"dataframe\">\n",
              "  <thead>\n",
              "    <tr style=\"text-align: right;\">\n",
              "      <th></th>\n",
              "      <th>Dairy</th>\n",
              "      <th>Oil and Gas</th>\n",
              "      <th>Landfill</th>\n",
              "      <th>All Sectors</th>\n",
              "    </tr>\n",
              "  </thead>\n",
              "  <tbody>\n",
              "    <tr>\n",
              "      <th>count</th>\n",
              "      <td>17.000000</td>\n",
              "      <td>62.000000</td>\n",
              "      <td>25.000000</td>\n",
              "      <td>104.000000</td>\n",
              "    </tr>\n",
              "    <tr>\n",
              "      <th>mean</th>\n",
              "      <td>7.647059</td>\n",
              "      <td>6.500000</td>\n",
              "      <td>6.280000</td>\n",
              "      <td>6.634615</td>\n",
              "    </tr>\n",
              "    <tr>\n",
              "      <th>std</th>\n",
              "      <td>4.581773</td>\n",
              "      <td>3.805733</td>\n",
              "      <td>3.713938</td>\n",
              "      <td>3.906822</td>\n",
              "    </tr>\n",
              "    <tr>\n",
              "      <th>min</th>\n",
              "      <td>2.000000</td>\n",
              "      <td>2.000000</td>\n",
              "      <td>1.000000</td>\n",
              "      <td>1.000000</td>\n",
              "    </tr>\n",
              "    <tr>\n",
              "      <th>25%</th>\n",
              "      <td>4.000000</td>\n",
              "      <td>4.000000</td>\n",
              "      <td>3.000000</td>\n",
              "      <td>4.000000</td>\n",
              "    </tr>\n",
              "    <tr>\n",
              "      <th>50%</th>\n",
              "      <td>7.000000</td>\n",
              "      <td>6.000000</td>\n",
              "      <td>5.000000</td>\n",
              "      <td>6.000000</td>\n",
              "    </tr>\n",
              "    <tr>\n",
              "      <th>75%</th>\n",
              "      <td>10.000000</td>\n",
              "      <td>8.000000</td>\n",
              "      <td>8.000000</td>\n",
              "      <td>8.000000</td>\n",
              "    </tr>\n",
              "    <tr>\n",
              "      <th>max</th>\n",
              "      <td>20.000000</td>\n",
              "      <td>25.000000</td>\n",
              "      <td>16.000000</td>\n",
              "      <td>25.000000</td>\n",
              "    </tr>\n",
              "  </tbody>\n",
              "</table>\n",
              "</div>\n",
              "      <button class=\"colab-df-convert\" onclick=\"convertToInteractive('df-79eb1260-8da3-472a-ab51-3bca55915064')\"\n",
              "              title=\"Convert this dataframe to an interactive table.\"\n",
              "              style=\"display:none;\">\n",
              "\n",
              "  <svg xmlns=\"http://www.w3.org/2000/svg\" height=\"24px\"viewBox=\"0 0 24 24\"\n",
              "       width=\"24px\">\n",
              "    <path d=\"M0 0h24v24H0V0z\" fill=\"none\"/>\n",
              "    <path d=\"M18.56 5.44l.94 2.06.94-2.06 2.06-.94-2.06-.94-.94-2.06-.94 2.06-2.06.94zm-11 1L8.5 8.5l.94-2.06 2.06-.94-2.06-.94L8.5 2.5l-.94 2.06-2.06.94zm10 10l.94 2.06.94-2.06 2.06-.94-2.06-.94-.94-2.06-.94 2.06-2.06.94z\"/><path d=\"M17.41 7.96l-1.37-1.37c-.4-.4-.92-.59-1.43-.59-.52 0-1.04.2-1.43.59L10.3 9.45l-7.72 7.72c-.78.78-.78 2.05 0 2.83L4 21.41c.39.39.9.59 1.41.59.51 0 1.02-.2 1.41-.59l7.78-7.78 2.81-2.81c.8-.78.8-2.07 0-2.86zM5.41 20L4 18.59l7.72-7.72 1.47 1.35L5.41 20z\"/>\n",
              "  </svg>\n",
              "      </button>\n",
              "\n",
              "\n",
              "\n",
              "    <div id=\"df-7cc3d53b-b255-496d-a7cb-9c415195f576\">\n",
              "      <button class=\"colab-df-quickchart\" onclick=\"quickchart('df-7cc3d53b-b255-496d-a7cb-9c415195f576')\"\n",
              "              title=\"Suggest charts.\"\n",
              "              style=\"display:none;\">\n",
              "\n",
              "<svg xmlns=\"http://www.w3.org/2000/svg\" height=\"24px\"viewBox=\"0 0 24 24\"\n",
              "     width=\"24px\">\n",
              "    <g>\n",
              "        <path d=\"M19 3H5c-1.1 0-2 .9-2 2v14c0 1.1.9 2 2 2h14c1.1 0 2-.9 2-2V5c0-1.1-.9-2-2-2zM9 17H7v-7h2v7zm4 0h-2V7h2v10zm4 0h-2v-4h2v4z\"/>\n",
              "    </g>\n",
              "</svg>\n",
              "      </button>\n",
              "    </div>\n",
              "\n",
              "<style>\n",
              "  .colab-df-quickchart {\n",
              "    background-color: #E8F0FE;\n",
              "    border: none;\n",
              "    border-radius: 50%;\n",
              "    cursor: pointer;\n",
              "    display: none;\n",
              "    fill: #1967D2;\n",
              "    height: 32px;\n",
              "    padding: 0 0 0 0;\n",
              "    width: 32px;\n",
              "  }\n",
              "\n",
              "  .colab-df-quickchart:hover {\n",
              "    background-color: #E2EBFA;\n",
              "    box-shadow: 0px 1px 2px rgba(60, 64, 67, 0.3), 0px 1px 3px 1px rgba(60, 64, 67, 0.15);\n",
              "    fill: #174EA6;\n",
              "  }\n",
              "\n",
              "  [theme=dark] .colab-df-quickchart {\n",
              "    background-color: #3B4455;\n",
              "    fill: #D2E3FC;\n",
              "  }\n",
              "\n",
              "  [theme=dark] .colab-df-quickchart:hover {\n",
              "    background-color: #434B5C;\n",
              "    box-shadow: 0px 1px 3px 1px rgba(0, 0, 0, 0.15);\n",
              "    filter: drop-shadow(0px 1px 2px rgba(0, 0, 0, 0.3));\n",
              "    fill: #FFFFFF;\n",
              "  }\n",
              "</style>\n",
              "\n",
              "    <script>\n",
              "      async function quickchart(key) {\n",
              "        const containerElement = document.querySelector('#' + key);\n",
              "        const charts = await google.colab.kernel.invokeFunction(\n",
              "            'suggestCharts', [key], {});\n",
              "      }\n",
              "    </script>\n",
              "\n",
              "      <script>\n",
              "\n",
              "function displayQuickchartButton(domScope) {\n",
              "  let quickchartButtonEl =\n",
              "    domScope.querySelector('#df-7cc3d53b-b255-496d-a7cb-9c415195f576 button.colab-df-quickchart');\n",
              "  quickchartButtonEl.style.display =\n",
              "    google.colab.kernel.accessAllowed ? 'block' : 'none';\n",
              "}\n",
              "\n",
              "        displayQuickchartButton(document);\n",
              "      </script>\n",
              "      <style>\n",
              "    .colab-df-container {\n",
              "      display:flex;\n",
              "      flex-wrap:wrap;\n",
              "      gap: 12px;\n",
              "    }\n",
              "\n",
              "    .colab-df-convert {\n",
              "      background-color: #E8F0FE;\n",
              "      border: none;\n",
              "      border-radius: 50%;\n",
              "      cursor: pointer;\n",
              "      display: none;\n",
              "      fill: #1967D2;\n",
              "      height: 32px;\n",
              "      padding: 0 0 0 0;\n",
              "      width: 32px;\n",
              "    }\n",
              "\n",
              "    .colab-df-convert:hover {\n",
              "      background-color: #E2EBFA;\n",
              "      box-shadow: 0px 1px 2px rgba(60, 64, 67, 0.3), 0px 1px 3px 1px rgba(60, 64, 67, 0.15);\n",
              "      fill: #174EA6;\n",
              "    }\n",
              "\n",
              "    [theme=dark] .colab-df-convert {\n",
              "      background-color: #3B4455;\n",
              "      fill: #D2E3FC;\n",
              "    }\n",
              "\n",
              "    [theme=dark] .colab-df-convert:hover {\n",
              "      background-color: #434B5C;\n",
              "      box-shadow: 0px 1px 3px 1px rgba(0, 0, 0, 0.15);\n",
              "      filter: drop-shadow(0px 1px 2px rgba(0, 0, 0, 0.3));\n",
              "      fill: #FFFFFF;\n",
              "    }\n",
              "  </style>\n",
              "\n",
              "      <script>\n",
              "        const buttonEl =\n",
              "          document.querySelector('#df-79eb1260-8da3-472a-ab51-3bca55915064 button.colab-df-convert');\n",
              "        buttonEl.style.display =\n",
              "          google.colab.kernel.accessAllowed ? 'block' : 'none';\n",
              "\n",
              "        async function convertToInteractive(key) {\n",
              "          const element = document.querySelector('#df-79eb1260-8da3-472a-ab51-3bca55915064');\n",
              "          const dataTable =\n",
              "            await google.colab.kernel.invokeFunction('convertToInteractive',\n",
              "                                                     [key], {});\n",
              "          if (!dataTable) return;\n",
              "\n",
              "          const docLinkHtml = 'Like what you see? Visit the ' +\n",
              "            '<a target=\"_blank\" href=https://colab.research.google.com/notebooks/data_table.ipynb>data table notebook</a>'\n",
              "            + ' to learn more about interactive tables.';\n",
              "          element.innerHTML = '';\n",
              "          dataTable['output_type'] = 'display_data';\n",
              "          await google.colab.output.renderOutput(dataTable, element);\n",
              "          const docLink = document.createElement('div');\n",
              "          docLink.innerHTML = docLinkHtml;\n",
              "          element.appendChild(docLink);\n",
              "        }\n",
              "      </script>\n",
              "    </div>\n",
              "  </div>\n"
            ]
          },
          "metadata": {},
          "execution_count": 24
        }
      ],
      "source": [
        "df_num_plumes.describe()"
      ]
    },
    {
      "cell_type": "code",
      "execution_count": null,
      "metadata": {
        "jupyter": {
          "outputs_hidden": false
        },
        "id": "j3v8xG9V65TE"
      },
      "outputs": [],
      "source": [
        "# histogram bin ranges\n",
        "bins = list(range(0, 30, 3))"
      ]
    },
    {
      "cell_type": "code",
      "execution_count": null,
      "metadata": {
        "jupyter": {
          "outputs_hidden": false
        },
        "colab": {
          "base_uri": "https://localhost:8080/",
          "height": 492
        },
        "id": "LcznMiEk65TE",
        "outputId": "9f0071a8-da0c-4a7e-b43a-e48ecd1488bb"
      },
      "outputs": [
        {
          "output_type": "display_data",
          "data": {
            "text/plain": [
              "<Figure size 640x480 with 4 Axes>"
            ],
            "image/png": "[encoded data removed]"
          },
          "metadata": {}
        }
      ],
      "source": [
        "plot_histogram(df_num_plumes,\n",
        "               bins,\n",
        "               same_y_limits=False,\n",
        "               figure_title='Frequency of Plumes at a Single Location',\n",
        "               y_label='Frequency',\n",
        "               x_label='# Plumes',\n",
        "               );"
      ]
    },
    {
      "cell_type": "markdown",
      "metadata": {
        "collapsed": false,
        "jupyter": {
          "outputs_hidden": false
        },
        "id": "bB5iG0xc65TE"
      },
      "source": [
        "# Question 1\n",
        "What are the total number of methane plumes observed by satellite broken out by industrial sector?  Overall, what is the percentage of the time a satellite observes a plume for each sector?"
      ]
    },
    {
      "cell_type": "markdown",
      "metadata": {
        "collapsed": false,
        "jupyter": {
          "outputs_hidden": false
        },
        "id": "--_WPbLU65TE"
      },
      "source": [
        "## Part A\n",
        "1.\tWhat are the total number of methane plumes observed by satellite broken out by industrial sector?"
      ]
    },
    {
      "cell_type": "markdown",
      "metadata": {
        "collapsed": false,
        "jupyter": {
          "outputs_hidden": false
        },
        "id": "pfFzjc_u65TE"
      },
      "source": [
        "### Answer Methodology\n",
        "1. Create a filter to extract only the event rows with plume measurements\n",
        "2. Create a new dataframe that is a pivot plume measures by Industrial_Sector and Event_Status\n",
        "3. Add summary columns to pivot\n",
        "4. Display pivot dataframe"
      ]
    },
    {
      "cell_type": "code",
      "execution_count": null,
      "metadata": {
        "jupyter": {
          "outputs_hidden": false
        },
        "id": "2NsX4cR365TE"
      },
      "outputs": [],
      "source": [
        "# Filter results of the merged dataframe for plume detections\n",
        "row_filter_a = (df_merged['Record_Type'] == 1) & (df_merged['Event_Status'].between(1, 3, inclusive='both'))\n",
        "\n",
        "df_1a = pd.pivot_table(df_merged[row_filter_a],\n",
        "                       index=['Industrial_Sector'],\n",
        "                       columns=['Event_Status'],\n",
        "                       aggfunc='size',\n",
        "                       )\n",
        "# Add summary columns\n",
        "df_1a.loc['All Sectors'] = df_1a.sum(axis=0)\n",
        "df_1a.loc[:, 'All Plumes'] = df_1a.sum(axis=1)"
      ]
    },
    {
      "cell_type": "markdown",
      "metadata": {
        "collapsed": false,
        "jupyter": {
          "outputs_hidden": false
        },
        "id": "BabVF_Kz65TF"
      },
      "source": [
        "### Answer"
      ]
    },
    {
      "cell_type": "code",
      "execution_count": null,
      "metadata": {
        "jupyter": {
          "outputs_hidden": false
        },
        "colab": {
          "base_uri": "https://localhost:8080/",
          "height": 206
        },
        "id": "1lXnfA2965TF",
        "outputId": "cf6ae116-0402-45c6-e6ae-1074fceb9cbb"
      },
      "outputs": [
        {
          "output_type": "display_data",
          "data": {
            "text/plain": [
              "Event_Status         1    2  3  All Plumes\n",
              "Industrial_Sector                         \n",
              "Dairy               65   65  0         130\n",
              "Landfill            64   93  0         157\n",
              "Oil and Gas        177  225  1         403\n",
              "All Sectors        306  383  1         690"
            ],
            "text/html": [
              "\n",
              "\n",
              "  <div id=\"df-e979e46a-37d5-440f-b171-2060564b1289\">\n",
              "    <div class=\"colab-df-container\">\n",
              "      <div>\n",
              "<style scoped>\n",
              "    .dataframe tbody tr th:only-of-type {\n",
              "        vertical-align: middle;\n",
              "    }\n",
              "\n",
              "    .dataframe tbody tr th {\n",
              "        vertical-align: top;\n",
              "    }\n",
              "\n",
              "    .dataframe thead th {\n",
              "        text-align: right;\n",
              "    }\n",
              "</style>\n",
              "<table border=\"1\" class=\"dataframe\">\n",
              "  <thead>\n",
              "    <tr style=\"text-align: right;\">\n",
              "      <th>Event_Status</th>\n",
              "      <th>1</th>\n",
              "      <th>2</th>\n",
              "      <th>3</th>\n",
              "      <th>All Plumes</th>\n",
              "    </tr>\n",
              "    <tr>\n",
              "      <th>Industrial_Sector</th>\n",
              "      <th></th>\n",
              "      <th></th>\n",
              "      <th></th>\n",
              "      <th></th>\n",
              "    </tr>\n",
              "  </thead>\n",
              "  <tbody>\n",
              "    <tr>\n",
              "      <th>Dairy</th>\n",
              "      <td>65</td>\n",
              "      <td>65</td>\n",
              "      <td>0</td>\n",
              "      <td>130</td>\n",
              "    </tr>\n",
              "    <tr>\n",
              "      <th>Landfill</th>\n",
              "      <td>64</td>\n",
              "      <td>93</td>\n",
              "      <td>0</td>\n",
              "      <td>157</td>\n",
              "    </tr>\n",
              "    <tr>\n",
              "      <th>Oil and Gas</th>\n",
              "      <td>177</td>\n",
              "      <td>225</td>\n",
              "      <td>1</td>\n",
              "      <td>403</td>\n",
              "    </tr>\n",
              "    <tr>\n",
              "      <th>All Sectors</th>\n",
              "      <td>306</td>\n",
              "      <td>383</td>\n",
              "      <td>1</td>\n",
              "      <td>690</td>\n",
              "    </tr>\n",
              "  </tbody>\n",
              "</table>\n",
              "</div>\n",
              "      <button class=\"colab-df-convert\" onclick=\"convertToInteractive('df-e979e46a-37d5-440f-b171-2060564b1289')\"\n",
              "              title=\"Convert this dataframe to an interactive table.\"\n",
              "              style=\"display:none;\">\n",
              "\n",
              "  <svg xmlns=\"http://www.w3.org/2000/svg\" height=\"24px\"viewBox=\"0 0 24 24\"\n",
              "       width=\"24px\">\n",
              "    <path d=\"M0 0h24v24H0V0z\" fill=\"none\"/>\n",
              "    <path d=\"M18.56 5.44l.94 2.06.94-2.06 2.06-.94-2.06-.94-.94-2.06-.94 2.06-2.06.94zm-11 1L8.5 8.5l.94-2.06 2.06-.94-2.06-.94L8.5 2.5l-.94 2.06-2.06.94zm10 10l.94 2.06.94-2.06 2.06-.94-2.06-.94-.94-2.06-.94 2.06-2.06.94z\"/><path d=\"M17.41 7.96l-1.37-1.37c-.4-.4-.92-.59-1.43-.59-.52 0-1.04.2-1.43.59L10.3 9.45l-7.72 7.72c-.78.78-.78 2.05 0 2.83L4 21.41c.39.39.9.59 1.41.59.51 0 1.02-.2 1.41-.59l7.78-7.78 2.81-2.81c.8-.78.8-2.07 0-2.86zM5.41 20L4 18.59l7.72-7.72 1.47 1.35L5.41 20z\"/>\n",
              "  </svg>\n",
              "      </button>\n",
              "\n",
              "\n",
              "\n",
              "    <div id=\"df-ab272236-ff11-4df2-9473-2e81d645a394\">\n",
              "      <button class=\"colab-df-quickchart\" onclick=\"quickchart('df-ab272236-ff11-4df2-9473-2e81d645a394')\"\n",
              "              title=\"Suggest charts.\"\n",
              "              style=\"display:none;\">\n",
              "\n",
              "<svg xmlns=\"http://www.w3.org/2000/svg\" height=\"24px\"viewBox=\"0 0 24 24\"\n",
              "     width=\"24px\">\n",
              "    <g>\n",
              "        <path d=\"M19 3H5c-1.1 0-2 .9-2 2v14c0 1.1.9 2 2 2h14c1.1 0 2-.9 2-2V5c0-1.1-.9-2-2-2zM9 17H7v-7h2v7zm4 0h-2V7h2v10zm4 0h-2v-4h2v4z\"/>\n",
              "    </g>\n",
              "</svg>\n",
              "      </button>\n",
              "    </div>\n",
              "\n",
              "<style>\n",
              "  .colab-df-quickchart {\n",
              "    background-color: #E8F0FE;\n",
              "    border: none;\n",
              "    border-radius: 50%;\n",
              "    cursor: pointer;\n",
              "    display: none;\n",
              "    fill: #1967D2;\n",
              "    height: 32px;\n",
              "    padding: 0 0 0 0;\n",
              "    width: 32px;\n",
              "  }\n",
              "\n",
              "  .colab-df-quickchart:hover {\n",
              "    background-color: #E2EBFA;\n",
              "    box-shadow: 0px 1px 2px rgba(60, 64, 67, 0.3), 0px 1px 3px 1px rgba(60, 64, 67, 0.15);\n",
              "    fill: #174EA6;\n",
              "  }\n",
              "\n",
              "  [theme=dark] .colab-df-quickchart {\n",
              "    background-color: #3B4455;\n",
              "    fill: #D2E3FC;\n",
              "  }\n",
              "\n",
              "  [theme=dark] .colab-df-quickchart:hover {\n",
              "    background-color: #434B5C;\n",
              "    box-shadow: 0px 1px 3px 1px rgba(0, 0, 0, 0.15);\n",
              "    filter: drop-shadow(0px 1px 2px rgba(0, 0, 0, 0.3));\n",
              "    fill: #FFFFFF;\n",
              "  }\n",
              "</style>\n",
              "\n",
              "    <script>\n",
              "      async function quickchart(key) {\n",
              "        const containerElement = document.querySelector('#' + key);\n",
              "        const charts = await google.colab.kernel.invokeFunction(\n",
              "            'suggestCharts', [key], {});\n",
              "      }\n",
              "    </script>\n",
              "\n",
              "      <script>\n",
              "\n",
              "function displayQuickchartButton(domScope) {\n",
              "  let quickchartButtonEl =\n",
              "    domScope.querySelector('#df-ab272236-ff11-4df2-9473-2e81d645a394 button.colab-df-quickchart');\n",
              "  quickchartButtonEl.style.display =\n",
              "    google.colab.kernel.accessAllowed ? 'block' : 'none';\n",
              "}\n",
              "\n",
              "        displayQuickchartButton(document);\n",
              "      </script>\n",
              "      <style>\n",
              "    .colab-df-container {\n",
              "      display:flex;\n",
              "      flex-wrap:wrap;\n",
              "      gap: 12px;\n",
              "    }\n",
              "\n",
              "    .colab-df-convert {\n",
              "      background-color: #E8F0FE;\n",
              "      border: none;\n",
              "      border-radius: 50%;\n",
              "      cursor: pointer;\n",
              "      display: none;\n",
              "      fill: #1967D2;\n",
              "      height: 32px;\n",
              "      padding: 0 0 0 0;\n",
              "      width: 32px;\n",
              "    }\n",
              "\n",
              "    .colab-df-convert:hover {\n",
              "      background-color: #E2EBFA;\n",
              "      box-shadow: 0px 1px 2px rgba(60, 64, 67, 0.3), 0px 1px 3px 1px rgba(60, 64, 67, 0.15);\n",
              "      fill: #174EA6;\n",
              "    }\n",
              "\n",
              "    [theme=dark] .colab-df-convert {\n",
              "      background-color: #3B4455;\n",
              "      fill: #D2E3FC;\n",
              "    }\n",
              "\n",
              "    [theme=dark] .colab-df-convert:hover {\n",
              "      background-color: #434B5C;\n",
              "      box-shadow: 0px 1px 3px 1px rgba(0, 0, 0, 0.15);\n",
              "      filter: drop-shadow(0px 1px 2px rgba(0, 0, 0, 0.3));\n",
              "      fill: #FFFFFF;\n",
              "    }\n",
              "  </style>\n",
              "\n",
              "      <script>\n",
              "        const buttonEl =\n",
              "          document.querySelector('#df-e979e46a-37d5-440f-b171-2060564b1289 button.colab-df-convert');\n",
              "        buttonEl.style.display =\n",
              "          google.colab.kernel.accessAllowed ? 'block' : 'none';\n",
              "\n",
              "        async function convertToInteractive(key) {\n",
              "          const element = document.querySelector('#df-e979e46a-37d5-440f-b171-2060564b1289');\n",
              "          const dataTable =\n",
              "            await google.colab.kernel.invokeFunction('convertToInteractive',\n",
              "                                                     [key], {});\n",
              "          if (!dataTable) return;\n",
              "\n",
              "          const docLinkHtml = 'Like what you see? Visit the ' +\n",
              "            '<a target=\"_blank\" href=https://colab.research.google.com/notebooks/data_table.ipynb>data table notebook</a>'\n",
              "            + ' to learn more about interactive tables.';\n",
              "          element.innerHTML = '';\n",
              "          dataTable['output_type'] = 'display_data';\n",
              "          await google.colab.output.renderOutput(dataTable, element);\n",
              "          const docLink = document.createElement('div');\n",
              "          docLink.innerHTML = docLinkHtml;\n",
              "          element.appendChild(docLink);\n",
              "        }\n",
              "      </script>\n",
              "    </div>\n",
              "  </div>\n"
            ]
          },
          "metadata": {}
        }
      ],
      "source": [
        "display(df_1a)"
      ]
    },
    {
      "cell_type": "markdown",
      "metadata": {
        "collapsed": false,
        "jupyter": {
          "outputs_hidden": false
        },
        "id": "EJg3j7jF65TF"
      },
      "source": [
        "## Part B\n",
        "Overall, what is the percentage of the time a satellite observes a plume for each sector?\n",
        "\n",
        "Notes:\n",
        "1)"
      ]
    },
    {
      "cell_type": "markdown",
      "metadata": {
        "collapsed": false,
        "jupyter": {
          "outputs_hidden": false
        },
        "id": "ArjU2WlK65TF"
      },
      "source": [
        "### Answer Methodology\n",
        "1. This question is interpreted as what are percentage of satellite observations that are a plume (Event Status 1, 2, or 3) grouped by sector\n",
        "2. Filter the event rows to extract satellite readings\n",
        "3. Create a new dataframe that is a pivot plume measures by Industrial_Sector and Event_Status\n",
        "4. Add summary columns to pivot\n",
        "5. Display pivot dataframe"
      ]
    },
    {
      "cell_type": "code",
      "execution_count": null,
      "metadata": {
        "jupyter": {
          "outputs_hidden": false
        },
        "id": "8xuZPNQz65TF"
      },
      "outputs": [],
      "source": [
        "# Filter results of the merged dataframe for all satellite measurements\n",
        "row_filter_b = df_merged['Record_Type'] == 1\n",
        "df_1b = pd.pivot_table(df_merged[row_filter_b],\n",
        "                       index=['Industrial_Sector'],\n",
        "                       columns=['Event_Status'],\n",
        "                       aggfunc='size',\n",
        "                       )\n",
        "# Add summary columns\n",
        "df_1b.loc['All Sectors'] = df_1b.sum(axis=0)\n",
        "df_1b.loc[:, 'Num Events'] = df_1b.sum(axis=1)\n",
        "df_1b['Num Plumes'] = df_1b[1] + df_1b[2] + df_1b[3]\n",
        "df_1b['% Obs'] = df_1b['Num Plumes'] / df_1b['Num Events'] * 100\n",
        "df_1b = df_1b.round({'% Obs': 3})"
      ]
    },
    {
      "cell_type": "markdown",
      "metadata": {
        "collapsed": false,
        "jupyter": {
          "outputs_hidden": false
        },
        "id": "tzuSuInR65TF"
      },
      "source": [
        "### Answer"
      ]
    },
    {
      "cell_type": "code",
      "execution_count": null,
      "metadata": {
        "jupyter": {
          "outputs_hidden": false
        },
        "colab": {
          "base_uri": "https://localhost:8080/",
          "height": 206
        },
        "id": "BCWdYEyM65TF",
        "outputId": "51cd3e2d-1209-46a2-e594-116a1068ee55"
      },
      "outputs": [
        {
          "output_type": "display_data",
          "data": {
            "text/plain": [
              "Event_Status           0    1    2  3     4  Num Events  Num Plumes  % Obs\n",
              "Industrial_Sector                                                         \n",
              "Dairy              17399   65   65  0   574       18103         130  0.718\n",
              "Landfill           18599   64   93  0   583       19339         157  0.812\n",
              "Oil and Gas        34521  177  225  1  1088       36012         403  1.119\n",
              "All Sectors        70519  306  383  1  2245       73454         690  0.939"
            ],
            "text/html": [
              "\n",
              "\n",
              "  <div id=\"df-7b5088fe-2d9c-4160-88a9-ff742e673bf0\">\n",
              "    <div class=\"colab-df-container\">\n",
              "      <div>\n",
              "<style scoped>\n",
              "    .dataframe tbody tr th:only-of-type {\n",
              "        vertical-align: middle;\n",
              "    }\n",
              "\n",
              "    .dataframe tbody tr th {\n",
              "        vertical-align: top;\n",
              "    }\n",
              "\n",
              "    .dataframe thead th {\n",
              "        text-align: right;\n",
              "    }\n",
              "</style>\n",
              "<table border=\"1\" class=\"dataframe\">\n",
              "  <thead>\n",
              "    <tr style=\"text-align: right;\">\n",
              "      <th>Event_Status</th>\n",
              "      <th>0</th>\n",
              "      <th>1</th>\n",
              "      <th>2</th>\n",
              "      <th>3</th>\n",
              "      <th>4</th>\n",
              "      <th>Num Events</th>\n",
              "      <th>Num Plumes</th>\n",
              "      <th>% Obs</th>\n",
              "    </tr>\n",
              "    <tr>\n",
              "      <th>Industrial_Sector</th>\n",
              "      <th></th>\n",
              "      <th></th>\n",
              "      <th></th>\n",
              "      <th></th>\n",
              "      <th></th>\n",
              "      <th></th>\n",
              "      <th></th>\n",
              "      <th></th>\n",
              "    </tr>\n",
              "  </thead>\n",
              "  <tbody>\n",
              "    <tr>\n",
              "      <th>Dairy</th>\n",
              "      <td>17399</td>\n",
              "      <td>65</td>\n",
              "      <td>65</td>\n",
              "      <td>0</td>\n",
              "      <td>574</td>\n",
              "      <td>18103</td>\n",
              "      <td>130</td>\n",
              "      <td>0.718</td>\n",
              "    </tr>\n",
              "    <tr>\n",
              "      <th>Landfill</th>\n",
              "      <td>18599</td>\n",
              "      <td>64</td>\n",
              "      <td>93</td>\n",
              "      <td>0</td>\n",
              "      <td>583</td>\n",
              "      <td>19339</td>\n",
              "      <td>157</td>\n",
              "      <td>0.812</td>\n",
              "    </tr>\n",
              "    <tr>\n",
              "      <th>Oil and Gas</th>\n",
              "      <td>34521</td>\n",
              "      <td>177</td>\n",
              "      <td>225</td>\n",
              "      <td>1</td>\n",
              "      <td>1088</td>\n",
              "      <td>36012</td>\n",
              "      <td>403</td>\n",
              "      <td>1.119</td>\n",
              "    </tr>\n",
              "    <tr>\n",
              "      <th>All Sectors</th>\n",
              "      <td>70519</td>\n",
              "      <td>306</td>\n",
              "      <td>383</td>\n",
              "      <td>1</td>\n",
              "      <td>2245</td>\n",
              "      <td>73454</td>\n",
              "      <td>690</td>\n",
              "      <td>0.939</td>\n",
              "    </tr>\n",
              "  </tbody>\n",
              "</table>\n",
              "</div>\n",
              "      <button class=\"colab-df-convert\" onclick=\"convertToInteractive('df-7b5088fe-2d9c-4160-88a9-ff742e673bf0')\"\n",
              "              title=\"Convert this dataframe to an interactive table.\"\n",
              "              style=\"display:none;\">\n",
              "\n",
              "  <svg xmlns=\"http://www.w3.org/2000/svg\" height=\"24px\"viewBox=\"0 0 24 24\"\n",
              "       width=\"24px\">\n",
              "    <path d=\"M0 0h24v24H0V0z\" fill=\"none\"/>\n",
              "    <path d=\"M18.56 5.44l.94 2.06.94-2.06 2.06-.94-2.06-.94-.94-2.06-.94 2.06-2.06.94zm-11 1L8.5 8.5l.94-2.06 2.06-.94-2.06-.94L8.5 2.5l-.94 2.06-2.06.94zm10 10l.94 2.06.94-2.06 2.06-.94-2.06-.94-.94-2.06-.94 2.06-2.06.94z\"/><path d=\"M17.41 7.96l-1.37-1.37c-.4-.4-.92-.59-1.43-.59-.52 0-1.04.2-1.43.59L10.3 9.45l-7.72 7.72c-.78.78-.78 2.05 0 2.83L4 21.41c.39.39.9.59 1.41.59.51 0 1.02-.2 1.41-.59l7.78-7.78 2.81-2.81c.8-.78.8-2.07 0-2.86zM5.41 20L4 18.59l7.72-7.72 1.47 1.35L5.41 20z\"/>\n",
              "  </svg>\n",
              "      </button>\n",
              "\n",
              "\n",
              "\n",
              "    <div id=\"df-cbd9431f-789e-41f8-b7f1-3d1ac4ebbf95\">\n",
              "      <button class=\"colab-df-quickchart\" onclick=\"quickchart('df-cbd9431f-789e-41f8-b7f1-3d1ac4ebbf95')\"\n",
              "              title=\"Suggest charts.\"\n",
              "              style=\"display:none;\">\n",
              "\n",
              "<svg xmlns=\"http://www.w3.org/2000/svg\" height=\"24px\"viewBox=\"0 0 24 24\"\n",
              "     width=\"24px\">\n",
              "    <g>\n",
              "        <path d=\"M19 3H5c-1.1 0-2 .9-2 2v14c0 1.1.9 2 2 2h14c1.1 0 2-.9 2-2V5c0-1.1-.9-2-2-2zM9 17H7v-7h2v7zm4 0h-2V7h2v10zm4 0h-2v-4h2v4z\"/>\n",
              "    </g>\n",
              "</svg>\n",
              "      </button>\n",
              "    </div>\n",
              "\n",
              "<style>\n",
              "  .colab-df-quickchart {\n",
              "    background-color: #E8F0FE;\n",
              "    border: none;\n",
              "    border-radius: 50%;\n",
              "    cursor: pointer;\n",
              "    display: none;\n",
              "    fill: #1967D2;\n",
              "    height: 32px;\n",
              "    padding: 0 0 0 0;\n",
              "    width: 32px;\n",
              "  }\n",
              "\n",
              "  .colab-df-quickchart:hover {\n",
              "    background-color: #E2EBFA;\n",
              "    box-shadow: 0px 1px 2px rgba(60, 64, 67, 0.3), 0px 1px 3px 1px rgba(60, 64, 67, 0.15);\n",
              "    fill: #174EA6;\n",
              "  }\n",
              "\n",
              "  [theme=dark] .colab-df-quickchart {\n",
              "    background-color: #3B4455;\n",
              "    fill: #D2E3FC;\n",
              "  }\n",
              "\n",
              "  [theme=dark] .colab-df-quickchart:hover {\n",
              "    background-color: #434B5C;\n",
              "    box-shadow: 0px 1px 3px 1px rgba(0, 0, 0, 0.15);\n",
              "    filter: drop-shadow(0px 1px 2px rgba(0, 0, 0, 0.3));\n",
              "    fill: #FFFFFF;\n",
              "  }\n",
              "</style>\n",
              "\n",
              "    <script>\n",
              "      async function quickchart(key) {\n",
              "        const containerElement = document.querySelector('#' + key);\n",
              "        const charts = await google.colab.kernel.invokeFunction(\n",
              "            'suggestCharts', [key], {});\n",
              "      }\n",
              "    </script>\n",
              "\n",
              "      <script>\n",
              "\n",
              "function displayQuickchartButton(domScope) {\n",
              "  let quickchartButtonEl =\n",
              "    domScope.querySelector('#df-cbd9431f-789e-41f8-b7f1-3d1ac4ebbf95 button.colab-df-quickchart');\n",
              "  quickchartButtonEl.style.display =\n",
              "    google.colab.kernel.accessAllowed ? 'block' : 'none';\n",
              "}\n",
              "\n",
              "        displayQuickchartButton(document);\n",
              "      </script>\n",
              "      <style>\n",
              "    .colab-df-container {\n",
              "      display:flex;\n",
              "      flex-wrap:wrap;\n",
              "      gap: 12px;\n",
              "    }\n",
              "\n",
              "    .colab-df-convert {\n",
              "      background-color: #E8F0FE;\n",
              "      border: none;\n",
              "      border-radius: 50%;\n",
              "      cursor: pointer;\n",
              "      display: none;\n",
              "      fill: #1967D2;\n",
              "      height: 32px;\n",
              "      padding: 0 0 0 0;\n",
              "      width: 32px;\n",
              "    }\n",
              "\n",
              "    .colab-df-convert:hover {\n",
              "      background-color: #E2EBFA;\n",
              "      box-shadow: 0px 1px 2px rgba(60, 64, 67, 0.3), 0px 1px 3px 1px rgba(60, 64, 67, 0.15);\n",
              "      fill: #174EA6;\n",
              "    }\n",
              "\n",
              "    [theme=dark] .colab-df-convert {\n",
              "      background-color: #3B4455;\n",
              "      fill: #D2E3FC;\n",
              "    }\n",
              "\n",
              "    [theme=dark] .colab-df-convert:hover {\n",
              "      background-color: #434B5C;\n",
              "      box-shadow: 0px 1px 3px 1px rgba(0, 0, 0, 0.15);\n",
              "      filter: drop-shadow(0px 1px 2px rgba(0, 0, 0, 0.3));\n",
              "      fill: #FFFFFF;\n",
              "    }\n",
              "  </style>\n",
              "\n",
              "      <script>\n",
              "        const buttonEl =\n",
              "          document.querySelector('#df-7b5088fe-2d9c-4160-88a9-ff742e673bf0 button.colab-df-convert');\n",
              "        buttonEl.style.display =\n",
              "          google.colab.kernel.accessAllowed ? 'block' : 'none';\n",
              "\n",
              "        async function convertToInteractive(key) {\n",
              "          const element = document.querySelector('#df-7b5088fe-2d9c-4160-88a9-ff742e673bf0');\n",
              "          const dataTable =\n",
              "            await google.colab.kernel.invokeFunction('convertToInteractive',\n",
              "                                                     [key], {});\n",
              "          if (!dataTable) return;\n",
              "\n",
              "          const docLinkHtml = 'Like what you see? Visit the ' +\n",
              "            '<a target=\"_blank\" href=https://colab.research.google.com/notebooks/data_table.ipynb>data table notebook</a>'\n",
              "            + ' to learn more about interactive tables.';\n",
              "          element.innerHTML = '';\n",
              "          dataTable['output_type'] = 'display_data';\n",
              "          await google.colab.output.renderOutput(dataTable, element);\n",
              "          const docLink = document.createElement('div');\n",
              "          docLink.innerHTML = docLinkHtml;\n",
              "          element.appendChild(docLink);\n",
              "        }\n",
              "      </script>\n",
              "    </div>\n",
              "  </div>\n"
            ]
          },
          "metadata": {}
        }
      ],
      "source": [
        "display(df_1b)"
      ]
    },
    {
      "cell_type": "markdown",
      "metadata": {
        "collapsed": false,
        "jupyter": {
          "outputs_hidden": false
        },
        "id": "HAgCXqC965TF"
      },
      "source": [
        "# Question 2\n",
        "What percentage of satellite plume observations at a given location were confirmed by the facility operators as a leak?  (i.e. satellites observed one or more methane plumes at a location and the operator subsequently reported the discovery of a methane leak at that location) Do these confirmation rates vary by industrial sector?"
      ]
    },
    {
      "cell_type": "markdown",
      "metadata": {
        "collapsed": false,
        "jupyter": {
          "outputs_hidden": false
        },
        "id": "yTN8V5eY65TF"
      },
      "source": [
        "### Answer Methodology\n",
        "1. Create a dataframe with the plume counts by sector from Question 1\n",
        "2. Use the ticket_manager to determine the number of confirmation events and the number of associated plumes that are confirmed (by sector)\n",
        "3. Perform aggregate statistics and present as a dataframe"
      ]
    },
    {
      "cell_type": "code",
      "execution_count": null,
      "metadata": {
        "jupyter": {
          "outputs_hidden": false
        },
        "id": "MbNs3haH65TF"
      },
      "outputs": [],
      "source": [
        "# Use ticket manager to count confirm events and related plumes\n",
        "confirm_counts, plume_counts = ticket_manager.count_confirmed_plumes()"
      ]
    },
    {
      "cell_type": "code",
      "execution_count": null,
      "metadata": {
        "jupyter": {
          "outputs_hidden": false
        },
        "id": "1yPi5kE565TF"
      },
      "outputs": [],
      "source": [
        "df_2a = df_1b.copy()[['Num Plumes']]\n",
        "confirm_counts_series = pd.Series(confirm_counts, name='Confirm Events')\n",
        "plume_counts_series = pd.Series(plume_counts, name='Confirmed Plumes')\n",
        "\n",
        "df_2a['Confirm Events'] = confirm_counts_series\n",
        "df_2a['Confirmed Plumes'] = plume_counts_series\n",
        "df_2a['% Plumes Confirmed'] = df_2a['Confirmed Plumes'] / df_2a['Num Plumes'] * 100\n",
        "df_2a = df_2a.round({'% Plumes Confirmed': 1})"
      ]
    },
    {
      "cell_type": "markdown",
      "metadata": {
        "collapsed": false,
        "jupyter": {
          "outputs_hidden": false
        },
        "id": "c1-N0oIN65TF"
      },
      "source": [
        "### Answer"
      ]
    },
    {
      "cell_type": "code",
      "execution_count": null,
      "metadata": {
        "jupyter": {
          "outputs_hidden": false
        },
        "colab": {
          "base_uri": "https://localhost:8080/",
          "height": 206
        },
        "id": "2FWQ2-zx65TF",
        "outputId": "75541017-5d29-4b3e-a72d-3906829b4931"
      },
      "outputs": [
        {
          "output_type": "display_data",
          "data": {
            "text/plain": [
              "Event_Status       Num Plumes  Confirm Events  Confirmed Plumes  \\\n",
              "Industrial_Sector                                                 \n",
              "Dairy                     130              13                83   \n",
              "Landfill                  157              19               109   \n",
              "Oil and Gas               403              36               194   \n",
              "All Sectors               690              68               386   \n",
              "\n",
              "Event_Status       % Plumes Confirmed  \n",
              "Industrial_Sector                      \n",
              "Dairy                            63.8  \n",
              "Landfill                         69.4  \n",
              "Oil and Gas                      48.1  \n",
              "All Sectors                      55.9  "
            ],
            "text/html": [
              "\n",
              "\n",
              "  <div id=\"df-587ec00e-11aa-4688-be32-ab1cab006934\">\n",
              "    <div class=\"colab-df-container\">\n",
              "      <div>\n",
              "<style scoped>\n",
              "    .dataframe tbody tr th:only-of-type {\n",
              "        vertical-align: middle;\n",
              "    }\n",
              "\n",
              "    .dataframe tbody tr th {\n",
              "        vertical-align: top;\n",
              "    }\n",
              "\n",
              "    .dataframe thead th {\n",
              "        text-align: right;\n",
              "    }\n",
              "</style>\n",
              "<table border=\"1\" class=\"dataframe\">\n",
              "  <thead>\n",
              "    <tr style=\"text-align: right;\">\n",
              "      <th>Event_Status</th>\n",
              "      <th>Num Plumes</th>\n",
              "      <th>Confirm Events</th>\n",
              "      <th>Confirmed Plumes</th>\n",
              "      <th>% Plumes Confirmed</th>\n",
              "    </tr>\n",
              "    <tr>\n",
              "      <th>Industrial_Sector</th>\n",
              "      <th></th>\n",
              "      <th></th>\n",
              "      <th></th>\n",
              "      <th></th>\n",
              "    </tr>\n",
              "  </thead>\n",
              "  <tbody>\n",
              "    <tr>\n",
              "      <th>Dairy</th>\n",
              "      <td>130</td>\n",
              "      <td>13</td>\n",
              "      <td>83</td>\n",
              "      <td>63.8</td>\n",
              "    </tr>\n",
              "    <tr>\n",
              "      <th>Landfill</th>\n",
              "      <td>157</td>\n",
              "      <td>19</td>\n",
              "      <td>109</td>\n",
              "      <td>69.4</td>\n",
              "    </tr>\n",
              "    <tr>\n",
              "      <th>Oil and Gas</th>\n",
              "      <td>403</td>\n",
              "      <td>36</td>\n",
              "      <td>194</td>\n",
              "      <td>48.1</td>\n",
              "    </tr>\n",
              "    <tr>\n",
              "      <th>All Sectors</th>\n",
              "      <td>690</td>\n",
              "      <td>68</td>\n",
              "      <td>386</td>\n",
              "      <td>55.9</td>\n",
              "    </tr>\n",
              "  </tbody>\n",
              "</table>\n",
              "</div>\n",
              "      <button class=\"colab-df-convert\" onclick=\"convertToInteractive('df-587ec00e-11aa-4688-be32-ab1cab006934')\"\n",
              "              title=\"Convert this dataframe to an interactive table.\"\n",
              "              style=\"display:none;\">\n",
              "\n",
              "  <svg xmlns=\"http://www.w3.org/2000/svg\" height=\"24px\"viewBox=\"0 0 24 24\"\n",
              "       width=\"24px\">\n",
              "    <path d=\"M0 0h24v24H0V0z\" fill=\"none\"/>\n",
              "    <path d=\"M18.56 5.44l.94 2.06.94-2.06 2.06-.94-2.06-.94-.94-2.06-.94 2.06-2.06.94zm-11 1L8.5 8.5l.94-2.06 2.06-.94-2.06-.94L8.5 2.5l-.94 2.06-2.06.94zm10 10l.94 2.06.94-2.06 2.06-.94-2.06-.94-.94-2.06-.94 2.06-2.06.94z\"/><path d=\"M17.41 7.96l-1.37-1.37c-.4-.4-.92-.59-1.43-.59-.52 0-1.04.2-1.43.59L10.3 9.45l-7.72 7.72c-.78.78-.78 2.05 0 2.83L4 21.41c.39.39.9.59 1.41.59.51 0 1.02-.2 1.41-.59l7.78-7.78 2.81-2.81c.8-.78.8-2.07 0-2.86zM5.41 20L4 18.59l7.72-7.72 1.47 1.35L5.41 20z\"/>\n",
              "  </svg>\n",
              "      </button>\n",
              "\n",
              "\n",
              "\n",
              "    <div id=\"df-70ae3165-661c-48b1-8003-9b8d0619a835\">\n",
              "      <button class=\"colab-df-quickchart\" onclick=\"quickchart('df-70ae3165-661c-48b1-8003-9b8d0619a835')\"\n",
              "              title=\"Suggest charts.\"\n",
              "              style=\"display:none;\">\n",
              "\n",
              "<svg xmlns=\"http://www.w3.org/2000/svg\" height=\"24px\"viewBox=\"0 0 24 24\"\n",
              "     width=\"24px\">\n",
              "    <g>\n",
              "        <path d=\"M19 3H5c-1.1 0-2 .9-2 2v14c0 1.1.9 2 2 2h14c1.1 0 2-.9 2-2V5c0-1.1-.9-2-2-2zM9 17H7v-7h2v7zm4 0h-2V7h2v10zm4 0h-2v-4h2v4z\"/>\n",
              "    </g>\n",
              "</svg>\n",
              "      </button>\n",
              "    </div>\n",
              "\n",
              "<style>\n",
              "  .colab-df-quickchart {\n",
              "    background-color: #E8F0FE;\n",
              "    border: none;\n",
              "    border-radius: 50%;\n",
              "    cursor: pointer;\n",
              "    display: none;\n",
              "    fill: #1967D2;\n",
              "    height: 32px;\n",
              "    padding: 0 0 0 0;\n",
              "    width: 32px;\n",
              "  }\n",
              "\n",
              "  .colab-df-quickchart:hover {\n",
              "    background-color: #E2EBFA;\n",
              "    box-shadow: 0px 1px 2px rgba(60, 64, 67, 0.3), 0px 1px 3px 1px rgba(60, 64, 67, 0.15);\n",
              "    fill: #174EA6;\n",
              "  }\n",
              "\n",
              "  [theme=dark] .colab-df-quickchart {\n",
              "    background-color: #3B4455;\n",
              "    fill: #D2E3FC;\n",
              "  }\n",
              "\n",
              "  [theme=dark] .colab-df-quickchart:hover {\n",
              "    background-color: #434B5C;\n",
              "    box-shadow: 0px 1px 3px 1px rgba(0, 0, 0, 0.15);\n",
              "    filter: drop-shadow(0px 1px 2px rgba(0, 0, 0, 0.3));\n",
              "    fill: #FFFFFF;\n",
              "  }\n",
              "</style>\n",
              "\n",
              "    <script>\n",
              "      async function quickchart(key) {\n",
              "        const containerElement = document.querySelector('#' + key);\n",
              "        const charts = await google.colab.kernel.invokeFunction(\n",
              "            'suggestCharts', [key], {});\n",
              "      }\n",
              "    </script>\n",
              "\n",
              "      <script>\n",
              "\n",
              "function displayQuickchartButton(domScope) {\n",
              "  let quickchartButtonEl =\n",
              "    domScope.querySelector('#df-70ae3165-661c-48b1-8003-9b8d0619a835 button.colab-df-quickchart');\n",
              "  quickchartButtonEl.style.display =\n",
              "    google.colab.kernel.accessAllowed ? 'block' : 'none';\n",
              "}\n",
              "\n",
              "        displayQuickchartButton(document);\n",
              "      </script>\n",
              "      <style>\n",
              "    .colab-df-container {\n",
              "      display:flex;\n",
              "      flex-wrap:wrap;\n",
              "      gap: 12px;\n",
              "    }\n",
              "\n",
              "    .colab-df-convert {\n",
              "      background-color: #E8F0FE;\n",
              "      border: none;\n",
              "      border-radius: 50%;\n",
              "      cursor: pointer;\n",
              "      display: none;\n",
              "      fill: #1967D2;\n",
              "      height: 32px;\n",
              "      padding: 0 0 0 0;\n",
              "      width: 32px;\n",
              "    }\n",
              "\n",
              "    .colab-df-convert:hover {\n",
              "      background-color: #E2EBFA;\n",
              "      box-shadow: 0px 1px 2px rgba(60, 64, 67, 0.3), 0px 1px 3px 1px rgba(60, 64, 67, 0.15);\n",
              "      fill: #174EA6;\n",
              "    }\n",
              "\n",
              "    [theme=dark] .colab-df-convert {\n",
              "      background-color: #3B4455;\n",
              "      fill: #D2E3FC;\n",
              "    }\n",
              "\n",
              "    [theme=dark] .colab-df-convert:hover {\n",
              "      background-color: #434B5C;\n",
              "      box-shadow: 0px 1px 3px 1px rgba(0, 0, 0, 0.15);\n",
              "      filter: drop-shadow(0px 1px 2px rgba(0, 0, 0, 0.3));\n",
              "      fill: #FFFFFF;\n",
              "    }\n",
              "  </style>\n",
              "\n",
              "      <script>\n",
              "        const buttonEl =\n",
              "          document.querySelector('#df-587ec00e-11aa-4688-be32-ab1cab006934 button.colab-df-convert');\n",
              "        buttonEl.style.display =\n",
              "          google.colab.kernel.accessAllowed ? 'block' : 'none';\n",
              "\n",
              "        async function convertToInteractive(key) {\n",
              "          const element = document.querySelector('#df-587ec00e-11aa-4688-be32-ab1cab006934');\n",
              "          const dataTable =\n",
              "            await google.colab.kernel.invokeFunction('convertToInteractive',\n",
              "                                                     [key], {});\n",
              "          if (!dataTable) return;\n",
              "\n",
              "          const docLinkHtml = 'Like what you see? Visit the ' +\n",
              "            '<a target=\"_blank\" href=https://colab.research.google.com/notebooks/data_table.ipynb>data table notebook</a>'\n",
              "            + ' to learn more about interactive tables.';\n",
              "          element.innerHTML = '';\n",
              "          dataTable['output_type'] = 'display_data';\n",
              "          await google.colab.output.renderOutput(dataTable, element);\n",
              "          const docLink = document.createElement('div');\n",
              "          docLink.innerHTML = docLinkHtml;\n",
              "          element.appendChild(docLink);\n",
              "        }\n",
              "      </script>\n",
              "    </div>\n",
              "  </div>\n"
            ]
          },
          "metadata": {}
        }
      ],
      "source": [
        "display(df_2a)"
      ]
    },
    {
      "cell_type": "markdown",
      "metadata": {
        "collapsed": false,
        "jupyter": {
          "outputs_hidden": false
        },
        "id": "4PzADJmF65TF"
      },
      "source": [
        "# Question 3\n",
        "What was the average amount of time it took for an operator to confirm the detection of a leak from when a plume was first observed by the satellite for the given location?  How long on average did it take facility operators to fix a leak once they were able to confirm its presence?"
      ]
    },
    {
      "cell_type": "markdown",
      "metadata": {
        "collapsed": false,
        "jupyter": {
          "outputs_hidden": false
        },
        "id": "OpjeR8jB65TF"
      },
      "source": [
        "## Part A\n",
        "What was the average amount of time it took for an operator to confirm the detection of a leak from when a plume was first observed by the satellite for the given location?\n"
      ]
    },
    {
      "cell_type": "markdown",
      "metadata": {
        "collapsed": false,
        "jupyter": {
          "outputs_hidden": false
        },
        "id": "8Ay8dnFX65TF"
      },
      "source": [
        "### Answer Methodology\n",
        "1. Use the ticket_manager to determine the duration time for leak confirmation by sector.\n",
        "2. See documentation of the TicketManager.confirm_durations method for details."
      ]
    },
    {
      "cell_type": "code",
      "execution_count": null,
      "metadata": {
        "jupyter": {
          "outputs_hidden": false
        },
        "id": "OTYs5AZn65TF"
      },
      "outputs": [],
      "source": [
        "# Ticket manager will create a list of confirm durations by sector\n",
        "confirm_durations = ticket_manager.confirm_durations()\n",
        "# Convert the list of confirm durations to a dataframe\n",
        "df_confirm = dict_to_data_frame(confirm_durations)"
      ]
    },
    {
      "cell_type": "markdown",
      "metadata": {
        "collapsed": false,
        "jupyter": {
          "outputs_hidden": false
        },
        "id": "SPj_hiRY65TF"
      },
      "source": [
        "### Answer"
      ]
    },
    {
      "cell_type": "markdown",
      "metadata": {
        "collapsed": false,
        "jupyter": {
          "outputs_hidden": false
        },
        "id": "P9pD9edB65TF"
      },
      "source": [
        "The mean leak confirmation time (and other statistics) are show below.\n",
        "The mean leak confirmation time varied by sector, but was approximately 3.6 days on average."
      ]
    },
    {
      "cell_type": "code",
      "execution_count": null,
      "metadata": {
        "jupyter": {
          "outputs_hidden": false
        },
        "colab": {
          "base_uri": "https://localhost:8080/",
          "height": 300
        },
        "id": "S5OICzae65TF",
        "outputId": "4518f64e-a517-4cb3-a250-f7117357d318"
      },
      "outputs": [
        {
          "output_type": "execute_result",
          "data": {
            "text/plain": [
              "           Dairy   Landfill  Oil and Gas  All Sectors\n",
              "count  13.000000  19.000000    36.000000    68.000000\n",
              "mean    3.754006   3.989583     3.362307     3.612459\n",
              "std     2.365978   2.092168     2.338385     2.261159\n",
              "min     0.567361   0.124306     0.068056     0.068056\n",
              "25%     1.886111   2.688889     1.602951     1.885069\n",
              "50%     3.777778   3.843750     3.161111     3.712847\n",
              "75%     6.154861   5.977778     5.015451     5.490278\n",
              "max     7.222222   7.483333     7.626389     7.626389"
            ],
            "text/html": [
              "\n",
              "\n",
              "  <div id=\"df-0a6499c9-669d-49e8-aff2-fcfae0f49cda\">\n",
              "    <div class=\"colab-df-container\">\n",
              "      <div>\n",
              "<style scoped>\n",
              "    .dataframe tbody tr th:only-of-type {\n",
              "        vertical-align: middle;\n",
              "    }\n",
              "\n",
              "    .dataframe tbody tr th {\n",
              "        vertical-align: top;\n",
              "    }\n",
              "\n",
              "    .dataframe thead th {\n",
              "        text-align: right;\n",
              "    }\n",
              "</style>\n",
              "<table border=\"1\" class=\"dataframe\">\n",
              "  <thead>\n",
              "    <tr style=\"text-align: right;\">\n",
              "      <th></th>\n",
              "      <th>Dairy</th>\n",
              "      <th>Landfill</th>\n",
              "      <th>Oil and Gas</th>\n",
              "      <th>All Sectors</th>\n",
              "    </tr>\n",
              "  </thead>\n",
              "  <tbody>\n",
              "    <tr>\n",
              "      <th>count</th>\n",
              "      <td>13.000000</td>\n",
              "      <td>19.000000</td>\n",
              "      <td>36.000000</td>\n",
              "      <td>68.000000</td>\n",
              "    </tr>\n",
              "    <tr>\n",
              "      <th>mean</th>\n",
              "      <td>3.754006</td>\n",
              "      <td>3.989583</td>\n",
              "      <td>3.362307</td>\n",
              "      <td>3.612459</td>\n",
              "    </tr>\n",
              "    <tr>\n",
              "      <th>std</th>\n",
              "      <td>2.365978</td>\n",
              "      <td>2.092168</td>\n",
              "      <td>2.338385</td>\n",
              "      <td>2.261159</td>\n",
              "    </tr>\n",
              "    <tr>\n",
              "      <th>min</th>\n",
              "      <td>0.567361</td>\n",
              "      <td>0.124306</td>\n",
              "      <td>0.068056</td>\n",
              "      <td>0.068056</td>\n",
              "    </tr>\n",
              "    <tr>\n",
              "      <th>25%</th>\n",
              "      <td>1.886111</td>\n",
              "      <td>2.688889</td>\n",
              "      <td>1.602951</td>\n",
              "      <td>1.885069</td>\n",
              "    </tr>\n",
              "    <tr>\n",
              "      <th>50%</th>\n",
              "      <td>3.777778</td>\n",
              "      <td>3.843750</td>\n",
              "      <td>3.161111</td>\n",
              "      <td>3.712847</td>\n",
              "    </tr>\n",
              "    <tr>\n",
              "      <th>75%</th>\n",
              "      <td>6.154861</td>\n",
              "      <td>5.977778</td>\n",
              "      <td>5.015451</td>\n",
              "      <td>5.490278</td>\n",
              "    </tr>\n",
              "    <tr>\n",
              "      <th>max</th>\n",
              "      <td>7.222222</td>\n",
              "      <td>7.483333</td>\n",
              "      <td>7.626389</td>\n",
              "      <td>7.626389</td>\n",
              "    </tr>\n",
              "  </tbody>\n",
              "</table>\n",
              "</div>\n",
              "      <button class=\"colab-df-convert\" onclick=\"convertToInteractive('df-0a6499c9-669d-49e8-aff2-fcfae0f49cda')\"\n",
              "              title=\"Convert this dataframe to an interactive table.\"\n",
              "              style=\"display:none;\">\n",
              "\n",
              "  <svg xmlns=\"http://www.w3.org/2000/svg\" height=\"24px\"viewBox=\"0 0 24 24\"\n",
              "       width=\"24px\">\n",
              "    <path d=\"M0 0h24v24H0V0z\" fill=\"none\"/>\n",
              "    <path d=\"M18.56 5.44l.94 2.06.94-2.06 2.06-.94-2.06-.94-.94-2.06-.94 2.06-2.06.94zm-11 1L8.5 8.5l.94-2.06 2.06-.94-2.06-.94L8.5 2.5l-.94 2.06-2.06.94zm10 10l.94 2.06.94-2.06 2.06-.94-2.06-.94-.94-2.06-.94 2.06-2.06.94z\"/><path d=\"M17.41 7.96l-1.37-1.37c-.4-.4-.92-.59-1.43-.59-.52 0-1.04.2-1.43.59L10.3 9.45l-7.72 7.72c-.78.78-.78 2.05 0 2.83L4 21.41c.39.39.9.59 1.41.59.51 0 1.02-.2 1.41-.59l7.78-7.78 2.81-2.81c.8-.78.8-2.07 0-2.86zM5.41 20L4 18.59l7.72-7.72 1.47 1.35L5.41 20z\"/>\n",
              "  </svg>\n",
              "      </button>\n",
              "\n",
              "\n",
              "\n",
              "    <div id=\"df-27de2495-bc7b-4942-bb30-7fed21e61efd\">\n",
              "      <button class=\"colab-df-quickchart\" onclick=\"quickchart('df-27de2495-bc7b-4942-bb30-7fed21e61efd')\"\n",
              "              title=\"Suggest charts.\"\n",
              "              style=\"display:none;\">\n",
              "\n",
              "<svg xmlns=\"http://www.w3.org/2000/svg\" height=\"24px\"viewBox=\"0 0 24 24\"\n",
              "     width=\"24px\">\n",
              "    <g>\n",
              "        <path d=\"M19 3H5c-1.1 0-2 .9-2 2v14c0 1.1.9 2 2 2h14c1.1 0 2-.9 2-2V5c0-1.1-.9-2-2-2zM9 17H7v-7h2v7zm4 0h-2V7h2v10zm4 0h-2v-4h2v4z\"/>\n",
              "    </g>\n",
              "</svg>\n",
              "      </button>\n",
              "    </div>\n",
              "\n",
              "<style>\n",
              "  .colab-df-quickchart {\n",
              "    background-color: #E8F0FE;\n",
              "    border: none;\n",
              "    border-radius: 50%;\n",
              "    cursor: pointer;\n",
              "    display: none;\n",
              "    fill: #1967D2;\n",
              "    height: 32px;\n",
              "    padding: 0 0 0 0;\n",
              "    width: 32px;\n",
              "  }\n",
              "\n",
              "  .colab-df-quickchart:hover {\n",
              "    background-color: #E2EBFA;\n",
              "    box-shadow: 0px 1px 2px rgba(60, 64, 67, 0.3), 0px 1px 3px 1px rgba(60, 64, 67, 0.15);\n",
              "    fill: #174EA6;\n",
              "  }\n",
              "\n",
              "  [theme=dark] .colab-df-quickchart {\n",
              "    background-color: #3B4455;\n",
              "    fill: #D2E3FC;\n",
              "  }\n",
              "\n",
              "  [theme=dark] .colab-df-quickchart:hover {\n",
              "    background-color: #434B5C;\n",
              "    box-shadow: 0px 1px 3px 1px rgba(0, 0, 0, 0.15);\n",
              "    filter: drop-shadow(0px 1px 2px rgba(0, 0, 0, 0.3));\n",
              "    fill: #FFFFFF;\n",
              "  }\n",
              "</style>\n",
              "\n",
              "    <script>\n",
              "      async function quickchart(key) {\n",
              "        const containerElement = document.querySelector('#' + key);\n",
              "        const charts = await google.colab.kernel.invokeFunction(\n",
              "            'suggestCharts', [key], {});\n",
              "      }\n",
              "    </script>\n",
              "\n",
              "      <script>\n",
              "\n",
              "function displayQuickchartButton(domScope) {\n",
              "  let quickchartButtonEl =\n",
              "    domScope.querySelector('#df-27de2495-bc7b-4942-bb30-7fed21e61efd button.colab-df-quickchart');\n",
              "  quickchartButtonEl.style.display =\n",
              "    google.colab.kernel.accessAllowed ? 'block' : 'none';\n",
              "}\n",
              "\n",
              "        displayQuickchartButton(document);\n",
              "      </script>\n",
              "      <style>\n",
              "    .colab-df-container {\n",
              "      display:flex;\n",
              "      flex-wrap:wrap;\n",
              "      gap: 12px;\n",
              "    }\n",
              "\n",
              "    .colab-df-convert {\n",
              "      background-color: #E8F0FE;\n",
              "      border: none;\n",
              "      border-radius: 50%;\n",
              "      cursor: pointer;\n",
              "      display: none;\n",
              "      fill: #1967D2;\n",
              "      height: 32px;\n",
              "      padding: 0 0 0 0;\n",
              "      width: 32px;\n",
              "    }\n",
              "\n",
              "    .colab-df-convert:hover {\n",
              "      background-color: #E2EBFA;\n",
              "      box-shadow: 0px 1px 2px rgba(60, 64, 67, 0.3), 0px 1px 3px 1px rgba(60, 64, 67, 0.15);\n",
              "      fill: #174EA6;\n",
              "    }\n",
              "\n",
              "    [theme=dark] .colab-df-convert {\n",
              "      background-color: #3B4455;\n",
              "      fill: #D2E3FC;\n",
              "    }\n",
              "\n",
              "    [theme=dark] .colab-df-convert:hover {\n",
              "      background-color: #434B5C;\n",
              "      box-shadow: 0px 1px 3px 1px rgba(0, 0, 0, 0.15);\n",
              "      filter: drop-shadow(0px 1px 2px rgba(0, 0, 0, 0.3));\n",
              "      fill: #FFFFFF;\n",
              "    }\n",
              "  </style>\n",
              "\n",
              "      <script>\n",
              "        const buttonEl =\n",
              "          document.querySelector('#df-0a6499c9-669d-49e8-aff2-fcfae0f49cda button.colab-df-convert');\n",
              "        buttonEl.style.display =\n",
              "          google.colab.kernel.accessAllowed ? 'block' : 'none';\n",
              "\n",
              "        async function convertToInteractive(key) {\n",
              "          const element = document.querySelector('#df-0a6499c9-669d-49e8-aff2-fcfae0f49cda');\n",
              "          const dataTable =\n",
              "            await google.colab.kernel.invokeFunction('convertToInteractive',\n",
              "                                                     [key], {});\n",
              "          if (!dataTable) return;\n",
              "\n",
              "          const docLinkHtml = 'Like what you see? Visit the ' +\n",
              "            '<a target=\"_blank\" href=https://colab.research.google.com/notebooks/data_table.ipynb>data table notebook</a>'\n",
              "            + ' to learn more about interactive tables.';\n",
              "          element.innerHTML = '';\n",
              "          dataTable['output_type'] = 'display_data';\n",
              "          await google.colab.output.renderOutput(dataTable, element);\n",
              "          const docLink = document.createElement('div');\n",
              "          docLink.innerHTML = docLinkHtml;\n",
              "          element.appendChild(docLink);\n",
              "        }\n",
              "      </script>\n",
              "    </div>\n",
              "  </div>\n"
            ]
          },
          "metadata": {},
          "execution_count": 35
        }
      ],
      "source": [
        "df_confirm.describe()"
      ]
    },
    {
      "cell_type": "code",
      "execution_count": null,
      "metadata": {
        "jupyter": {
          "outputs_hidden": false
        },
        "id": "gjGzLeIg65TG"
      },
      "outputs": [],
      "source": [
        "# Find Suitable Histogram Bins\n",
        "confirm_bins = find_hist_bins(confirm_durations['All Sectors'])"
      ]
    },
    {
      "cell_type": "code",
      "execution_count": null,
      "metadata": {
        "jupyter": {
          "outputs_hidden": false
        },
        "colab": {
          "base_uri": "https://localhost:8080/",
          "height": 492
        },
        "id": "srQOMOWI65TG",
        "outputId": "48b27eb0-0dca-492e-839d-b4b00092d7a4"
      },
      "outputs": [
        {
          "output_type": "display_data",
          "data": {
            "text/plain": [
              "<Figure size 640x480 with 4 Axes>"
            ],
            "image/png": "[encoded data removed]"
          },
          "metadata": {}
        }
      ],
      "source": [
        "figure, axes = plot_histogram(df_confirm,\n",
        "                              confirm_bins,\n",
        "                              figure_title=\"Leak Confirmation Time\"\n",
        "                              )"
      ]
    },
    {
      "cell_type": "code",
      "execution_count": null,
      "metadata": {
        "jupyter": {
          "outputs_hidden": false
        },
        "colab": {
          "base_uri": "https://localhost:8080/",
          "height": 492
        },
        "id": "l65S3LKa65TG",
        "outputId": "224f9b3f-5db4-4d27-f3e5-9ac68f33c685"
      },
      "outputs": [
        {
          "output_type": "display_data",
          "data": {
            "text/plain": [
              "<Figure size 640x480 with 4 Axes>"
            ],
            "image/png": "[encoded data removed]"
          },
          "metadata": {}
        }
      ],
      "source": [
        "figure, axes = plot_histogram(df_confirm,\n",
        "                              confirm_bins,\n",
        "                              same_y_limits=True,\n",
        "                              figure_title=\"Leak Confirmation Time (Normalized)\"\n",
        "                              )"
      ]
    },
    {
      "cell_type": "markdown",
      "metadata": {
        "collapsed": false,
        "jupyter": {
          "outputs_hidden": false
        },
        "id": "vW5RidvP65TG"
      },
      "source": [
        "## Part B\n",
        "How long on average did it take facility operators to fix a leak once they were able to confirm its presence?"
      ]
    },
    {
      "cell_type": "markdown",
      "metadata": {
        "collapsed": false,
        "jupyter": {
          "outputs_hidden": false
        },
        "id": "5Lvv8Xoc65TG"
      },
      "source": [
        "### Answer Methodology\n",
        "1. Use the ticket_manager to determine the fix time for each facility by sector.\n",
        "2. See documentation of the TicketManager.fix_durations method for details."
      ]
    },
    {
      "cell_type": "code",
      "execution_count": null,
      "metadata": {
        "jupyter": {
          "outputs_hidden": false
        },
        "id": "sV6Gm7fG65TG"
      },
      "outputs": [],
      "source": [
        "# Ticket manager will create a list of fix durations by sector\n",
        "fix_durations = ticket_manager.fix_durations()\n",
        "# Convert the list of fix durations to a dataframe\n",
        "df_fix = dict_to_data_frame(fix_durations)"
      ]
    },
    {
      "cell_type": "markdown",
      "metadata": {
        "collapsed": false,
        "jupyter": {
          "outputs_hidden": false
        },
        "id": "U05Jr9CN65TG"
      },
      "source": [
        "### Answer"
      ]
    },
    {
      "cell_type": "markdown",
      "metadata": {
        "collapsed": false,
        "jupyter": {
          "outputs_hidden": false
        },
        "id": "orA_MoP465TG"
      },
      "source": [
        "The mean leak fix time (and other statistics) are show below.\n",
        "The mean fix confirmation time varied by sector:\n",
        "Dairy (2.0 days), Landfill (1.3 days), Oil and Gas (2.1 days), All Sectors (1.9 days)."
      ]
    },
    {
      "cell_type": "code",
      "execution_count": null,
      "metadata": {
        "jupyter": {
          "outputs_hidden": false
        },
        "colab": {
          "base_uri": "https://localhost:8080/",
          "height": 300
        },
        "id": "ZbH4nSFU65TG",
        "outputId": "c412cdf8-046d-429a-fb2a-27b86643c3e1"
      },
      "outputs": [
        {
          "output_type": "execute_result",
          "data": {
            "text/plain": [
              "           Dairy   Landfill  Oil and Gas  All Sectors\n",
              "count  10.000000  16.000000    32.000000    58.000000\n",
              "mean    2.013681   1.317665     2.083268     1.860069\n",
              "std     1.213614   0.921305     0.925661     1.018146\n",
              "min     0.299306   0.313889     0.197222     0.197222\n",
              "25%     0.936458   0.670312     1.566840     0.946354\n",
              "50%     2.495486   0.953125     2.145833     1.873958\n",
              "75%     2.695312   1.818576     2.801563     2.724479\n",
              "max     3.726389   3.127778     3.899306     3.899306"
            ],
            "text/html": [
              "\n",
              "\n",
              "  <div id=\"df-57c86636-4f02-483d-876b-b8d84bfa722a\">\n",
              "    <div class=\"colab-df-container\">\n",
              "      <div>\n",
              "<style scoped>\n",
              "    .dataframe tbody tr th:only-of-type {\n",
              "        vertical-align: middle;\n",
              "    }\n",
              "\n",
              "    .dataframe tbody tr th {\n",
              "        vertical-align: top;\n",
              "    }\n",
              "\n",
              "    .dataframe thead th {\n",
              "        text-align: right;\n",
              "    }\n",
              "</style>\n",
              "<table border=\"1\" class=\"dataframe\">\n",
              "  <thead>\n",
              "    <tr style=\"text-align: right;\">\n",
              "      <th></th>\n",
              "      <th>Dairy</th>\n",
              "      <th>Landfill</th>\n",
              "      <th>Oil and Gas</th>\n",
              "      <th>All Sectors</th>\n",
              "    </tr>\n",
              "  </thead>\n",
              "  <tbody>\n",
              "    <tr>\n",
              "      <th>count</th>\n",
              "      <td>10.000000</td>\n",
              "      <td>16.000000</td>\n",
              "      <td>32.000000</td>\n",
              "      <td>58.000000</td>\n",
              "    </tr>\n",
              "    <tr>\n",
              "      <th>mean</th>\n",
              "      <td>2.013681</td>\n",
              "      <td>1.317665</td>\n",
              "      <td>2.083268</td>\n",
              "      <td>1.860069</td>\n",
              "    </tr>\n",
              "    <tr>\n",
              "      <th>std</th>\n",
              "      <td>1.213614</td>\n",
              "      <td>0.921305</td>\n",
              "      <td>0.925661</td>\n",
              "      <td>1.018146</td>\n",
              "    </tr>\n",
              "    <tr>\n",
              "      <th>min</th>\n",
              "      <td>0.299306</td>\n",
              "      <td>0.313889</td>\n",
              "      <td>0.197222</td>\n",
              "      <td>0.197222</td>\n",
              "    </tr>\n",
              "    <tr>\n",
              "      <th>25%</th>\n",
              "      <td>0.936458</td>\n",
              "      <td>0.670312</td>\n",
              "      <td>1.566840</td>\n",
              "      <td>0.946354</td>\n",
              "    </tr>\n",
              "    <tr>\n",
              "      <th>50%</th>\n",
              "      <td>2.495486</td>\n",
              "      <td>0.953125</td>\n",
              "      <td>2.145833</td>\n",
              "      <td>1.873958</td>\n",
              "    </tr>\n",
              "    <tr>\n",
              "      <th>75%</th>\n",
              "      <td>2.695312</td>\n",
              "      <td>1.818576</td>\n",
              "      <td>2.801563</td>\n",
              "      <td>2.724479</td>\n",
              "    </tr>\n",
              "    <tr>\n",
              "      <th>max</th>\n",
              "      <td>3.726389</td>\n",
              "      <td>3.127778</td>\n",
              "      <td>3.899306</td>\n",
              "      <td>3.899306</td>\n",
              "    </tr>\n",
              "  </tbody>\n",
              "</table>\n",
              "</div>\n",
              "      <button class=\"colab-df-convert\" onclick=\"convertToInteractive('df-57c86636-4f02-483d-876b-b8d84bfa722a')\"\n",
              "              title=\"Convert this dataframe to an interactive table.\"\n",
              "              style=\"display:none;\">\n",
              "\n",
              "  <svg xmlns=\"http://www.w3.org/2000/svg\" height=\"24px\"viewBox=\"0 0 24 24\"\n",
              "       width=\"24px\">\n",
              "    <path d=\"M0 0h24v24H0V0z\" fill=\"none\"/>\n",
              "    <path d=\"M18.56 5.44l.94 2.06.94-2.06 2.06-.94-2.06-.94-.94-2.06-.94 2.06-2.06.94zm-11 1L8.5 8.5l.94-2.06 2.06-.94-2.06-.94L8.5 2.5l-.94 2.06-2.06.94zm10 10l.94 2.06.94-2.06 2.06-.94-2.06-.94-.94-2.06-.94 2.06-2.06.94z\"/><path d=\"M17.41 7.96l-1.37-1.37c-.4-.4-.92-.59-1.43-.59-.52 0-1.04.2-1.43.59L10.3 9.45l-7.72 7.72c-.78.78-.78 2.05 0 2.83L4 21.41c.39.39.9.59 1.41.59.51 0 1.02-.2 1.41-.59l7.78-7.78 2.81-2.81c.8-.78.8-2.07 0-2.86zM5.41 20L4 18.59l7.72-7.72 1.47 1.35L5.41 20z\"/>\n",
              "  </svg>\n",
              "      </button>\n",
              "\n",
              "\n",
              "\n",
              "    <div id=\"df-31710a4d-e21c-4e6a-a09c-1d58bc2b3033\">\n",
              "      <button class=\"colab-df-quickchart\" onclick=\"quickchart('df-31710a4d-e21c-4e6a-a09c-1d58bc2b3033')\"\n",
              "              title=\"Suggest charts.\"\n",
              "              style=\"display:none;\">\n",
              "\n",
              "<svg xmlns=\"http://www.w3.org/2000/svg\" height=\"24px\"viewBox=\"0 0 24 24\"\n",
              "     width=\"24px\">\n",
              "    <g>\n",
              "        <path d=\"M19 3H5c-1.1 0-2 .9-2 2v14c0 1.1.9 2 2 2h14c1.1 0 2-.9 2-2V5c0-1.1-.9-2-2-2zM9 17H7v-7h2v7zm4 0h-2V7h2v10zm4 0h-2v-4h2v4z\"/>\n",
              "    </g>\n",
              "</svg>\n",
              "      </button>\n",
              "    </div>\n",
              "\n",
              "<style>\n",
              "  .colab-df-quickchart {\n",
              "    background-color: #E8F0FE;\n",
              "    border: none;\n",
              "    border-radius: 50%;\n",
              "    cursor: pointer;\n",
              "    display: none;\n",
              "    fill: #1967D2;\n",
              "    height: 32px;\n",
              "    padding: 0 0 0 0;\n",
              "    width: 32px;\n",
              "  }\n",
              "\n",
              "  .colab-df-quickchart:hover {\n",
              "    background-color: #E2EBFA;\n",
              "    box-shadow: 0px 1px 2px rgba(60, 64, 67, 0.3), 0px 1px 3px 1px rgba(60, 64, 67, 0.15);\n",
              "    fill: #174EA6;\n",
              "  }\n",
              "\n",
              "  [theme=dark] .colab-df-quickchart {\n",
              "    background-color: #3B4455;\n",
              "    fill: #D2E3FC;\n",
              "  }\n",
              "\n",
              "  [theme=dark] .colab-df-quickchart:hover {\n",
              "    background-color: #434B5C;\n",
              "    box-shadow: 0px 1px 3px 1px rgba(0, 0, 0, 0.15);\n",
              "    filter: drop-shadow(0px 1px 2px rgba(0, 0, 0, 0.3));\n",
              "    fill: #FFFFFF;\n",
              "  }\n",
              "</style>\n",
              "\n",
              "    <script>\n",
              "      async function quickchart(key) {\n",
              "        const containerElement = document.querySelector('#' + key);\n",
              "        const charts = await google.colab.kernel.invokeFunction(\n",
              "            'suggestCharts', [key], {});\n",
              "      }\n",
              "    </script>\n",
              "\n",
              "      <script>\n",
              "\n",
              "function displayQuickchartButton(domScope) {\n",
              "  let quickchartButtonEl =\n",
              "    domScope.querySelector('#df-31710a4d-e21c-4e6a-a09c-1d58bc2b3033 button.colab-df-quickchart');\n",
              "  quickchartButtonEl.style.display =\n",
              "    google.colab.kernel.accessAllowed ? 'block' : 'none';\n",
              "}\n",
              "\n",
              "        displayQuickchartButton(document);\n",
              "      </script>\n",
              "      <style>\n",
              "    .colab-df-container {\n",
              "      display:flex;\n",
              "      flex-wrap:wrap;\n",
              "      gap: 12px;\n",
              "    }\n",
              "\n",
              "    .colab-df-convert {\n",
              "      background-color: #E8F0FE;\n",
              "      border: none;\n",
              "      border-radius: 50%;\n",
              "      cursor: pointer;\n",
              "      display: none;\n",
              "      fill: #1967D2;\n",
              "      height: 32px;\n",
              "      padding: 0 0 0 0;\n",
              "      width: 32px;\n",
              "    }\n",
              "\n",
              "    .colab-df-convert:hover {\n",
              "      background-color: #E2EBFA;\n",
              "      box-shadow: 0px 1px 2px rgba(60, 64, 67, 0.3), 0px 1px 3px 1px rgba(60, 64, 67, 0.15);\n",
              "      fill: #174EA6;\n",
              "    }\n",
              "\n",
              "    [theme=dark] .colab-df-convert {\n",
              "      background-color: #3B4455;\n",
              "      fill: #D2E3FC;\n",
              "    }\n",
              "\n",
              "    [theme=dark] .colab-df-convert:hover {\n",
              "      background-color: #434B5C;\n",
              "      box-shadow: 0px 1px 3px 1px rgba(0, 0, 0, 0.15);\n",
              "      filter: drop-shadow(0px 1px 2px rgba(0, 0, 0, 0.3));\n",
              "      fill: #FFFFFF;\n",
              "    }\n",
              "  </style>\n",
              "\n",
              "      <script>\n",
              "        const buttonEl =\n",
              "          document.querySelector('#df-57c86636-4f02-483d-876b-b8d84bfa722a button.colab-df-convert');\n",
              "        buttonEl.style.display =\n",
              "          google.colab.kernel.accessAllowed ? 'block' : 'none';\n",
              "\n",
              "        async function convertToInteractive(key) {\n",
              "          const element = document.querySelector('#df-57c86636-4f02-483d-876b-b8d84bfa722a');\n",
              "          const dataTable =\n",
              "            await google.colab.kernel.invokeFunction('convertToInteractive',\n",
              "                                                     [key], {});\n",
              "          if (!dataTable) return;\n",
              "\n",
              "          const docLinkHtml = 'Like what you see? Visit the ' +\n",
              "            '<a target=\"_blank\" href=https://colab.research.google.com/notebooks/data_table.ipynb>data table notebook</a>'\n",
              "            + ' to learn more about interactive tables.';\n",
              "          element.innerHTML = '';\n",
              "          dataTable['output_type'] = 'display_data';\n",
              "          await google.colab.output.renderOutput(dataTable, element);\n",
              "          const docLink = document.createElement('div');\n",
              "          docLink.innerHTML = docLinkHtml;\n",
              "          element.appendChild(docLink);\n",
              "        }\n",
              "      </script>\n",
              "    </div>\n",
              "  </div>\n"
            ]
          },
          "metadata": {},
          "execution_count": 40
        }
      ],
      "source": [
        "df_fix.describe()"
      ]
    },
    {
      "cell_type": "code",
      "execution_count": null,
      "metadata": {
        "jupyter": {
          "outputs_hidden": false
        },
        "id": "7wEZ_cju65TG"
      },
      "outputs": [],
      "source": [
        "# Find Suitable Histogram Bins\n",
        "fix_bins = find_hist_bins(fix_durations['All Sectors'])"
      ]
    },
    {
      "cell_type": "code",
      "execution_count": null,
      "metadata": {
        "jupyter": {
          "outputs_hidden": false
        },
        "colab": {
          "base_uri": "https://localhost:8080/",
          "height": 492
        },
        "id": "8z26bd3X65TG",
        "outputId": "d866e4ea-ace7-4e9e-d07e-139ea3fb63b0"
      },
      "outputs": [
        {
          "output_type": "display_data",
          "data": {
            "text/plain": [
              "<Figure size 640x480 with 4 Axes>"
            ],
            "image/png": "[encoded data removed]"
          },
          "metadata": {}
        }
      ],
      "source": [
        "figure, axes = plot_histogram(df_fix,\n",
        "                              fix_bins,\n",
        "                              figure_title=\"Leak Fix Time\"\n",
        "                              )"
      ]
    },
    {
      "cell_type": "code",
      "execution_count": null,
      "metadata": {
        "jupyter": {
          "outputs_hidden": false
        },
        "colab": {
          "base_uri": "https://localhost:8080/",
          "height": 492
        },
        "id": "PBzoCeTT65TG",
        "outputId": "4c3cca9a-6570-4c36-99e8-c2eafe4c669d"
      },
      "outputs": [
        {
          "output_type": "display_data",
          "data": {
            "text/plain": [
              "<Figure size 640x480 with 4 Axes>"
            ],
            "image/png": "[encoded data removed]"
          },
          "metadata": {}
        }
      ],
      "source": [
        "figure, axes = plot_histogram(df_fix,\n",
        "                              fix_bins,\n",
        "                              same_y_limits=True,\n",
        "                              figure_title=\"Leak Fix Time (Normalized)\"\n",
        "                              )"
      ]
    },
    {
      "cell_type": "markdown",
      "metadata": {
        "collapsed": false,
        "jupyter": {
          "outputs_hidden": false
        },
        "id": "O_226LoA65TG"
      },
      "source": [
        "# Question 4\n",
        "What percentage of observed methane leaks were reported fixed by an operator but still had methane plumes observed by the satellite at the location afterwards?"
      ]
    },
    {
      "cell_type": "markdown",
      "metadata": {
        "collapsed": false,
        "jupyter": {
          "outputs_hidden": false
        },
        "id": "tHTQc4k665TG"
      },
      "source": [
        "### Answer Methodology\n",
        "1. This question is interpreted as, \"Of all the facilities that reported methane leaks were fixed, what fraction of these facilities had a subsequent satellite plume detected\"\n",
        "2. The ticket_manager method plume_after_fix() was used to determine which facilities had closed a ticket with a leak fixed response and then subsequently a new ticket was created at that facility.\n"
      ]
    },
    {
      "cell_type": "markdown",
      "metadata": {
        "collapsed": false,
        "jupyter": {
          "outputs_hidden": false
        },
        "id": "JA0Xu0Sy65TG"
      },
      "source": [
        "## Analysis"
      ]
    },
    {
      "cell_type": "code",
      "execution_count": null,
      "metadata": {
        "jupyter": {
          "outputs_hidden": false
        },
        "id": "TDJ4cAdv65TG"
      },
      "outputs": [],
      "source": [
        "plume_by_sector_counts, plume_by_facility_counts = ticket_manager.plume_after_fix()\n",
        "suspect_facilities_counts = plume_by_facility_counts"
      ]
    },
    {
      "cell_type": "code",
      "execution_count": null,
      "metadata": {
        "jupyter": {
          "outputs_hidden": false
        },
        "colab": {
          "base_uri": "https://localhost:8080/"
        },
        "id": "8Kkl3qST65TG",
        "outputId": "fbb1132d-48df-4753-d4cb-88251d167df7"
      },
      "outputs": [
        {
          "output_type": "execute_result",
          "data": {
            "text/plain": [
              "{'Dairy': 0, 'Landfill': 0, 'Oil and Gas': 7, 'All Sectors': 7}"
            ]
          },
          "metadata": {},
          "execution_count": 45
        }
      ],
      "source": [
        "# Find the number of plumes by sector detected at a facility after it indicated\n",
        "# the leak was fixed\n",
        "plume_by_sector_counts"
      ]
    },
    {
      "cell_type": "code",
      "execution_count": null,
      "metadata": {
        "jupyter": {
          "outputs_hidden": false
        },
        "colab": {
          "base_uri": "https://localhost:8080/"
        },
        "id": "tas9VTpu65TG",
        "outputId": "204b2a51-5763-496e-be5f-a98968e00f67"
      },
      "outputs": [
        {
          "output_type": "execute_result",
          "data": {
            "text/plain": [
              "{243: 2, 292: 2, 177: 2, 122: 1}"
            ]
          },
          "metadata": {},
          "execution_count": 46
        }
      ],
      "source": [
        "# Find the facilities associated with plumes after fix\n",
        "plume_by_facility_counts"
      ]
    },
    {
      "cell_type": "code",
      "execution_count": null,
      "metadata": {
        "jupyter": {
          "outputs_hidden": false
        },
        "id": "fQTh0Xbn65TG"
      },
      "outputs": [],
      "source": [
        "# Find the percentage of times a facility reported a leak as fixed\n",
        "# that subsequently was found to be still leaking"
      ]
    },
    {
      "cell_type": "code",
      "execution_count": null,
      "metadata": {
        "jupyter": {
          "outputs_hidden": false
        },
        "colab": {
          "base_uri": "https://localhost:8080/"
        },
        "id": "Heku28Hc65TG",
        "outputId": "fc861c1e-5ed2-4199-e614-b1cfff1c17d2"
      },
      "outputs": [
        {
          "output_type": "execute_result",
          "data": {
            "text/plain": [
              "(4, 58, 0.06896551724137931)"
            ]
          },
          "metadata": {},
          "execution_count": 48
        }
      ],
      "source": [
        "count_operator_leak_after_fix = len(plume_by_facility_counts)\n",
        "total_count_operator_reports_fixed = df_satellite_pivot.loc[2, 2][0]\n",
        "fraction_leak_after_fix = count_operator_leak_after_fix / total_count_operator_reports_fixed\n",
        "count_operator_leak_after_fix, total_count_operator_reports_fixed, fraction_leak_after_fix"
      ]
    },
    {
      "cell_type": "code",
      "execution_count": null,
      "metadata": {
        "jupyter": {
          "outputs_hidden": false
        },
        "colab": {
          "base_uri": "https://localhost:8080/"
        },
        "id": "3r9j_faD65TG",
        "outputId": "a3f4d738-cc58-4450-ff9c-c48915724262"
      },
      "outputs": [
        {
          "output_type": "stream",
          "name": "stdout",
          "text": [
            "{   'id': 58,\n",
            "    'location id': 243,\n",
            "    'is_open': False,\n",
            "    'sector': 'Oil and Gas',\n",
            "    'creation_time': Timestamp('2024-07-15 05:46:00'),\n",
            "    'confirm_time': Timestamp('2024-07-20 03:12:00'),\n",
            "    'fixed_time': Timestamp('2024-07-22 05:56:00'),\n",
            "    'satellite plume count': 6,\n",
            "    'self.satellite_non_plume_count': 0,\n",
            "    'satellite measurement count': 6,\n",
            "    'self.plume_count_after_no_leak_detected': 0}\n",
            "{   'id': 63,\n",
            "    'location id': 243,\n",
            "    'is_open': True,\n",
            "    'sector': 'Oil and Gas',\n",
            "    'creation_time': Timestamp('2024-07-22 06:27:00'),\n",
            "    'confirm_time': None,\n",
            "    'fixed_time': None,\n",
            "    'satellite plume count': 2,\n",
            "    'self.satellite_non_plume_count': 106,\n",
            "    'satellite measurement count': 108,\n",
            "    'self.plume_count_after_no_leak_detected': 0}\n",
            "{   'id': 82,\n",
            "    'location id': 292,\n",
            "    'is_open': False,\n",
            "    'sector': 'Oil and Gas',\n",
            "    'creation_time': Timestamp('2024-09-23 18:13:00'),\n",
            "    'confirm_time': Timestamp('2024-09-26 01:46:00'),\n",
            "    'fixed_time': Timestamp('2024-09-27 21:41:00'),\n",
            "    'satellite plume count': 4,\n",
            "    'self.satellite_non_plume_count': 0,\n",
            "    'satellite measurement count': 4,\n",
            "    'self.plume_count_after_no_leak_detected': 0}\n",
            "{   'id': 84,\n",
            "    'location id': 292,\n",
            "    'is_open': True,\n",
            "    'sector': 'Oil and Gas',\n",
            "    'creation_time': Timestamp('2024-09-28 14:18:00'),\n",
            "    'confirm_time': None,\n",
            "    'fixed_time': None,\n",
            "    'satellite plume count': 2,\n",
            "    'self.satellite_non_plume_count': 61,\n",
            "    'satellite measurement count': 63,\n",
            "    'self.plume_count_after_no_leak_detected': 0}\n",
            "{   'id': 100,\n",
            "    'location id': 177,\n",
            "    'is_open': False,\n",
            "    'sector': 'Oil and Gas',\n",
            "    'creation_time': Timestamp('2024-12-06 18:20:00'),\n",
            "    'confirm_time': Timestamp('2024-12-08 10:08:00'),\n",
            "    'fixed_time': Timestamp('2024-12-12 07:43:00'),\n",
            "    'satellite plume count': 5,\n",
            "    'self.satellite_non_plume_count': 0,\n",
            "    'satellite measurement count': 5,\n",
            "    'self.plume_count_after_no_leak_detected': 0}\n",
            "{   'id': 102,\n",
            "    'location id': 177,\n",
            "    'is_open': True,\n",
            "    'sector': 'Oil and Gas',\n",
            "    'creation_time': Timestamp('2024-12-12 13:01:00'),\n",
            "    'confirm_time': None,\n",
            "    'fixed_time': None,\n",
            "    'satellite plume count': 2,\n",
            "    'self.satellite_non_plume_count': 12,\n",
            "    'satellite measurement count': 14,\n",
            "    'self.plume_count_after_no_leak_detected': 0}\n",
            "{   'id': 106,\n",
            "    'location id': 122,\n",
            "    'is_open': False,\n",
            "    'sector': 'Oil and Gas',\n",
            "    'creation_time': Timestamp('2024-12-30 16:46:00'),\n",
            "    'confirm_time': Timestamp('2024-12-31 12:51:00'),\n",
            "    'fixed_time': Timestamp('2025-01-03 09:54:00'),\n",
            "    'satellite plume count': 5,\n",
            "    'self.satellite_non_plume_count': 0,\n",
            "    'satellite measurement count': 5,\n",
            "    'self.plume_count_after_no_leak_detected': 0}\n",
            "{   'id': 107,\n",
            "    'location id': 122,\n",
            "    'is_open': True,\n",
            "    'sector': 'Oil and Gas',\n",
            "    'creation_time': Timestamp('2025-01-04 12:01:00'),\n",
            "    'confirm_time': None,\n",
            "    'fixed_time': None,\n",
            "    'satellite plume count': 1,\n",
            "    'self.satellite_non_plume_count': 0,\n",
            "    'satellite measurement count': 1,\n",
            "    'self.plume_count_after_no_leak_detected': 0}\n"
          ]
        }
      ],
      "source": [
        "# Summary ticketing information about plume after fix facilities\n",
        "for location_id in plume_by_facility_counts:\n",
        "  for ticket in ticket_manager.tickets[location_id]:\n",
        "    print(ticket)"
      ]
    },
    {
      "cell_type": "code",
      "execution_count": null,
      "metadata": {
        "jupyter": {
          "outputs_hidden": false
        },
        "colab": {
          "base_uri": "https://localhost:8080/"
        },
        "id": "l-J4D3Hv65TH",
        "outputId": "64801976-4bd8-4ee6-be56-7fdb1ee35c85"
      },
      "outputs": [
        {
          "output_type": "stream",
          "name": "stdout",
          "text": [
            "{   'id': 58,\n",
            "    'location id': 243,\n",
            "    'is_open': False,\n",
            "    'sector': 'Oil and Gas',\n",
            "    'creation_time': Timestamp('2024-07-15 05:46:00'),\n",
            "    'confirm_time': Timestamp('2024-07-20 03:12:00'),\n",
            "    'fixed_time': Timestamp('2024-07-22 05:56:00'),\n",
            "    'satellite plume count': 6,\n",
            "    'self.satellite_non_plume_count': 0,\n",
            "    'satellite measurement count': 6,\n",
            "    'self.plume_count_after_no_leak_detected': 0,\n",
            "    'satellite_data': {   <SatelliteEvent.no_methane_plume: 0>: [],\n",
            "                          <SatelliteEvent.small_methane_plume: 1>: [],\n",
            "                          <SatelliteEvent.medium_methane_plume: 2>: [   39258,\n",
            "                                                                        39574,\n",
            "                                                                        39614,\n",
            "                                                                        39842,\n",
            "                                                                        40136,\n",
            "                                                                        40365],\n",
            "                          <SatelliteEvent.large_methane_plume: 3>: [],\n",
            "                          <SatelliteEvent.cloud_cover: 4>: []}}\n",
            "{   'id': 63,\n",
            "    'location id': 243,\n",
            "    'is_open': True,\n",
            "    'sector': 'Oil and Gas',\n",
            "    'creation_time': Timestamp('2024-07-22 06:27:00'),\n",
            "    'confirm_time': None,\n",
            "    'fixed_time': None,\n",
            "    'satellite plume count': 2,\n",
            "    'self.satellite_non_plume_count': 106,\n",
            "    'satellite measurement count': 108,\n",
            "    'self.plume_count_after_no_leak_detected': 0,\n",
            "    'satellite_data': {   <SatelliteEvent.no_methane_plume: 0>: [   41772,\n",
            "                                                                    42139,\n",
            "                                                                    42543,\n",
            "                                                                    42739,\n",
            "                                                                    43373,\n",
            "                                                                    43722,\n",
            "                                                                    43920,\n",
            "                                                                    44646,\n",
            "                                                                    44972,\n",
            "                                                                    45180,\n",
            "                                                                    45445,\n",
            "                                                                    45732,\n",
            "                                                                    46041,\n",
            "                                                                    46432,\n",
            "                                                                    46799,\n",
            "                                                                    47183,\n",
            "                                                                    47406,\n",
            "                                                                    47755,\n",
            "                                                                    48129,\n",
            "                                                                    48371,\n",
            "                                                                    48649,\n",
            "                                                                    48936,\n",
            "                                                                    49194,\n",
            "                                                                    49677,\n",
            "                                                                    49963,\n",
            "                                                                    50176,\n",
            "                                                                    50553,\n",
            "                                                                    50845,\n",
            "                                                                    51095,\n",
            "                                                                    51312,\n",
            "                                                                    51642,\n",
            "                                                                    51944,\n",
            "                                                                    52182,\n",
            "                                                                    52478,\n",
            "                                                                    52707,\n",
            "                                                                    52914,\n",
            "                                                                    53308,\n",
            "                                                                    53625,\n",
            "                                                                    53892,\n",
            "                                                                    54180,\n",
            "                                                                    54382,\n",
            "                                                                    54738,\n",
            "                                                                    55030,\n",
            "                                                                    55333,\n",
            "                                                                    55601,\n",
            "                                                                    56005,\n",
            "                                                                    56292,\n",
            "                                                                    56572,\n",
            "                                                                    56937,\n",
            "                                                                    57153,\n",
            "                                                                    57487,\n",
            "                                                                    57889,\n",
            "                                                                    58519,\n",
            "                                                                    58743,\n",
            "                                                                    59052,\n",
            "                                                                    59320,\n",
            "                                                                    59531,\n",
            "                                                                    59916,\n",
            "                                                                    60261,\n",
            "                                                                    60631,\n",
            "                                                                    60987,\n",
            "                                                                    61297,\n",
            "                                                                    61644,\n",
            "                                                                    61871,\n",
            "                                                                    62177,\n",
            "                                                                    62483,\n",
            "                                                                    62712,\n",
            "                                                                    62915,\n",
            "                                                                    63261,\n",
            "                                                                    63478,\n",
            "                                                                    63719,\n",
            "                                                                    64080,\n",
            "                                                                    64451,\n",
            "                                                                    65111,\n",
            "                                                                    65484,\n",
            "                                                                    65850,\n",
            "                                                                    66144,\n",
            "                                                                    66423,\n",
            "                                                                    66744,\n",
            "                                                                    67064,\n",
            "                                                                    67281,\n",
            "                                                                    67563,\n",
            "                                                                    67764,\n",
            "                                                                    68122,\n",
            "                                                                    68528,\n",
            "                                                                    68781,\n",
            "                                                                    69024,\n",
            "                                                                    69309,\n",
            "                                                                    69709,\n",
            "                                                                    70069,\n",
            "                                                                    70278,\n",
            "                                                                    70643,\n",
            "                                                                    70962,\n",
            "                                                                    71290,\n",
            "                                                                    71596,\n",
            "                                                                    71825,\n",
            "                                                                    72194,\n",
            "                                                                    72415,\n",
            "                                                                    72790,\n",
            "                                                                    73117,\n",
            "                                                                    73362],\n",
            "                          <SatelliteEvent.small_methane_plume: 1>: [],\n",
            "                          <SatelliteEvent.medium_methane_plume: 2>: [   40673,\n",
            "                                                                        41411],\n",
            "                          <SatelliteEvent.large_methane_plume: 3>: [],\n",
            "                          <SatelliteEvent.cloud_cover: 4>: [   43089,\n",
            "                                                               44279,\n",
            "                                                               49451,\n",
            "                                                               58260,\n",
            "                                                               64791]}}\n",
            "{   'id': 82,\n",
            "    'location id': 292,\n",
            "    'is_open': False,\n",
            "    'sector': 'Oil and Gas',\n",
            "    'creation_time': Timestamp('2024-09-23 18:13:00'),\n",
            "    'confirm_time': Timestamp('2024-09-26 01:46:00'),\n",
            "    'fixed_time': Timestamp('2024-09-27 21:41:00'),\n",
            "    'satellite plume count': 4,\n",
            "    'self.satellite_non_plume_count': 0,\n",
            "    'satellite measurement count': 4,\n",
            "    'self.plume_count_after_no_leak_detected': 0,\n",
            "    'satellite_data': {   <SatelliteEvent.no_methane_plume: 0>: [],\n",
            "                          <SatelliteEvent.small_methane_plume: 1>: [   53799,\n",
            "                                                                       54041],\n",
            "                          <SatelliteEvent.medium_methane_plume: 2>: [   53422,\n",
            "                                                                        53557],\n",
            "                          <SatelliteEvent.large_methane_plume: 3>: [],\n",
            "                          <SatelliteEvent.cloud_cover: 4>: []}}\n",
            "{   'id': 84,\n",
            "    'location id': 292,\n",
            "    'is_open': True,\n",
            "    'sector': 'Oil and Gas',\n",
            "    'creation_time': Timestamp('2024-09-28 14:18:00'),\n",
            "    'confirm_time': None,\n",
            "    'fixed_time': None,\n",
            "    'satellite plume count': 2,\n",
            "    'self.satellite_non_plume_count': 61,\n",
            "    'satellite measurement count': 63,\n",
            "    'self.plume_count_after_no_leak_detected': 0,\n",
            "    'satellite_data': {   <SatelliteEvent.no_methane_plume: 0>: [   55214,\n",
            "                                                                    55429,\n",
            "                                                                    55690,\n",
            "                                                                    56001,\n",
            "                                                                    56334,\n",
            "                                                                    56630,\n",
            "                                                                    56935,\n",
            "                                                                    57337,\n",
            "                                                                    57619,\n",
            "                                                                    57854,\n",
            "                                                                    58104,\n",
            "                                                                    58398,\n",
            "                                                                    58632,\n",
            "                                                                    58928,\n",
            "                                                                    59229,\n",
            "                                                                    59634,\n",
            "                                                                    59992,\n",
            "                                                                    60358,\n",
            "                                                                    60691,\n",
            "                                                                    60901,\n",
            "                                                                    61130,\n",
            "                                                                    61447,\n",
            "                                                                    62025,\n",
            "                                                                    62429,\n",
            "                                                                    62811,\n",
            "                                                                    63155,\n",
            "                                                                    63485,\n",
            "                                                                    63716,\n",
            "                                                                    63909,\n",
            "                                                                    64291,\n",
            "                                                                    64643,\n",
            "                                                                    64994,\n",
            "                                                                    65335,\n",
            "                                                                    65641,\n",
            "                                                                    65995,\n",
            "                                                                    66237,\n",
            "                                                                    66478,\n",
            "                                                                    66841,\n",
            "                                                                    67184,\n",
            "                                                                    67493,\n",
            "                                                                    67707,\n",
            "                                                                    68205,\n",
            "                                                                    68568,\n",
            "                                                                    68865,\n",
            "                                                                    69072,\n",
            "                                                                    69372,\n",
            "                                                                    69780,\n",
            "                                                                    70016,\n",
            "                                                                    70282,\n",
            "                                                                    70611,\n",
            "                                                                    70942,\n",
            "                                                                    71287,\n",
            "                                                                    71618,\n",
            "                                                                    71899,\n",
            "                                                                    72162,\n",
            "                                                                    72549,\n",
            "                                                                    72755,\n",
            "                                                                    72975,\n",
            "                                                                    73341],\n",
            "                          <SatelliteEvent.small_methane_plume: 1>: [   54384,\n",
            "                                                                       54949],\n",
            "                          <SatelliteEvent.medium_methane_plume: 2>: [],\n",
            "                          <SatelliteEvent.large_methane_plume: 3>: [],\n",
            "                          <SatelliteEvent.cloud_cover: 4>: [61734, 67977]}}\n",
            "{   'id': 100,\n",
            "    'location id': 177,\n",
            "    'is_open': False,\n",
            "    'sector': 'Oil and Gas',\n",
            "    'creation_time': Timestamp('2024-12-06 18:20:00'),\n",
            "    'confirm_time': Timestamp('2024-12-08 10:08:00'),\n",
            "    'fixed_time': Timestamp('2024-12-12 07:43:00'),\n",
            "    'satellite plume count': 5,\n",
            "    'self.satellite_non_plume_count': 0,\n",
            "    'satellite measurement count': 5,\n",
            "    'self.plume_count_after_no_leak_detected': 0,\n",
            "    'satellite_data': {   <SatelliteEvent.no_methane_plume: 0>: [],\n",
            "                          <SatelliteEvent.small_methane_plume: 1>: [   68240,\n",
            "                                                                       68546],\n",
            "                          <SatelliteEvent.medium_methane_plume: 2>: [   68600,\n",
            "                                                                        68816,\n",
            "                                                                        69188],\n",
            "                          <SatelliteEvent.large_methane_plume: 3>: [],\n",
            "                          <SatelliteEvent.cloud_cover: 4>: []}}\n",
            "{   'id': 102,\n",
            "    'location id': 177,\n",
            "    'is_open': True,\n",
            "    'sector': 'Oil and Gas',\n",
            "    'creation_time': Timestamp('2024-12-12 13:01:00'),\n",
            "    'confirm_time': None,\n",
            "    'fixed_time': None,\n",
            "    'satellite plume count': 2,\n",
            "    'self.satellite_non_plume_count': 12,\n",
            "    'satellite measurement count': 14,\n",
            "    'self.plume_count_after_no_leak_detected': 0,\n",
            "    'satellite_data': {   <SatelliteEvent.no_methane_plume: 0>: [   70275,\n",
            "                                                                    70529,\n",
            "                                                                    70794,\n",
            "                                                                    71057,\n",
            "                                                                    71363,\n",
            "                                                                    71674,\n",
            "                                                                    71910,\n",
            "                                                                    72259,\n",
            "                                                                    72515,\n",
            "                                                                    72768,\n",
            "                                                                    73148,\n",
            "                                                                    73402],\n",
            "                          <SatelliteEvent.small_methane_plume: 1>: [   69402,\n",
            "                                                                       69963],\n",
            "                          <SatelliteEvent.medium_methane_plume: 2>: [],\n",
            "                          <SatelliteEvent.large_methane_plume: 3>: [],\n",
            "                          <SatelliteEvent.cloud_cover: 4>: []}}\n",
            "{   'id': 106,\n",
            "    'location id': 122,\n",
            "    'is_open': False,\n",
            "    'sector': 'Oil and Gas',\n",
            "    'creation_time': Timestamp('2024-12-30 16:46:00'),\n",
            "    'confirm_time': Timestamp('2024-12-31 12:51:00'),\n",
            "    'fixed_time': Timestamp('2025-01-03 09:54:00'),\n",
            "    'satellite plume count': 5,\n",
            "    'self.satellite_non_plume_count': 0,\n",
            "    'satellite measurement count': 5,\n",
            "    'self.plume_count_after_no_leak_detected': 0,\n",
            "    'satellite_data': {   <SatelliteEvent.no_methane_plume: 0>: [],\n",
            "                          <SatelliteEvent.small_methane_plume: 1>: [   73044,\n",
            "                                                                       73157],\n",
            "                          <SatelliteEvent.medium_methane_plume: 2>: [   73309,\n",
            "                                                                        73529,\n",
            "                                                                        73613],\n",
            "                          <SatelliteEvent.large_methane_plume: 3>: [],\n",
            "                          <SatelliteEvent.cloud_cover: 4>: []}}\n",
            "{   'id': 107,\n",
            "    'location id': 122,\n",
            "    'is_open': True,\n",
            "    'sector': 'Oil and Gas',\n",
            "    'creation_time': Timestamp('2025-01-04 12:01:00'),\n",
            "    'confirm_time': None,\n",
            "    'fixed_time': None,\n",
            "    'satellite plume count': 1,\n",
            "    'self.satellite_non_plume_count': 0,\n",
            "    'satellite measurement count': 1,\n",
            "    'self.plume_count_after_no_leak_detected': 0,\n",
            "    'satellite_data': {   <SatelliteEvent.no_methane_plume: 0>: [],\n",
            "                          <SatelliteEvent.small_methane_plume: 1>: [],\n",
            "                          <SatelliteEvent.medium_methane_plume: 2>: [],\n",
            "                          <SatelliteEvent.large_methane_plume: 3>: [73615],\n",
            "                          <SatelliteEvent.cloud_cover: 4>: []}}\n"
          ]
        }
      ],
      "source": [
        "# Detailed ticketing information about plume after fix facilities\n",
        "for location_id in plume_by_facility_counts:\n",
        "  for ticket in ticket_manager.tickets[location_id]:\n",
        "    print(repr(ticket))"
      ]
    },
    {
      "cell_type": "markdown",
      "metadata": {
        "collapsed": false,
        "jupyter": {
          "outputs_hidden": false
        },
        "id": "ysb3rzH_65TH"
      },
      "source": [
        "## Answer"
      ]
    },
    {
      "cell_type": "markdown",
      "metadata": {
        "collapsed": false,
        "jupyter": {
          "outputs_hidden": false
        },
        "id": "DWFfweMJ65TH"
      },
      "source": [
        "Four locations had a total of 7 leaks detected by satellite after they previously indicated that a leak was fixed.  All four of these facilities are in the Oil and Gas Sector.  Of the 58 instances that facilities indicated they fixed a leak only 4 had subsequent leaks indicating that approximately 6.9% (4/58) facilities had measurements after leaks.\n",
        "\n",
        "Table 1.\n",
        "Facility ID, Number of Satellite Plumes Detected subsequently\n",
        " 122, 1\n",
        " 177, 2\n",
        " 243, 2\n",
        " 292, 2\n"
      ]
    },
    {
      "cell_type": "markdown",
      "metadata": {
        "collapsed": false,
        "jupyter": {
          "outputs_hidden": false
        },
        "id": "0ztnm5vb65TH"
      },
      "source": [
        "# Question 5\n",
        "How many observed methane leaks remain unresolved? (i.e. a plume is still being observed, or the absence of a plume has not yet been confirmed by satellite"
      ]
    },
    {
      "cell_type": "markdown",
      "metadata": {
        "collapsed": false,
        "jupyter": {
          "outputs_hidden": false
        },
        "id": "8KUEq1xL65TH"
      },
      "source": [
        "### Answer Methodology\n",
        "There are a variety of reasonable ways to address this question.  One way to consider a leak resolved is if an operator confirms and fixes a leak, and then CARB has multiple satellite non-detects above the facility to confirm there is no longer a leak.  Perhaps a similar, but more extensive verification process is required if a facility issues a no-leak-detected event rather than a fixed event.  One could envision the usefulness of CARB administrative event protocols/codes to close open plume tickets.\n",
        "\n",
        "For this analysis, a leak is considered unresolved if its associated ticket has not been closed with a leak-fixed event.  In addition, all of the plumes (both before and after a fixed event) associated with the facilities that had plumes detected after they fixed them are considered unresolved for this analysis.\n",
        "\n",
        "This question will be answered in the following steps.\n",
        "1. Use the Ticket Manager to determine how many plumes were detected after an operator indicated that they could find a leak.\n",
        "2. Use the Ticket Manager to determine plumes associated with tickets that are not closed.\n",
        "3. Find all plumes associated with the Facilities that indicated they fixed a leak, but then plumes were subsequently detected.\n"
      ]
    },
    {
      "cell_type": "markdown",
      "metadata": {
        "collapsed": false,
        "jupyter": {
          "outputs_hidden": false
        },
        "id": "tGpIZDXy65TH"
      },
      "source": [
        "Find plume counts detected at facilities after an operator indicated that no leak was detected."
      ]
    },
    {
      "cell_type": "code",
      "execution_count": null,
      "metadata": {
        "jupyter": {
          "outputs_hidden": false
        },
        "colab": {
          "base_uri": "https://localhost:8080/"
        },
        "id": "h4SVTPig65TH",
        "outputId": "93fb6acc-2c46-4c3b-abb3-01e6fa6c0e42"
      },
      "outputs": [
        {
          "output_type": "execute_result",
          "data": {
            "text/plain": [
              "{'Dairy': 31, 'Landfill': 22, 'Oil and Gas': 111, 'All Sectors': 164}"
            ]
          },
          "metadata": {},
          "execution_count": 51
        }
      ],
      "source": [
        "no_leak_found_by_sector, no_leak_found_by_facility = ticket_manager.plume_after_no_leak_found()\n",
        "no_leak_found_by_sector"
      ]
    },
    {
      "cell_type": "markdown",
      "metadata": {
        "collapsed": false,
        "jupyter": {
          "outputs_hidden": false
        },
        "id": "QuaDs3vM65TH"
      },
      "source": [
        "Find fixed plumes"
      ]
    },
    {
      "cell_type": "code",
      "execution_count": null,
      "metadata": {
        "jupyter": {
          "outputs_hidden": false
        },
        "id": "9wdPXzcm65TH"
      },
      "outputs": [],
      "source": [
        "fixed_by_sector = ticket_manager.fixed_plumes()"
      ]
    },
    {
      "cell_type": "code",
      "execution_count": null,
      "metadata": {
        "jupyter": {
          "outputs_hidden": false
        },
        "colab": {
          "base_uri": "https://localhost:8080/"
        },
        "id": "_3E6yd6X65TH",
        "outputId": "1d170c51-5a48-49cc-8dd5-0826bf9c96f0"
      },
      "outputs": [
        {
          "output_type": "execute_result",
          "data": {
            "text/plain": [
              "{'Dairy': 49, 'Landfill': 77, 'Oil and Gas': 162, 'All Sectors': 288}"
            ]
          },
          "metadata": {},
          "execution_count": 53
        }
      ],
      "source": [
        "fixed_by_sector"
      ]
    },
    {
      "cell_type": "markdown",
      "metadata": {
        "collapsed": false,
        "jupyter": {
          "outputs_hidden": false
        },
        "id": "wLsyq6-i65TH"
      },
      "source": [
        "Find plumes that are unresolved because they are on open tickets"
      ]
    },
    {
      "cell_type": "code",
      "execution_count": null,
      "metadata": {
        "jupyter": {
          "outputs_hidden": false
        },
        "id": "AHCPd0KB65TH"
      },
      "outputs": [],
      "source": [
        "# Ticket manager will create a list of keyed by sector and individual facilities\n",
        "open_ticket_by_sector, open_ticket_by_facility = ticket_manager.unresolved_plumes()"
      ]
    },
    {
      "cell_type": "code",
      "execution_count": null,
      "metadata": {
        "jupyter": {
          "outputs_hidden": false
        },
        "colab": {
          "base_uri": "https://localhost:8080/"
        },
        "id": "o8GvCCT065TH",
        "outputId": "2a756c99-eff5-4d25-b38b-95503e8ddc4e"
      },
      "outputs": [
        {
          "output_type": "execute_result",
          "data": {
            "text/plain": [
              "{'Dairy': 81, 'Landfill': 80, 'Oil and Gas': 241, 'All Sectors': 402}"
            ]
          },
          "metadata": {},
          "execution_count": 55
        }
      ],
      "source": [
        "open_ticket_by_sector"
      ]
    },
    {
      "cell_type": "markdown",
      "metadata": {
        "collapsed": false,
        "jupyter": {
          "outputs_hidden": false
        },
        "id": "V4iSLlN465TH"
      },
      "source": [
        "Sum fixed and unresolved as a double check\n",
        "Note that these calculations agree with Question 1 results"
      ]
    },
    {
      "cell_type": "code",
      "execution_count": null,
      "metadata": {
        "jupyter": {
          "outputs_hidden": false
        },
        "colab": {
          "base_uri": "https://localhost:8080/"
        },
        "id": "sfHd1i2465TH",
        "outputId": "ce623507-0899-4c59-c769-a204ab66cb3f"
      },
      "outputs": [
        {
          "output_type": "execute_result",
          "data": {
            "text/plain": [
              "{'Dairy': 130, 'Landfill': 157, 'Oil and Gas': 403, 'All Sectors': 690}"
            ]
          },
          "metadata": {},
          "execution_count": 56
        }
      ],
      "source": [
        "total_plumes = {}\n",
        "for key in fixed_by_sector:\n",
        "  total_plumes[key] = fixed_by_sector[key] + open_ticket_by_sector[key]\n",
        "total_plumes"
      ]
    },
    {
      "cell_type": "markdown",
      "metadata": {
        "collapsed": false,
        "jupyter": {
          "outputs_hidden": false
        },
        "id": "kLvWB2Ri65TH"
      },
      "source": [
        "Find the plumes associated with the fixed but later detected associated with Question 4"
      ]
    },
    {
      "cell_type": "code",
      "execution_count": null,
      "metadata": {
        "jupyter": {
          "outputs_hidden": false
        },
        "colab": {
          "base_uri": "https://localhost:8080/"
        },
        "id": "REZ8suVl65TH",
        "outputId": "402c0bbe-d22a-4cbc-d39e-f0acb629d5a3"
      },
      "outputs": [
        {
          "output_type": "execute_result",
          "data": {
            "text/plain": [
              "{243: 2, 292: 2, 177: 2, 122: 1}"
            ]
          },
          "metadata": {},
          "execution_count": 57
        }
      ],
      "source": [
        "# Plume counts after a leak fixed event at suspect facilities\n",
        "suspect_facilities_counts"
      ]
    },
    {
      "cell_type": "code",
      "execution_count": null,
      "metadata": {
        "jupyter": {
          "outputs_hidden": false
        },
        "id": "UIoYzZZC65TH"
      },
      "outputs": [],
      "source": [
        "suspect_plume_counts = {}\n",
        "for location_id in suspect_facilities_counts:\n",
        "  plume_count = ticket_manager.plumes_by_location_id(location_id)\n",
        "  suspect_plume_counts[location_id] = plume_count"
      ]
    },
    {
      "cell_type": "code",
      "execution_count": null,
      "metadata": {
        "jupyter": {
          "outputs_hidden": false
        },
        "colab": {
          "base_uri": "https://localhost:8080/"
        },
        "id": "vHrKMXSZ65TH",
        "outputId": "f84d2188-208b-4570-dc22-668ab07c6e48"
      },
      "outputs": [
        {
          "output_type": "execute_result",
          "data": {
            "text/plain": [
              "{243: 8, 292: 6, 177: 7, 122: 6}"
            ]
          },
          "metadata": {},
          "execution_count": 59
        }
      ],
      "source": [
        "# Plume counts before and after a leak fixed event at suspect facilities\n",
        "suspect_plume_counts"
      ]
    },
    {
      "cell_type": "code",
      "execution_count": null,
      "metadata": {
        "jupyter": {
          "outputs_hidden": false
        },
        "colab": {
          "base_uri": "https://localhost:8080/"
        },
        "id": "SwUzuay965TH",
        "outputId": "326e68e2-f22b-4d0b-9432-f0ff03337e2c"
      },
      "outputs": [
        {
          "output_type": "execute_result",
          "data": {
            "text/plain": [
              "27"
            ]
          },
          "metadata": {},
          "execution_count": 60
        }
      ],
      "source": [
        "total_suspect_plumes = sum(suspect_plume_counts.values())\n",
        "total_suspect_plumes"
      ]
    },
    {
      "cell_type": "code",
      "execution_count": null,
      "metadata": {
        "jupyter": {
          "outputs_hidden": false
        },
        "colab": {
          "base_uri": "https://localhost:8080/"
        },
        "id": "BzZc6ubn65TH",
        "outputId": "1d933abc-1f7a-4966-c3d4-35782f9adc5e"
      },
      "outputs": [
        {
          "output_type": "execute_result",
          "data": {
            "text/plain": [
              "{'Dairy': 81, 'Landfill': 80, 'Oil and Gas': 268, 'All Sectors': 429}"
            ]
          },
          "metadata": {},
          "execution_count": 61
        }
      ],
      "source": [
        "# Update total plumes to include fixed + suspect plumes\n",
        "open_ticket_by_sector['Oil and Gas'] += total_suspect_plumes\n",
        "open_ticket_by_sector['All Sectors'] += total_suspect_plumes\n",
        "open_ticket_by_sector"
      ]
    },
    {
      "cell_type": "markdown",
      "metadata": {
        "collapsed": false,
        "jupyter": {
          "outputs_hidden": false
        },
        "id": "5hz5keNq65TH"
      },
      "source": [
        "## Answer\n",
        "It was found that 164 plumes were detected at facilities after they indicated that no leak was detected.  As such, using a facility response of no leak detected would not be a good method to consider a plume resolved on its own.\n",
        "\n",
        "For this analysis, it was determined that the following plumes should be considered unresolved because they were on open tickets:\n",
        "\n",
        "{'Dairy': 81, 'Landfill': 80, 'Oil and Gas': 241, 'All Sectors': 402}\n",
        "\n",
        "In addition, the 27 plumes that are associated with the 4 facilities that had plume detections after they reported a leak fixed (7 of which occurred after the leak fixed event and 20 before) should also be considered unresolved.\n",
        "\n",
        "As such, the total plumes to be considered unresolved should be:\n",
        "{'Dairy': 81, 'Landfill': 80, 'Oil and Gas': 268, 'All Sectors': 429}\n"
      ]
    },
    {
      "cell_type": "markdown",
      "metadata": {
        "collapsed": false,
        "jupyter": {
          "outputs_hidden": false
        },
        "id": "9-sFXX4f65TH"
      },
      "source": [
        "# Question 6\n",
        "Are there any methane plume observations found in the dataset that you feel CARB should treat as a high priority to investigate further?\n"
      ]
    },
    {
      "cell_type": "markdown",
      "metadata": {
        "collapsed": false,
        "jupyter": {
          "outputs_hidden": false
        },
        "id": "KvMDxTtL65TI"
      },
      "source": [
        "## Answer\n",
        "There is only one large plume event in the sample dataset that occurred at facility 122 at timestamp 2025-01-04 12:01.  This single large plume occurred at one of the four facilities that had satellite plume detection after the operator indicated a leak was fixed.  Given the large size of the plume, the fact that the facility has had 6 satellite total plume detections over the sampling period, and is at a site where plumes have been detected after fixing make it the highest priority for CARB to investigate further.\n",
        "\n"
      ]
    },
    {
      "cell_type": "markdown",
      "metadata": {
        "collapsed": false,
        "jupyter": {
          "outputs_hidden": false
        },
        "id": "ayPBeW4h65TI"
      },
      "source": [
        "# Question 7\n",
        "Briefly describe your approach to answering these questions.  What tools and techniques did you use?\n"
      ]
    },
    {
      "cell_type": "markdown",
      "metadata": {
        "collapsed": false,
        "jupyter": {
          "outputs_hidden": false
        },
        "id": "k-YJ-77c65TI"
      },
      "source": [
        "### Answer\n",
        "This notebook documents all tools and techniques used to answer Questions 1-6"
      ]
    }
  ],
  "metadata": {
    "kernelspec": {
      "display_name": "Python 3 (ipykernel)",
      "language": "python",
      "name": "python3"
    },
    "language_info": {
      "codemirror_mode": {
        "name": "ipython",
        "version": 3
      },
      "file_extension": ".py",
      "mimetype": "text/x-python",
      "name": "python",
      "nbconvert_exporter": "python",
      "pygments_lexer": "ipython3",
      "version": "3.10.11"
    },
    "colab": {
      "provenance": [],
      "include_colab_link": true
    }
  },
  "nbformat": 4,
  "nbformat_minor": 0
}